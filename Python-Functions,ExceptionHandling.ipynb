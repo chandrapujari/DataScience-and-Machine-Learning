{
 "cells": [
  {
   "cell_type": "markdown",
   "id": "4786880a",
   "metadata": {},
   "source": [
    "# Functions:\n",
    "\n",
    "     function is a block of code which only runs when it is called.\n",
    "     =================================================================\n",
    "     Why functions are required?\n",
    "     \n",
    "     The idea is to put some commonly or repeatedly done tasks together and make a function so that instead of writing the same code again and again for different inputs, we can do the function calls to reuse code contained in it over and over again.\n",
    "     ==================================================================\n",
    "     Parameters:\n",
    "     \n",
    "     We can pass data into a function known as parameters.In result function can return data.\n",
    "     \n",
    "     "
   ]
  },
  {
   "cell_type": "markdown",
   "id": "2e526432",
   "metadata": {},
   "source": [
    "Syntax:\n",
    "\n",
    "    def function_name(parameters):\n",
    "    statement(s)\n",
    "    return expression\n",
    "    \n",
    "  def: def is a keyword which is used to define a function.\n",
    "  \n",
    "  parameters: A parameter is the variable listed inside the parentheses in the function definition.\n",
    "  \n",
    "  return : It's a keyword,the function return statement is used to exit from a function and go back to the function caller and return the specified value or data item to the caller.\n",
    "  The return statement is used at the end of the function and returns the result of the function. It terminates the function execution and transfers the result where the function is called. The return statement cannot be used outside of the function.\n",
    "  "
   ]
  },
  {
   "cell_type": "markdown",
   "id": "36976c39",
   "metadata": {},
   "source": [
    "Calling a Function:\n",
    "    \n",
    "To call a function, use the function name followed by parenthesis.\n",
    "    \n",
    "Arguments of a Function:\n",
    "    \n",
    "Arguments are the values passed inside the parenthesis of the function. A function can have any number of arguments separated by a comma."
   ]
  },
  {
   "cell_type": "code",
   "execution_count": 1,
   "id": "53dffa8e",
   "metadata": {},
   "outputs": [],
   "source": [
    "def fun1 ():\n",
    "    print(\"Howdy\")"
   ]
  },
  {
   "cell_type": "code",
   "execution_count": 6,
   "id": "7457af11",
   "metadata": {},
   "outputs": [
    {
     "name": "stdout",
     "output_type": "stream",
     "text": [
      "Howdy\n"
     ]
    }
   ],
   "source": [
    "fun1()"
   ]
  },
  {
   "cell_type": "code",
   "execution_count": 7,
   "id": "c901395f",
   "metadata": {},
   "outputs": [],
   "source": [
    "def square (x):\n",
    "    return x**2"
   ]
  },
  {
   "cell_type": "code",
   "execution_count": 9,
   "id": "bc2dccc0",
   "metadata": {},
   "outputs": [
    {
     "name": "stdout",
     "output_type": "stream",
     "text": [
      "4\n",
      "16\n",
      "36\n",
      "64\n"
     ]
    }
   ],
   "source": [
    "#find out the square of numbers given in list\n",
    "l1=[2,4,6,8]\n",
    "for i in l1:\n",
    "    print(square(i))"
   ]
  },
  {
   "cell_type": "code",
   "execution_count": 10,
   "id": "84c24243",
   "metadata": {},
   "outputs": [
    {
     "data": {
      "text/plain": [
       "6"
      ]
     },
     "execution_count": 10,
     "metadata": {},
     "output_type": "execute_result"
    }
   ],
   "source": [
    "def fun2 (x,y):\n",
    "    return x*y\n",
    "fun2(2,3)"
   ]
  },
  {
   "cell_type": "markdown",
   "id": "33186447",
   "metadata": {},
   "source": [
    "There are mainly two types of functions.\n",
    "\n",
    "1. User-define functions - The user-defined functions are those define by the user to perform the specific task.\n",
    "2. Built-in functions    - The built-in functions are those functions that are pre-defined in Python."
   ]
  },
  {
   "cell_type": "markdown",
   "id": "2ff4705b",
   "metadata": {},
   "source": [
    "# User-Defined Functions:\n",
    "User defined function are nothing but it is defined by user so s/he can reuse the code component over and over as per need."
   ]
  },
  {
   "cell_type": "code",
   "execution_count": 1,
   "id": "aef6cd8e",
   "metadata": {},
   "outputs": [
    {
     "data": {
      "text/plain": [
       "30"
      ]
     },
     "execution_count": 1,
     "metadata": {},
     "output_type": "execute_result"
    }
   ],
   "source": [
    "#Function with return statement:\n",
    "\n",
    "def sum(a,b):\n",
    "    c=a+b\n",
    "    return c\n",
    "sum(10,20)"
   ]
  },
  {
   "cell_type": "code",
   "execution_count": 2,
   "id": "f604eba6",
   "metadata": {},
   "outputs": [],
   "source": [
    "# Function without return statement:\n",
    "\n",
    "def sum(a,b):\n",
    "    c=a+b\n",
    "sum(10,30)"
   ]
  },
  {
   "cell_type": "markdown",
   "id": "f82850ed",
   "metadata": {},
   "source": [
    "Note: Without return statement function won't provide output."
   ]
  },
  {
   "cell_type": "markdown",
   "id": "64d5c0db",
   "metadata": {},
   "source": [
    "Arguments:\n",
    "    The arguments are types of information which can be passed into the function. \n",
    "    The arguments are specified in the parentheses. \n",
    "    We can pass any number of arguments, but they must be separate them with a comma.\n",
    "    \n",
    " Types of arguments:\n",
    " \n",
    " There may be several types of arguments which can be passed at the time of function call mainly we can categories in four types:\n",
    " \n",
    "1. Required arguments\n",
    "2. Keyword arguments\n",
    "3. Default arguments\n",
    "4. Variable-length arguments\n",
    "\n"
   ]
  },
  {
   "cell_type": "markdown",
   "id": "9329105b",
   "metadata": {},
   "source": [
    "1. Required Arguments:\n",
    "    \n",
    "    The required arguments which are required to be passed at the time of function calling with the exact match of their positions in the function call and function definition.\n",
    "    If either of the arguments is not provided in the function call, or the position of the arguments is changed, the Python interpreter will show the error."
   ]
  },
  {
   "cell_type": "code",
   "execution_count": 3,
   "id": "29251e8c",
   "metadata": {},
   "outputs": [
    {
     "name": "stdout",
     "output_type": "stream",
     "text": [
      "Enter the principle amount? 1000\n",
      "Enter the rate of interest? 4\n",
      "Enter the time in years? 3\n",
      "Simple Interest:  120.0\n"
     ]
    }
   ],
   "source": [
    "def simple_interest(p,t,r):    \n",
    "    return (p*t*r)/100    \n",
    "p = float(input(\"Enter the principle amount? \"))    \n",
    "r = float(input(\"Enter the rate of interest? \"))    \n",
    "t = float(input(\"Enter the time in years? \"))    \n",
    "print(\"Simple Interest: \",simple_interest(p,r,t))    "
   ]
  },
  {
   "cell_type": "code",
   "execution_count": 4,
   "id": "d0e1213c",
   "metadata": {},
   "outputs": [
    {
     "ename": "TypeError",
     "evalue": "calculate() missing 1 required positional argument: 'b'",
     "output_type": "error",
     "traceback": [
      "\u001b[1;31m---------------------------------------------------------------------------\u001b[0m",
      "\u001b[1;31mTypeError\u001b[0m                                 Traceback (most recent call last)",
      "\u001b[1;32m<ipython-input-4-8f55fc7e3171>\u001b[0m in \u001b[0;36m<module>\u001b[1;34m\u001b[0m\n\u001b[0;32m      2\u001b[0m \u001b[1;32mdef\u001b[0m \u001b[0mcalculate\u001b[0m\u001b[1;33m(\u001b[0m\u001b[0ma\u001b[0m\u001b[1;33m,\u001b[0m\u001b[0mb\u001b[0m\u001b[1;33m)\u001b[0m\u001b[1;33m:\u001b[0m\u001b[1;33m\u001b[0m\u001b[1;33m\u001b[0m\u001b[0m\n\u001b[0;32m      3\u001b[0m     \u001b[1;32mreturn\u001b[0m \u001b[0ma\u001b[0m\u001b[1;33m+\u001b[0m\u001b[0mb\u001b[0m\u001b[1;33m\u001b[0m\u001b[1;33m\u001b[0m\u001b[0m\n\u001b[1;32m----> 4\u001b[1;33m \u001b[0mcalculate\u001b[0m\u001b[1;33m(\u001b[0m\u001b[1;36m10\u001b[0m\u001b[1;33m)\u001b[0m \u001b[1;31m# this causes an error as we are missing a required arguments b.\u001b[0m\u001b[1;33m\u001b[0m\u001b[1;33m\u001b[0m\u001b[0m\n\u001b[0m",
      "\u001b[1;31mTypeError\u001b[0m: calculate() missing 1 required positional argument: 'b'"
     ]
    }
   ],
   "source": [
    "#the function calculate returns the sum of two arguments a and b    \n",
    "def calculate(a,b):    \n",
    "    return a+b    \n",
    "calculate(10) # this causes an error as we are missing a required arguments b.   "
   ]
  },
  {
   "cell_type": "markdown",
   "id": "528277da",
   "metadata": {},
   "source": [
    "2. Default Argument:\n",
    "    \n",
    "    Python allows us to initialize the arguments at the function definition. \n",
    "    If the value of any of the arguments is not provided at the time of function call, \n",
    "    then that argument can be initialized with the value given in the definition even if the argument is not specified at the function call."
   ]
  },
  {
   "cell_type": "code",
   "execution_count": 5,
   "id": "3d744cfd",
   "metadata": {},
   "outputs": [
    {
     "name": "stdout",
     "output_type": "stream",
     "text": [
      "My name is john and age is 22\n"
     ]
    }
   ],
   "source": [
    "def printme(name,age=22):    \n",
    "    print(\"My name is\",name,\"and age is\",age)    \n",
    "printme(name = \"john\")  \n",
    "\n",
    "#Note: In this above example age is alreay initialized in function definition."
   ]
  },
  {
   "cell_type": "markdown",
   "id": "c948d59c",
   "metadata": {},
   "source": [
    "Note: \n",
    "\n",
    "    In real time project we generally don't aware that how many numbers of arguments to be passed in function.\n",
    "    In such case python provides us the flexibility to offer the comma-separated values which are internally \n",
    "    treated as tuples at the function call. \n",
    "    \n",
    "    By using the variable-length arguments, we can pass any number of arguments."
   ]
  },
  {
   "cell_type": "markdown",
   "id": "678b3851",
   "metadata": {},
   "source": [
    "2. Variable Length Argument:\n",
    "Variable length arguments provide us flexibility to pass arguments as many as we want.\n",
    "At the time of function definition, we define the variable-length argument using the *args (star) as *<variable - name >."
   ]
  },
  {
   "cell_type": "code",
   "execution_count": 17,
   "id": "ed93682f",
   "metadata": {},
   "outputs": [],
   "source": [
    "def table(*value):\n",
    "    list1=list()\n",
    "    for v in value:\n",
    "        i=1\n",
    "        while i<=10:\n",
    "            list1.append(v*i)\n",
    "            i=i+1\n",
    "    return list1"
   ]
  },
  {
   "cell_type": "code",
   "execution_count": 18,
   "id": "4f46efb7",
   "metadata": {
    "scrolled": true
   },
   "outputs": [
    {
     "data": {
      "text/plain": [
       "[2,\n",
       " 4,\n",
       " 6,\n",
       " 8,\n",
       " 10,\n",
       " 12,\n",
       " 14,\n",
       " 16,\n",
       " 18,\n",
       " 20,\n",
       " 4,\n",
       " 8,\n",
       " 12,\n",
       " 16,\n",
       " 20,\n",
       " 24,\n",
       " 28,\n",
       " 32,\n",
       " 36,\n",
       " 40,\n",
       " 8,\n",
       " 16,\n",
       " 24,\n",
       " 32,\n",
       " 40,\n",
       " 48,\n",
       " 56,\n",
       " 64,\n",
       " 72,\n",
       " 80]"
      ]
     },
     "execution_count": 18,
     "metadata": {},
     "output_type": "execute_result"
    }
   ],
   "source": [
    "table(2,4,8)"
   ]
  },
  {
   "cell_type": "markdown",
   "id": "f088423e",
   "metadata": {},
   "source": [
    "3. Keyword arguments(**kwargs):\n",
    "\n",
    "Python allows us to call the function with the keyword arguments. This kind of function call will enable us to pass the arguments in the random order.\n",
    "\n",
    "The name of the arguments is treated as the keywords and matched in the function calling and definition. If the same match is found, the values of the arguments are copied in the function definition."
   ]
  },
  {
   "cell_type": "markdown",
   "id": "737c61f5",
   "metadata": {},
   "source": [
    "1. In this below example,function is called with the a and b as the keyword arguments."
   ]
  },
  {
   "cell_type": "code",
   "execution_count": 1,
   "id": "8d82a204",
   "metadata": {},
   "outputs": [
    {
     "data": {
      "text/plain": [
       "200"
      ]
     },
     "execution_count": 1,
     "metadata": {},
     "output_type": "execute_result"
    }
   ],
   "source": [
    "def mul(a,b):\n",
    "    c=a*b\n",
    "    return(c)\n",
    "mul(a=10,b=20)"
   ]
  },
  {
   "cell_type": "markdown",
   "id": "0490f1c1",
   "metadata": {},
   "source": [
    "Note: If we provide the different name of arguments at the time of function call, an error will be thrown."
   ]
  },
  {
   "cell_type": "code",
   "execution_count": 2,
   "id": "bc906a35",
   "metadata": {},
   "outputs": [
    {
     "ename": "TypeError",
     "evalue": "mul() got an unexpected keyword argument 'a1'",
     "output_type": "error",
     "traceback": [
      "\u001b[1;31m---------------------------------------------------------------------------\u001b[0m",
      "\u001b[1;31mTypeError\u001b[0m                                 Traceback (most recent call last)",
      "\u001b[1;32m<ipython-input-2-aecd2a18360f>\u001b[0m in \u001b[0;36m<module>\u001b[1;34m\u001b[0m\n\u001b[0;32m      2\u001b[0m     \u001b[0mc\u001b[0m\u001b[1;33m=\u001b[0m\u001b[0ma\u001b[0m\u001b[1;33m*\u001b[0m\u001b[0mb\u001b[0m\u001b[1;33m\u001b[0m\u001b[1;33m\u001b[0m\u001b[0m\n\u001b[0;32m      3\u001b[0m     \u001b[1;32mreturn\u001b[0m \u001b[0mc\u001b[0m\u001b[1;33m\u001b[0m\u001b[1;33m\u001b[0m\u001b[0m\n\u001b[1;32m----> 4\u001b[1;33m \u001b[0mmul\u001b[0m\u001b[1;33m(\u001b[0m\u001b[0ma1\u001b[0m\u001b[1;33m=\u001b[0m\u001b[1;36m10\u001b[0m\u001b[1;33m,\u001b[0m\u001b[0mb1\u001b[0m\u001b[1;33m=\u001b[0m\u001b[1;36m20\u001b[0m\u001b[1;33m)\u001b[0m\u001b[1;33m\u001b[0m\u001b[1;33m\u001b[0m\u001b[0m\n\u001b[0m",
      "\u001b[1;31mTypeError\u001b[0m: mul() got an unexpected keyword argument 'a1'"
     ]
    }
   ],
   "source": [
    "def mul (a,b):\n",
    "    c=a*b\n",
    "    return c\n",
    "mul(a1=10,b1=20)"
   ]
  },
  {
   "cell_type": "markdown",
   "id": "5316428e",
   "metadata": {},
   "source": [
    "The Python allows us to provide the mix of the required arguments and keyword arguments at the time of function call. \n",
    "However, the required argument must not be given after the keyword argument, i.e., once the keyword argument is encountered in the function call, the following arguments must also be the keyword arguments."
   ]
  },
  {
   "cell_type": "code",
   "execution_count": 3,
   "id": "5821903f",
   "metadata": {},
   "outputs": [
    {
     "name": "stdout",
     "output_type": "stream",
     "text": [
      "chandraShekharpujari\n"
     ]
    }
   ],
   "source": [
    "def func1(v1,v2,v3):\n",
    "    print(v1+v2+v3)\n",
    "\n",
    "func1(\"chandra\",\"Shekhar\",v3=\"pujari\")\n",
    "    "
   ]
  },
  {
   "cell_type": "code",
   "execution_count": 4,
   "id": "3bc3cb72",
   "metadata": {},
   "outputs": [
    {
     "ename": "SyntaxError",
     "evalue": "positional argument follows keyword argument (<ipython-input-4-c4cb2d893b95>, line 4)",
     "output_type": "error",
     "traceback": [
      "\u001b[1;36m  File \u001b[1;32m\"<ipython-input-4-c4cb2d893b95>\"\u001b[1;36m, line \u001b[1;32m4\u001b[0m\n\u001b[1;33m    func1(\"chandra\",v2=\"Shekhar\",\"pujari\")\u001b[0m\n\u001b[1;37m                                 ^\u001b[0m\n\u001b[1;31mSyntaxError\u001b[0m\u001b[1;31m:\u001b[0m positional argument follows keyword argument\n"
     ]
    }
   ],
   "source": [
    "def func1(v1,v2,v3):\n",
    "    print(v1+v2+v3)\n",
    "\n",
    "func1(\"chandra\",v2=\"Shekhar\",\"pujari\")\n",
    "\n",
    "#Note:due to an in-proper mix of keyword and required arguments being passed in the function call."
   ]
  },
  {
   "cell_type": "markdown",
   "id": "4813d992",
   "metadata": {},
   "source": [
    "Python provides the facility to pass the multiple keyword arguments which can be represented as **kwargs. \n",
    "It is similar as the *args but it stores the argument in the dictionary format.\n",
    "\n",
    "This type of arguments is useful when we do not know the number of arguments in advance."
   ]
  },
  {
   "cell_type": "code",
   "execution_count": 7,
   "id": "514de9c8",
   "metadata": {},
   "outputs": [
    {
     "name": "stdout",
     "output_type": "stream",
     "text": [
      "chandra\n",
      "shekhar\n",
      "pujari\n"
     ]
    }
   ],
   "source": [
    "def func1(**karg):\n",
    "    for i in karg.values():\n",
    "        print(i)\n",
    "        \n",
    "func1(val1=\"chandra\",val2=\"shekhar\",val3=\"pujari\")"
   ]
  },
  {
   "cell_type": "code",
   "execution_count": 8,
   "id": "fdeffd62",
   "metadata": {},
   "outputs": [
    {
     "name": "stdout",
     "output_type": "stream",
     "text": [
      "{'val1': 'chandra', 'val2': 'shekhar', 'val3': 'pujari'}\n"
     ]
    }
   ],
   "source": [
    "def func1(**karg):\n",
    "        print(karg)\n",
    "        \n",
    "func1(val1=\"chandra\",val2=\"shekhar\",val3=\"pujari\")\n",
    "\n",
    "#Note: It stores arguments in dictionary format."
   ]
  },
  {
   "cell_type": "markdown",
   "id": "fc3d0766",
   "metadata": {},
   "source": [
    "# Scope of variables\n",
    "\n",
    "The scopes of the variables depend upon the location where the variable is being declared. \n",
    "\n",
    "The variable declared in one part of the program may not be accessible to the other parts.\n",
    "\n",
    "In python, the variables are defined with the two types of scopes.\n",
    "\n",
    "1. Global variables\n",
    "2. Local variables\n",
    "\n",
    "The variable defined outside any function is known to have a global scope, whereas the variable defined inside a function is known to have a local scope."
   ]
  },
  {
   "cell_type": "code",
   "execution_count": 3,
   "id": "2f572093",
   "metadata": {},
   "outputs": [
    {
     "name": "stdout",
     "output_type": "stream",
     "text": [
      "Value of j outside of funnction: 0\n",
      "[100, 200, 300, 400]\n",
      "Value of j inside function: 10\n"
     ]
    }
   ],
   "source": [
    "def function1(*value):\n",
    "    list1=list()\n",
    "    j=10   #-----------------------------> Variable declared inside function hence scope of variable is inside the function(local variable)\n",
    "    for i in value:\n",
    "        list1.append(i*j)\n",
    "    print(list1)\n",
    "    print(\"Value of j inside function:\"+\" \"+str(j))\n",
    "j=0   #----------------------------------> Variable declared outside of the function called global variable.\n",
    "print(\"Value of j outside of funnction:\"+\" \"+str(j))\n",
    "\n",
    "function1(10,20,30,40)\n",
    "        "
   ]
  },
  {
   "cell_type": "markdown",
   "id": "d777b805",
   "metadata": {},
   "source": [
    "# Python Lambda Function:\n",
    "\n",
    "Lambda function is an anonymous function, Which is defined without name.\n",
    "\n",
    "This type of function is defined with lambda keyword instead of def keyword.\n",
    "\n",
    "Lambda functions can accept any number of arguments, but they can return only one value in the form of expression.\n",
    "\n",
    "Syntax\n",
    "\n",
    "lambda arguments: expression "
   ]
  },
  {
   "cell_type": "code",
   "execution_count": 4,
   "id": "80ea6fba",
   "metadata": {},
   "outputs": [
    {
     "name": "stdout",
     "output_type": "stream",
     "text": [
      "<function <lambda> at 0x000001F469C42CA0>\n",
      "Sum= 30\n"
     ]
    }
   ],
   "source": [
    "X=lambda a:a+10\n",
    "print(X)\n",
    "\n",
    "print(\"Sum=\",X(20))\n"
   ]
  },
  {
   "cell_type": "code",
   "execution_count": 11,
   "id": "665d32ac",
   "metadata": {},
   "outputs": [
    {
     "name": "stdout",
     "output_type": "stream",
     "text": [
      "Enter the number:10\n",
      "10 X 1 = 10\n",
      "10 X 2 = 20\n",
      "10 X 3 = 30\n",
      "10 X 4 = 40\n",
      "10 X 5 = 50\n",
      "10 X 6 = 60\n",
      "10 X 7 = 70\n",
      "10 X 8 = 80\n",
      "10 X 9 = 90\n",
      "10 X 10 = 100\n"
     ]
    }
   ],
   "source": [
    "n = int(input(\"Enter the number:\")) \n",
    "def table(n):    \n",
    "    return lambda a:a*n\n",
    "b = table(n)\n",
    "for i in range(1,11):\n",
    "    print(n,\"X\",i,\"=\",b(i))"
   ]
  },
  {
   "cell_type": "markdown",
   "id": "c6a1d384",
   "metadata": {},
   "source": [
    "The lambda function is commonly used with Python built-in functions filter() function and map() function."
   ]
  },
  {
   "cell_type": "markdown",
   "id": "a85f36b2",
   "metadata": {},
   "source": [
    "# Use lambda function with filter():\n",
    "The Python built-in filter() function accepts a function and a list as an argument. \n",
    "It provides an effective way to filter out all elements of the sequence. \n",
    "It returns the new sequence in which the function evaluates to True."
   ]
  },
  {
   "cell_type": "code",
   "execution_count": 24,
   "id": "57ab2d06",
   "metadata": {},
   "outputs": [
    {
     "name": "stdout",
     "output_type": "stream",
     "text": [
      "[37, 41, 123, 29]\n"
     ]
    }
   ],
   "source": [
    "#program to filter out the tuple which contains odd numbers\n",
    "\n",
    "lst = (10,22,37,41,100,123,29)\n",
    "t1 = list(filter(lambda x:(x%2!=0),lst))\n",
    "print(t1)"
   ]
  },
  {
   "cell_type": "markdown",
   "id": "79ee7ba6",
   "metadata": {},
   "source": [
    "#  Using lambda function with map():\n",
    "The map() function in Python accepts a function and a list. \n",
    "It gives a new list which contains all modified items returned by the function for each item."
   ]
  },
  {
   "cell_type": "code",
   "execution_count": 25,
   "id": "bf0f4f44",
   "metadata": {},
   "outputs": [
    {
     "name": "stdout",
     "output_type": "stream",
     "text": [
      "[100, 400, 900, 1600, 2500, 3600]\n"
     ]
    }
   ],
   "source": [
    "lst = (10,20,30,40,50,60)\n",
    "\n",
    "square_list = list(map(lambda x:x**2,lst)) \n",
    "\n",
    "# the list contains all the items of the list for which the lambda function evaluates to true\n",
    "\n",
    "print(square_list)  "
   ]
  },
  {
   "cell_type": "markdown",
   "id": "f2671ec1",
   "metadata": {},
   "source": [
    "# Python Exception:\n",
    "\n",
    "Exception is an error occured in program which interrupt the flow of program.\n",
    "\n",
    "Python provides a way to handle the exception so that the code can be executed without any interruption. \n",
    "\n",
    "If we do not handle the exception, the interpreter doesn't execute all the code that exists after the exception."
   ]
  },
  {
   "cell_type": "markdown",
   "id": "43d6d551",
   "metadata": {},
   "source": [
    "If we think code is suspecious and it might throw an exception then we must use try-except.\n",
    "\n",
    "If code is suspecious then we should place or write code inside the try block followed with except block.\n",
    "\n",
    "Inside the except block we should write the code which should execute if code throws exception in try block.\n",
    "\n",
    "Note:The try block must be followed with the except statement, which contains a block of code that will be executed if there is some exception in the try block.\n",
    "\n",
    "Syntax:\n",
    "======\n",
    "try:    \n",
    "    #block of code     \n",
    "    \n",
    "except Exception1:    \n",
    "    #block of code    \n",
    "    \n",
    "except Exception2:    \n",
    "    #block of code    \n",
    "    \n",
    "#other code  "
   ]
  },
  {
   "cell_type": "code",
   "execution_count": 38,
   "id": "8bcf2b65",
   "metadata": {},
   "outputs": [
    {
     "data": {
      "text/plain": [
       "1.0"
      ]
     },
     "execution_count": 38,
     "metadata": {},
     "output_type": "execute_result"
    }
   ],
   "source": [
    "try:\n",
    "    def fun1(a,b):\n",
    "        c=a/b\n",
    "        return c\n",
    "except Exception as e:\n",
    "    print(e)\n",
    "\n",
    "fun1(2,2)\n"
   ]
  },
  {
   "cell_type": "code",
   "execution_count": 31,
   "id": "869fd858",
   "metadata": {},
   "outputs": [
    {
     "name": "stdout",
     "output_type": "stream",
     "text": [
      "Enter a:2\n",
      "Enter b:0\n",
      "division by zero\n"
     ]
    }
   ],
   "source": [
    "try:  \n",
    "    a = int(input(\"Enter a:\"))    \n",
    "    b = int(input(\"Enter b:\"))    \n",
    "    c = a/b  \n",
    "except Exception as e:  \n",
    "    print(e)  "
   ]
  },
  {
   "cell_type": "markdown",
   "id": "d103c97e",
   "metadata": {},
   "source": [
    "We can also use the else statement with the try-except statement in which, we can place the code which will be executed in the scenario if no exception occurs in the try block.\n",
    "\n",
    "\n",
    "We can use the exception variable with the except statement. It is used by using the AS keyword. this object will return the cause of the exception.\n",
    "\n",
    "We can declare multiple exceptions in the except statement since the try block may contain the statements which throw the different type of exceptions.\n"
   ]
  },
  {
   "cell_type": "code",
   "execution_count": 8,
   "id": "6258391e",
   "metadata": {},
   "outputs": [
    {
     "name": "stdout",
     "output_type": "stream",
     "text": [
      "Enter a:1\n",
      "Enter b:1\n",
      "a/b = 1\n",
      "Hi I am else block\n"
     ]
    }
   ],
   "source": [
    "try:    \n",
    "    a = int(input(\"Enter a:\"))    \n",
    "    b = int(input(\"Enter b:\"))    \n",
    "    c = a/b  \n",
    "    print(\"a/b = %d\"%c)    \n",
    "# Using Exception with except statement. If we print(Exception) it will return exception class  \n",
    "except Exception as e:    \n",
    "    print(\"can't divide by zero\")    \n",
    "    print(e)  \n",
    "else:    \n",
    "    print(\"Hi I am else block\")     "
   ]
  },
  {
   "cell_type": "code",
   "execution_count": 7,
   "id": "64fad57e",
   "metadata": {},
   "outputs": [
    {
     "name": "stdout",
     "output_type": "stream",
     "text": [
      "Enter a:1\n",
      "Enter b:0\n",
      "division by zero\n"
     ]
    }
   ],
   "source": [
    "try:    \n",
    "    a = int(input(\"Enter a:\"))    \n",
    "    b = int(input(\"Enter b:\"))    \n",
    "    c = a/b  \n",
    "    print(\"a/b = %d\"%c)    \n",
    "# Using Exception with except statement. If we print(Exception) it will return exception class  \n",
    "except Exception as e1:     \n",
    "    print(e1)  \n",
    "else:    \n",
    "    print(\"Hi I am else block\") "
   ]
  },
  {
   "cell_type": "markdown",
   "id": "9ef64cb7",
   "metadata": {},
   "source": [
    "# Finally Block:\n",
    "\n",
    "Python provide us facility to use finally block with try block but it's optional.\n",
    "\n",
    "If code inside try block throws an exception still finally block executes."
   ]
  },
  {
   "cell_type": "code",
   "execution_count": 28,
   "id": "0a3c5952",
   "metadata": {},
   "outputs": [
    {
     "name": "stdout",
     "output_type": "stream",
     "text": [
      "not writable\n",
      "file closed\n"
     ]
    }
   ],
   "source": [
    "try:    \n",
    "    fileptr = open(\"file2.txt\",\"r\")      \n",
    "    fileptr.write(\"Hi I am good\")\n",
    "\n",
    "except Exception as e:\n",
    "    print(e)\n",
    "    \n",
    "finally:\n",
    "    fileptr.close()\n",
    "    print(\"file closed\")\n",
    "\n"
   ]
  },
  {
   "cell_type": "markdown",
   "id": "0a3e7e12",
   "metadata": {},
   "source": [
    "# Raising exceptions:\n",
    "\n",
    "Some times we need to raise exception forcefully just because of business requirement.\n",
    "\n",
    "lets say we have a scenario where we have to check value of the variable and if value of variable exceed from certain threshold then raise exception.\n",
    "\n",
    "\n",
    "1. To raise an exception, the raise statement is used. The exception class name follows it.\n",
    "2. An exception can be provided with a value that can be given in the parenthesis.\n",
    "3. To access the value \"as\" keyword is used. \"e\" is used as a reference variable which stores the value of the exception.\n",
    "4. We can pass the value to an exception to specify the exception type."
   ]
  },
  {
   "cell_type": "code",
   "execution_count": 34,
   "id": "11a33aa0",
   "metadata": {},
   "outputs": [
    {
     "name": "stdout",
     "output_type": "stream",
     "text": [
      "Enter your age13\n",
      "Age is not valid\n"
     ]
    }
   ],
   "source": [
    "#Program to check if age is \n",
    "try:\n",
    "    age=int(input(\"Enter your age\"))\n",
    "    if age<18:\n",
    "        raise ValueError(\"Age is not valid\")\n",
    "    else:\n",
    "        print(\"Age is valid\")\n",
    "except Exception as e:\n",
    "    print(e)\n",
    "    \n"
   ]
  },
  {
   "cell_type": "code",
   "execution_count": null,
   "id": "9bfe7342",
   "metadata": {},
   "outputs": [],
   "source": []
  }
 ],
 "metadata": {
  "kernelspec": {
   "display_name": "Python 3",
   "language": "python",
   "name": "python3"
  },
  "language_info": {
   "codemirror_mode": {
    "name": "ipython",
    "version": 3
   },
   "file_extension": ".py",
   "mimetype": "text/x-python",
   "name": "python",
   "nbconvert_exporter": "python",
   "pygments_lexer": "ipython3",
   "version": "3.8.8"
  }
 },
 "nbformat": 4,
 "nbformat_minor": 5
}
