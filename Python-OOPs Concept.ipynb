{
 "cells": [
  {
   "cell_type": "markdown",
   "id": "af3310c5",
   "metadata": {},
   "source": [
    "Python is an object-oriented language since its beginning. \n",
    "\n",
    "It allows us to develop applications using an Object-Oriented approach. In Python, we can easily create and use classes and objects.\n",
    "\n",
    "Major components of oops concepts are given below:\n",
    "\n",
    "1. Class\n",
    "2. Object\n",
    "3. Method\n",
    "4. Inheritance\n",
    "5. Polymorphism\n",
    "6. Data Abstraction\n",
    "7. Encapsulation\n"
   ]
  },
  {
   "cell_type": "markdown",
   "id": "798ba270",
   "metadata": {},
   "source": [
    "# Class:\n",
    "\n",
    "Class is nothing but its a blue print of the object, it's a virtual entity.\n",
    "\n",
    "let's understand class by an example. lets say we have a building prototype. Which has every details of the building (for ex. rooms, windows, doors etc.). So here this building prototype we can use to build buildings as many as we want.\n",
    "\n",
    "Now this building prototype can be seen as class and by this class we can create objects as many as we want.\n",
    "\n",
    "Note: Once we created a class then to access the class always remember we need to create an object.\n",
    "\n",
    "Creating a class is very easy. In Python, a class can be created by using the keyword class, followed by the class name. The syntax to create a class is given below.\n",
    "\n",
    "Syntax:\n",
    "======\n",
    "\n",
    "class ClassName:    \n",
    "    #statement_suite \n",
    "    \n"
   ]
  },
  {
   "cell_type": "code",
   "execution_count": 3,
   "id": "123b5a16",
   "metadata": {},
   "outputs": [],
   "source": [
    "class Employee:    \n",
    "    id = 10   \n",
    "    name = \"Devansh\"    \n",
    "    def display (self):\n",
    "        print(self.id,self.name)\n",
    "        "
   ]
  },
  {
   "cell_type": "markdown",
   "id": "011834c2",
   "metadata": {},
   "source": [
    "Note: The self is used as a reference variable, which refers to the current class object. \n",
    "      It is always the first argument in the function definition. \n",
    "      However, using self is optional in the function call.\n",
    "      The self-parameter refers to the current instance of the class and accesses the class variables."
   ]
  },
  {
   "cell_type": "markdown",
   "id": "e34aaa74",
   "metadata": {},
   "source": [
    "### Creating an instance of the class:\n",
    "\n",
    "A class needs to be instantiated if we want to use the class attributes in another class or method. \n",
    "\n",
    "A class can be instantiated by calling the class using the class name.\n",
    "\n",
    "The syntax to create the instance of the class is given below.\n",
    "\n",
    "<object-name> = <class-name>(<arguments>)    "
   ]
  },
  {
   "cell_type": "code",
   "execution_count": 4,
   "id": "5748b208",
   "metadata": {},
   "outputs": [
    {
     "name": "stdout",
     "output_type": "stream",
     "text": [
      "10 Devansh\n"
     ]
    }
   ],
   "source": [
    "emp=Employee()\n",
    "emp.display()"
   ]
  },
  {
   "cell_type": "markdown",
   "id": "636598ef",
   "metadata": {},
   "source": [
    "### Delete the Object:\n",
    "We can delete the properties of the object or object itself by using the del keyword. Consider the following example."
   ]
  },
  {
   "cell_type": "code",
   "execution_count": 5,
   "id": "468949ec",
   "metadata": {},
   "outputs": [],
   "source": [
    "class Employee:  \n",
    "    id = 10  \n",
    "    name = \"John\"  \n",
    "  \n",
    "    def display(self):  \n",
    "        print(\"ID: %d \\nName: %s\" % (self.id, self.name))  \n",
    "    # Creating a emp instance of Employee class  \n",
    "    emp = Employee()  \n",
    "  "
   ]
  },
  {
   "cell_type": "code",
   "execution_count": 6,
   "id": "3a79db9e",
   "metadata": {},
   "outputs": [
    {
     "name": "stdout",
     "output_type": "stream",
     "text": [
      "10 Devansh\n"
     ]
    }
   ],
   "source": [
    "emp.display()"
   ]
  },
  {
   "cell_type": "code",
   "execution_count": 11,
   "id": "012fea0e",
   "metadata": {},
   "outputs": [
    {
     "ename": "NameError",
     "evalue": "name 'emp' is not defined",
     "output_type": "error",
     "traceback": [
      "\u001b[1;31m---------------------------------------------------------------------------\u001b[0m",
      "\u001b[1;31mNameError\u001b[0m                                 Traceback (most recent call last)",
      "\u001b[1;32m<ipython-input-11-baa7612219cc>\u001b[0m in \u001b[0;36m<module>\u001b[1;34m\u001b[0m\n\u001b[0;32m      1\u001b[0m \u001b[1;32mdel\u001b[0m \u001b[0memp\u001b[0m\u001b[1;33m\u001b[0m\u001b[1;33m\u001b[0m\u001b[0m\n\u001b[1;32m----> 2\u001b[1;33m \u001b[0memp\u001b[0m\u001b[1;33m.\u001b[0m\u001b[0mdisplay\u001b[0m\u001b[1;33m(\u001b[0m\u001b[1;33m)\u001b[0m\u001b[1;33m\u001b[0m\u001b[1;33m\u001b[0m\u001b[0m\n\u001b[0m",
      "\u001b[1;31mNameError\u001b[0m: name 'emp' is not defined"
     ]
    }
   ],
   "source": [
    "del emp  \n",
    "emp.display()  "
   ]
  },
  {
   "cell_type": "markdown",
   "id": "4f183680",
   "metadata": {},
   "source": [
    "# Python Constructor:\n",
    "\n",
    "A constructor is a special type of method (function) which is used to initialize the instance members of the class.\n",
    "\n",
    "Constructors can be of two types.\n",
    "\n",
    "1. Parameterized Constructor\n",
    "2. Non-parameterized Constructor\n",
    "\n",
    "\n",
    "In Python, the method the __init__() simulates the constructor of the class. This method is called when the class is instantiated. \n",
    "\n",
    "It accepts the self-keyword as a first argument which allows accessing the attributes or method of the class.\n",
    "\n",
    "We can pass any number of arguments at the time of creating the class object, depending upon the __init__() definition."
   ]
  },
  {
   "cell_type": "code",
   "execution_count": 12,
   "id": "ccee44ec",
   "metadata": {},
   "outputs": [
    {
     "name": "stdout",
     "output_type": "stream",
     "text": [
      "ID: 101 \n",
      "Name: John\n",
      "ID: 102 \n",
      "Name: David\n"
     ]
    }
   ],
   "source": [
    "class Employee:  \n",
    "    def __init__(self, name, id):  #---------------> _init_ is function which is use to declare the constructor\n",
    "        self.id = id  \n",
    "        self.name = name  \n",
    "  \n",
    "    def display(self):  \n",
    "        print(\"ID: %d \\nName: %s\" % (self.id, self.name))  \n",
    "  \n",
    "  \n",
    "emp1 = Employee(\"John\", 101)  \n",
    "emp2 = Employee(\"David\", 102)  \n",
    "  \n",
    "# accessing display() method to print employee 1 information  \n",
    "  \n",
    "emp1.display()  \n",
    "  \n",
    "# accessing display() method to print employee 2 information  \n",
    "emp2.display()  "
   ]
  },
  {
   "cell_type": "markdown",
   "id": "c21e6daa",
   "metadata": {},
   "source": [
    "### Counting the number of objects of a class: \n",
    "The constructor is called automatically when we create the object of the class."
   ]
  },
  {
   "cell_type": "code",
   "execution_count": 13,
   "id": "3f8a9074",
   "metadata": {},
   "outputs": [
    {
     "name": "stdout",
     "output_type": "stream",
     "text": [
      "The number of students: 3\n"
     ]
    }
   ],
   "source": [
    "class Student:    \n",
    "    count = 0    \n",
    "    def __init__(self):    \n",
    "        Student.count = Student.count + 1    \n",
    "s1=Student()    \n",
    "s2=Student()    \n",
    "s3=Student()    \n",
    "print(\"The number of students:\",Student.count)"
   ]
  },
  {
   "cell_type": "markdown",
   "id": "acb0b9d3",
   "metadata": {},
   "source": [
    "### Python Non-Parameterized Constructor:\n",
    "    \n",
    "The non-parameterized constructor uses when we do not want to manipulate the value or the constructor that has only self as an argument."
   ]
  },
  {
   "cell_type": "code",
   "execution_count": 14,
   "id": "45e02482",
   "metadata": {},
   "outputs": [
    {
     "name": "stdout",
     "output_type": "stream",
     "text": [
      "This is non parametrized constructor\n",
      "Hello John\n"
     ]
    }
   ],
   "source": [
    "class Student:  \n",
    "    # Constructor - non parameterized  \n",
    "    def __init__(self):  \n",
    "        print(\"This is non parametrized constructor\")  \n",
    "    def show(self,name):  \n",
    "        print(\"Hello\",name)  \n",
    "student = Student()  \n",
    "student.show(\"John\")      "
   ]
  },
  {
   "cell_type": "markdown",
   "id": "7c87161b",
   "metadata": {},
   "source": [
    "### Python Parameterized Constructor:\n",
    "\n",
    "The parameterized constructor has multiple parameters along with the self."
   ]
  },
  {
   "cell_type": "code",
   "execution_count": 34,
   "id": "6ea07074",
   "metadata": {
    "scrolled": true
   },
   "outputs": [],
   "source": [
    "class Student:\n",
    "    def __init__(self,name,yob,standard):\n",
    "        self.name=name\n",
    "        self.yob=yob\n",
    "        self.standard=standard\n",
    "    def display(self):\n",
    "        print(\"Name:%s\\n Yob:%d\\n Stand:%d\\n\" %(self.name,self.yob,self.standard))\n"
   ]
  },
  {
   "cell_type": "code",
   "execution_count": 35,
   "id": "b81a676c",
   "metadata": {
    "scrolled": true
   },
   "outputs": [
    {
     "name": "stdout",
     "output_type": "stream",
     "text": [
      "Name:Chandra\n",
      " Yob:1990\n",
      " Stand:12\n",
      "\n"
     ]
    }
   ],
   "source": [
    "std1 = Student(\"Chandra\",1990,12)\n",
    "std1.display()"
   ]
  },
  {
   "cell_type": "code",
   "execution_count": 25,
   "id": "77d6867e",
   "metadata": {},
   "outputs": [],
   "source": [
    "class Person:\n",
    "    def __init__(self, name, surname, year_of_birth):\n",
    "        self.name1 = name\n",
    "        self.surname = surname\n",
    "        self.year_of_birth = year_of_birth"
   ]
  },
  {
   "cell_type": "code",
   "execution_count": 26,
   "id": "21684789",
   "metadata": {},
   "outputs": [
    {
     "name": "stdout",
     "output_type": "stream",
     "text": [
      "<__main__.Person object at 0x000001A647D01520>\n",
      "Alechgffh Baldwin was born in 1958.\n"
     ]
    }
   ],
   "source": [
    "alec = Person(\"Alechgffh\", \"Baldwin\", 1958)\n",
    "print(alec)\n",
    "print(\"%s %s was born in %d.\" % (alec.name1, alec.surname, alec.year_of_birth))"
   ]
  },
  {
   "cell_type": "markdown",
   "id": "36ae9e79",
   "metadata": {},
   "source": [
    "# Python Inheritance:\n",
    "\n",
    "Inheritance provides code reusability to the program because we can use an existing class to create a new class instead of creating it from scratch.\n",
    "\n",
    "In inheritance, the child class acquires the properties and can access all the data members and functions defined in the parent class. \n",
    "\n",
    "A child class can also provide its specific implementation to the functions of the parent class."
   ]
  },
  {
   "cell_type": "markdown",
   "id": "b0871e2c",
   "metadata": {},
   "source": [
    "Syntax:\n",
    "\n",
    "class derived-class(base class):  \n",
    "    <class-suite>   "
   ]
  },
  {
   "cell_type": "markdown",
   "id": "45533683",
   "metadata": {},
   "source": [
    "In python, a derived class can inherit base class by just mentioning the base in the bracket after the derived class name.\n",
    "\n",
    "A class can inherit multiple classes by mentioning all of them inside the bracket."
   ]
  },
  {
   "cell_type": "markdown",
   "id": "d78b8a4e",
   "metadata": {},
   "source": [
    "class derive-class(<base class 1>, <base class 2>, ..... <base class n>):  \n",
    "    <class - suite> "
   ]
  },
  {
   "cell_type": "code",
   "execution_count": 36,
   "id": "992a967c",
   "metadata": {},
   "outputs": [
    {
     "name": "stdout",
     "output_type": "stream",
     "text": [
      "dog barking\n",
      "Animal Speaking\n"
     ]
    }
   ],
   "source": [
    "class Animal:  \n",
    "    def speak(self):  \n",
    "        print(\"Animal Speaking\")  \n",
    "#child class Dog inherits the base class Animal  \n",
    "class Dog(Animal):  \n",
    "    def bark(self):  \n",
    "        print(\"dog barking\")  \n",
    "d = Dog()  \n",
    "d.bark()  \n",
    "d.speak()  "
   ]
  },
  {
   "cell_type": "code",
   "execution_count": 37,
   "id": "d896ecee",
   "metadata": {},
   "outputs": [
    {
     "name": "stdout",
     "output_type": "stream",
     "text": [
      "dog barking\n",
      "Animal Speaking\n",
      "Eating bread...\n"
     ]
    }
   ],
   "source": [
    "class Animal:  \n",
    "    def speak(self):  \n",
    "        print(\"Animal Speaking\")  \n",
    "#The child class Dog inherits the base class Animal  \n",
    "class Dog(Animal):  \n",
    "    def bark(self):  \n",
    "        print(\"dog barking\")  \n",
    "#The child class Dogchild inherits another child class Dog  \n",
    "class DogChild(Dog):  \n",
    "    def eat(self):  \n",
    "        print(\"Eating bread...\")  \n",
    "d = DogChild()  \n",
    "d.bark()  \n",
    "d.speak()  \n",
    "d.eat()  "
   ]
  },
  {
   "cell_type": "markdown",
   "id": "74203805",
   "metadata": {},
   "source": [
    "### Python Multiple inheritance:\n",
    "Python provides us the flexibility to inherit multiple base classes in the child class."
   ]
  },
  {
   "cell_type": "code",
   "execution_count": 38,
   "id": "487cd7eb",
   "metadata": {},
   "outputs": [
    {
     "name": "stdout",
     "output_type": "stream",
     "text": [
      "30\n",
      "200\n",
      "0.5\n"
     ]
    }
   ],
   "source": [
    "class Calculation1:  \n",
    "    def Summation(self,a,b):  \n",
    "        return a+b;  \n",
    "class Calculation2:  \n",
    "    def Multiplication(self,a,b):  \n",
    "        return a*b;  \n",
    "class Derived(Calculation1,Calculation2):  \n",
    "    def Divide(self,a,b):  \n",
    "        return a/b;  \n",
    "d = Derived()  \n",
    "print(d.Summation(10,20))  \n",
    "print(d.Multiplication(10,20))  \n",
    "print(d.Divide(10,20))  "
   ]
  }
 ],
 "metadata": {
  "kernelspec": {
   "display_name": "Python 3",
   "language": "python",
   "name": "python3"
  },
  "language_info": {
   "codemirror_mode": {
    "name": "ipython",
    "version": 3
   },
   "file_extension": ".py",
   "mimetype": "text/x-python",
   "name": "python",
   "nbconvert_exporter": "python",
   "pygments_lexer": "ipython3",
   "version": "3.8.8"
  }
 },
 "nbformat": 4,
 "nbformat_minor": 5
}
