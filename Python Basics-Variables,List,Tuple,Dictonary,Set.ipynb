{
 "cells": [
  {
   "cell_type": "markdown",
   "id": "4dc284fa",
   "metadata": {},
   "source": [
    "# Variables:\n",
    "\n",
    "Variables are containers for storing data values.\n",
    "\n",
    "Python has no command for declaring a variable.\n",
    "\n",
    "A variable is created the moment you first assign a value to it.\n",
    "\n",
    "Variables do not need to be declared with any particular type, and can even change type after they have been set.\n",
    "\n",
    "#Casting:\n",
    "\n",
    "If you want to specify the data type of a variable, this can be done with casting.\n",
    "\n",
    "You can get the data type of a variable with the type() function."
   ]
  },
  {
   "cell_type": "code",
   "execution_count": 1,
   "id": "a68f468a",
   "metadata": {},
   "outputs": [
    {
     "name": "stdout",
     "output_type": "stream",
     "text": [
      "Hello\n"
     ]
    }
   ],
   "source": [
    "print(\"Hello\")"
   ]
  },
  {
   "cell_type": "code",
   "execution_count": 2,
   "id": "b568f40c",
   "metadata": {},
   "outputs": [
    {
     "name": "stdout",
     "output_type": "stream",
     "text": [
      "5\n"
     ]
    }
   ],
   "source": [
    "x=2\n",
    "y=3\n",
    "z=x+y\n",
    "print(z)\n"
   ]
  },
  {
   "cell_type": "code",
   "execution_count": 3,
   "id": "a5c61a7c",
   "metadata": {},
   "outputs": [
    {
     "ename": "TypeError",
     "evalue": "can only concatenate str (not \"int\") to str",
     "output_type": "error",
     "traceback": [
      "\u001b[1;31m---------------------------------------------------------------------------\u001b[0m",
      "\u001b[1;31mTypeError\u001b[0m                                 Traceback (most recent call last)",
      "\u001b[1;32m<ipython-input-3-1dbdb5efa9c8>\u001b[0m in \u001b[0;36m<module>\u001b[1;34m\u001b[0m\n\u001b[0;32m      2\u001b[0m \u001b[0mx\u001b[0m\u001b[1;33m=\u001b[0m\u001b[0mstr\u001b[0m\u001b[1;33m(\u001b[0m\u001b[1;36m2\u001b[0m\u001b[1;33m)\u001b[0m\u001b[1;33m\u001b[0m\u001b[1;33m\u001b[0m\u001b[0m\n\u001b[0;32m      3\u001b[0m \u001b[0my\u001b[0m\u001b[1;33m=\u001b[0m\u001b[1;36m3\u001b[0m\u001b[1;33m\u001b[0m\u001b[1;33m\u001b[0m\u001b[0m\n\u001b[1;32m----> 4\u001b[1;33m \u001b[0mz\u001b[0m\u001b[1;33m=\u001b[0m\u001b[0mx\u001b[0m\u001b[1;33m+\u001b[0m\u001b[0my\u001b[0m\u001b[1;33m\u001b[0m\u001b[1;33m\u001b[0m\u001b[0m\n\u001b[0m\u001b[0;32m      5\u001b[0m \u001b[0mprint\u001b[0m\u001b[1;33m(\u001b[0m\u001b[0mz\u001b[0m\u001b[1;33m)\u001b[0m\u001b[1;33m\u001b[0m\u001b[1;33m\u001b[0m\u001b[0m\n",
      "\u001b[1;31mTypeError\u001b[0m: can only concatenate str (not \"int\") to str"
     ]
    }
   ],
   "source": [
    "#Casting:\n",
    "x=str(2)\n",
    "y=3\n",
    "z=x+y\n",
    "print(z)\n"
   ]
  },
  {
   "cell_type": "code",
   "execution_count": 4,
   "id": "460c94f4",
   "metadata": {},
   "outputs": [
    {
     "name": "stdout",
     "output_type": "stream",
     "text": [
      "2\n"
     ]
    }
   ],
   "source": [
    "print(x)"
   ]
  },
  {
   "cell_type": "code",
   "execution_count": 5,
   "id": "8a940c88",
   "metadata": {},
   "outputs": [
    {
     "data": {
      "text/plain": [
       "str"
      ]
     },
     "execution_count": 5,
     "metadata": {},
     "output_type": "execute_result"
    }
   ],
   "source": [
    "type(x) #here we can see x is a string variable bcz it has been type casted in previous cell"
   ]
  },
  {
   "cell_type": "code",
   "execution_count": 6,
   "id": "9af52c81",
   "metadata": {},
   "outputs": [
    {
     "data": {
      "text/plain": [
       "int"
      ]
     },
     "execution_count": 6,
     "metadata": {},
     "output_type": "execute_result"
    }
   ],
   "source": [
    "type(y)"
   ]
  },
  {
   "cell_type": "code",
   "execution_count": 9,
   "id": "f6a4eddb",
   "metadata": {},
   "outputs": [],
   "source": [
    "x=int(x) # again type casted the value of x "
   ]
  },
  {
   "cell_type": "code",
   "execution_count": 10,
   "id": "192373a8",
   "metadata": {},
   "outputs": [
    {
     "data": {
      "text/plain": [
       "5"
      ]
     },
     "execution_count": 10,
     "metadata": {},
     "output_type": "execute_result"
    }
   ],
   "source": [
    "x+y"
   ]
  },
  {
   "cell_type": "markdown",
   "id": "7f00e761",
   "metadata": {},
   "source": [
    "# Many Values to Multiple Variables:\n",
    "    \n",
    "Python allows you to assign values to multiple variables in one line\n",
    "\n",
    "One Value to Multiple Variables:\n",
    "    \n",
    "And you can assign the same value to multiple variables in one line\n",
    "\n",
    "Unpack a Collection:\n",
    "    \n",
    "If you have a collection of values in a list, tuple etc. Python allows you extract the values into variables. \n",
    "This is called unpacking."
   ]
  },
  {
   "cell_type": "code",
   "execution_count": 11,
   "id": "e432756b",
   "metadata": {},
   "outputs": [],
   "source": [
    "x, y, z = \"Orange\", \"Banana\", \"Cherry\""
   ]
  },
  {
   "cell_type": "code",
   "execution_count": 12,
   "id": "5ba3eb6e",
   "metadata": {},
   "outputs": [
    {
     "data": {
      "text/plain": [
       "'Orange'"
      ]
     },
     "execution_count": 12,
     "metadata": {},
     "output_type": "execute_result"
    }
   ],
   "source": [
    "x"
   ]
  },
  {
   "cell_type": "code",
   "execution_count": 13,
   "id": "e8a7995c",
   "metadata": {},
   "outputs": [],
   "source": [
    "fruits = [\"apple\", \"banana\", \"cherry\"]"
   ]
  },
  {
   "cell_type": "code",
   "execution_count": 14,
   "id": "2f992a51",
   "metadata": {},
   "outputs": [],
   "source": [
    "x,y,z=fruits"
   ]
  },
  {
   "cell_type": "markdown",
   "id": "ddf6fc4f",
   "metadata": {},
   "source": [
    "print(x,y,z)"
   ]
  },
  {
   "cell_type": "markdown",
   "id": "ce67c439",
   "metadata": {},
   "source": [
    "Global Variables:\n",
    "\n",
    "Variables that are created outside of a function (as in all of the examples) are known as global variables.\n",
    "\n",
    "Global variables can be used by everyone, both inside of functions and outside."
   ]
  },
  {
   "cell_type": "code",
   "execution_count": 16,
   "id": "ed6eca75",
   "metadata": {},
   "outputs": [
    {
     "name": "stdout",
     "output_type": "stream",
     "text": [
      "Python is awesome\n"
     ]
    }
   ],
   "source": [
    "x = \"awesome\"\n",
    "\n",
    "def myfunc():\n",
    "  print(\"Python is \" + x)\n",
    "\n",
    "myfunc()"
   ]
  },
  {
   "cell_type": "markdown",
   "id": "434c75fd",
   "metadata": {},
   "source": [
    "If you create a variable with the same name inside a function, this variable will be local, and can only be used inside the function. The global variable with the same name will remain as it was, global and with the original value."
   ]
  },
  {
   "cell_type": "code",
   "execution_count": 17,
   "id": "9aa8f5e3",
   "metadata": {},
   "outputs": [
    {
     "name": "stdout",
     "output_type": "stream",
     "text": [
      "Python is fantastic\n",
      "Python is awesome\n"
     ]
    }
   ],
   "source": [
    "x = \"awesome\"\n",
    "\n",
    "def myfunc():\n",
    "  x = \"fantastic\"\n",
    "  print(\"Python is \" + x)\n",
    "\n",
    "myfunc()\n",
    "\n",
    "print(\"Python is \" + x)"
   ]
  },
  {
   "cell_type": "markdown",
   "id": "76606898",
   "metadata": {},
   "source": [
    "When we create a variable inside a function then it becomes local variable i.e. we can use that varibale inside the functio only.\n",
    "\n",
    "but if we want to make the varibale global which is declared inside the function \n",
    "\n",
    "then we have to use the global keyword with the variable name."
   ]
  },
  {
   "cell_type": "code",
   "execution_count": 1,
   "id": "f2feccd4",
   "metadata": {},
   "outputs": [
    {
     "name": "stdout",
     "output_type": "stream",
     "text": [
      "Python is fantastic\n"
     ]
    }
   ],
   "source": [
    "def myfunc():\n",
    "  global x\n",
    "  x = \"fantastic\"\n",
    "\n",
    "myfunc()\n",
    "\n",
    "print(\"Python is \" + x)"
   ]
  },
  {
   "cell_type": "markdown",
   "id": "2aeefd99",
   "metadata": {},
   "source": [
    "Also, use the global keyword if you want to change a global variable inside a function."
   ]
  },
  {
   "cell_type": "code",
   "execution_count": 5,
   "id": "87789682",
   "metadata": {},
   "outputs": [
    {
     "name": "stdout",
     "output_type": "stream",
     "text": [
      "my name is pujari\n"
     ]
    }
   ],
   "source": [
    "x=\"chandra\"\n",
    "def myfunction():\n",
    "    global x \n",
    "    x=\"pujari\"\n",
    "myfunction()\n",
    "print(\"my name is \"+ x)"
   ]
  },
  {
   "cell_type": "markdown",
   "id": "45089c4b",
   "metadata": {},
   "source": [
    "As we know variable is a container which can store any kind of data.\n",
    "But for each variable there is a built in data type already defined in backend.\n",
    "As we know in python we don't need to declare varibale type but python can interprate the data type of variable automatically \n",
    "by the nature of data stored in it."
   ]
  },
  {
   "cell_type": "markdown",
   "id": "a42d5fcc",
   "metadata": {},
   "source": [
    "Python has the following data types built-in by default, in these categories:\n",
    "\n",
    "Text Type:\tstr\n",
    "Numeric Types:\tint, float, complex\n",
    "Sequence Types:\tlist, tuple, range\n",
    "Mapping Type:\tdict\n",
    "Set Types:\tset, frozenset\n",
    "Boolean Type:\tbool\n",
    "Binary Types:\tbytes, bytearray, memoryview"
   ]
  },
  {
   "cell_type": "markdown",
   "id": "638afbb5",
   "metadata": {},
   "source": [
    " Note: To know the type of the variable type() function would be used."
   ]
  },
  {
   "cell_type": "code",
   "execution_count": 6,
   "id": "d2d22103",
   "metadata": {},
   "outputs": [
    {
     "data": {
      "text/plain": [
       "int"
      ]
     },
     "execution_count": 6,
     "metadata": {},
     "output_type": "execute_result"
    }
   ],
   "source": [
    "x=2\n",
    "type(x)"
   ]
  },
  {
   "cell_type": "code",
   "execution_count": 7,
   "id": "21019c6c",
   "metadata": {},
   "outputs": [
    {
     "data": {
      "text/plain": [
       "str"
      ]
     },
     "execution_count": 7,
     "metadata": {},
     "output_type": "execute_result"
    }
   ],
   "source": [
    "x='2chandra'\n",
    "type(x)"
   ]
  },
  {
   "cell_type": "code",
   "execution_count": 14,
   "id": "b3561ae7",
   "metadata": {},
   "outputs": [
    {
     "data": {
      "text/plain": [
       "str"
      ]
     },
     "execution_count": 14,
     "metadata": {},
     "output_type": "execute_result"
    }
   ],
   "source": [
    "\n",
    "x1 = \"Hello World\"\n",
    "type(x1)"
   ]
  },
  {
   "cell_type": "code",
   "execution_count": 10,
   "id": "03bc8a7d",
   "metadata": {},
   "outputs": [
    {
     "data": {
      "text/plain": [
       "int"
      ]
     },
     "execution_count": 10,
     "metadata": {},
     "output_type": "execute_result"
    }
   ],
   "source": [
    "x2 = 20\n",
    "type(x2)"
   ]
  },
  {
   "cell_type": "code",
   "execution_count": 11,
   "id": "7fb3b98a",
   "metadata": {},
   "outputs": [
    {
     "data": {
      "text/plain": [
       "float"
      ]
     },
     "execution_count": 11,
     "metadata": {},
     "output_type": "execute_result"
    }
   ],
   "source": [
    "\n",
    "x3 = 20.5\n",
    "type(x3)"
   ]
  },
  {
   "cell_type": "code",
   "execution_count": 12,
   "id": "48c9e0cf",
   "metadata": {},
   "outputs": [
    {
     "data": {
      "text/plain": [
       "complex"
      ]
     },
     "execution_count": 12,
     "metadata": {},
     "output_type": "execute_result"
    }
   ],
   "source": [
    "x4 = 1j\n",
    "type(x4)"
   ]
  },
  {
   "cell_type": "code",
   "execution_count": 13,
   "id": "8922d6ca",
   "metadata": {},
   "outputs": [
    {
     "data": {
      "text/plain": [
       "list"
      ]
     },
     "execution_count": 13,
     "metadata": {},
     "output_type": "execute_result"
    }
   ],
   "source": [
    "x5 = [\"apple\", \"banana\", \"cherry\"]\n",
    "type(x5)"
   ]
  },
  {
   "cell_type": "code",
   "execution_count": 17,
   "id": "a5106203",
   "metadata": {},
   "outputs": [
    {
     "data": {
      "text/plain": [
       "dict"
      ]
     },
     "execution_count": 17,
     "metadata": {},
     "output_type": "execute_result"
    }
   ],
   "source": [
    "x = {\"name\" : \"John\", \"age\" : 36}\n",
    "type(x)"
   ]
  },
  {
   "cell_type": "code",
   "execution_count": 19,
   "id": "507e4884",
   "metadata": {},
   "outputs": [
    {
     "data": {
      "text/plain": [
       "set"
      ]
     },
     "execution_count": 19,
     "metadata": {},
     "output_type": "execute_result"
    }
   ],
   "source": [
    "x={\"chandra\",2,2j,2.3}\n",
    "type(x)"
   ]
  },
  {
   "cell_type": "code",
   "execution_count": 20,
   "id": "f50356c5",
   "metadata": {},
   "outputs": [
    {
     "data": {
      "text/plain": [
       "tuple"
      ]
     },
     "execution_count": 20,
     "metadata": {},
     "output_type": "execute_result"
    }
   ],
   "source": [
    "x = (\"apple\", \"banana\", \"cherry\")\n",
    "type(x)"
   ]
  },
  {
   "cell_type": "code",
   "execution_count": 23,
   "id": "392266ef",
   "metadata": {},
   "outputs": [
    {
     "data": {
      "text/plain": [
       "list"
      ]
     },
     "execution_count": 23,
     "metadata": {},
     "output_type": "execute_result"
    }
   ],
   "source": [
    "x = [\"apple\", \"banana\", 2]\n",
    "type(x)"
   ]
  },
  {
   "cell_type": "markdown",
   "id": "0ca5a4df",
   "metadata": {},
   "source": [
    "# Type Casting:\n",
    "    \n",
    "    There may be times when you want to specify a type on to a variable. This can be done with casting. Python is an object-orientated language, and as such it uses classes to define data types, including its primitive types.\n",
    "\n",
    "Casting in python is therefore done using constructor functions:\n",
    "\n",
    "int() - constructs an integer number from an integer literal, a float literal (by removing all decimals), or a string literal (providing the string represents a whole number)\n",
    "\n",
    "float() - constructs a float number from an integer literal, a float literal or a string literal (providing the string represents a float or an integer)\n",
    "\n",
    "str() - constructs a string from a wide variety of data types, including strings, integer literals and float literals"
   ]
  },
  {
   "cell_type": "code",
   "execution_count": 24,
   "id": "c84df824",
   "metadata": {},
   "outputs": [
    {
     "data": {
      "text/plain": [
       "'2'"
      ]
     },
     "execution_count": 24,
     "metadata": {},
     "output_type": "execute_result"
    }
   ],
   "source": [
    "x=2\n",
    "str(x)"
   ]
  },
  {
   "cell_type": "code",
   "execution_count": 25,
   "id": "6b51b7d0",
   "metadata": {},
   "outputs": [
    {
     "data": {
      "text/plain": [
       "int"
      ]
     },
     "execution_count": 25,
     "metadata": {},
     "output_type": "execute_result"
    }
   ],
   "source": [
    "type(x)"
   ]
  },
  {
   "cell_type": "code",
   "execution_count": 30,
   "id": "061d16df",
   "metadata": {},
   "outputs": [],
   "source": [
    "x=float(x)"
   ]
  },
  {
   "cell_type": "code",
   "execution_count": 31,
   "id": "2ce56462",
   "metadata": {},
   "outputs": [
    {
     "data": {
      "text/plain": [
       "float"
      ]
     },
     "execution_count": 31,
     "metadata": {},
     "output_type": "execute_result"
    }
   ],
   "source": [
    "type(x)"
   ]
  },
  {
   "cell_type": "markdown",
   "id": "152b1d74",
   "metadata": {},
   "source": [
    "strings in Python are arrays of bytes representing unicode characters.\n",
    "\n",
    "However, Python does not have a character data type, a single character is simply a string with a length of 1.\n",
    "\n",
    "Square brackets can be used to access elements of the string."
   ]
  },
  {
   "cell_type": "code",
   "execution_count": 38,
   "id": "d08f7a8c",
   "metadata": {},
   "outputs": [
    {
     "name": "stdout",
     "output_type": "stream",
     "text": [
      "H\n"
     ]
    }
   ],
   "source": [
    "a = \"Hello,Guys!\"\n",
    "print(a[0])"
   ]
  },
  {
   "cell_type": "code",
   "execution_count": 39,
   "id": "fddce1e9",
   "metadata": {},
   "outputs": [
    {
     "name": "stdout",
     "output_type": "stream",
     "text": [
      "H----0\n",
      "e----1\n",
      "l----2\n",
      "l----3\n",
      "o----4\n",
      ",----5\n",
      "G----6\n",
      "u----7\n",
      "y----8\n",
      "s----9\n",
      "!----10\n"
     ]
    }
   ],
   "source": [
    "count=0\n",
    "for i in a:\n",
    "    print(i+\"----\"+ str(count))\n",
    "    count=count+1"
   ]
  },
  {
   "cell_type": "code",
   "execution_count": 41,
   "id": "d97568df",
   "metadata": {},
   "outputs": [
    {
     "data": {
      "text/plain": [
       "11"
      ]
     },
     "execution_count": 41,
     "metadata": {},
     "output_type": "execute_result"
    }
   ],
   "source": [
    "#length of string can be calculated using len()function\n",
    "a=\"Hello,Guys!\"\n",
    "len(a)"
   ]
  },
  {
   "cell_type": "code",
   "execution_count": 42,
   "id": "d7c802ce",
   "metadata": {},
   "outputs": [
    {
     "name": "stdout",
     "output_type": "stream",
     "text": [
      "True\n"
     ]
    }
   ],
   "source": [
    "#Check string or charcter. To check if a certain phrase or character is present in a string, we can use the keyword IN.\n",
    "txt = \"The best things in life are free!\"\n",
    "print(\"free\" in txt)"
   ]
  },
  {
   "cell_type": "code",
   "execution_count": 44,
   "id": "c78cffa2",
   "metadata": {},
   "outputs": [
    {
     "name": "stdout",
     "output_type": "stream",
     "text": [
      "yes string present\n"
     ]
    }
   ],
   "source": [
    "txt=\"chandra is an intelligent person\"\n",
    "\n",
    "if \"chandra\" in txt:\n",
    "    print(\"yes\"+\" string present\")\n",
    "else:\n",
    "    print(\"No\"+\" string not present\")"
   ]
  },
  {
   "cell_type": "code",
   "execution_count": 45,
   "id": "359d1b66",
   "metadata": {},
   "outputs": [
    {
     "name": "stdout",
     "output_type": "stream",
     "text": [
      "No string not present\n"
     ]
    }
   ],
   "source": [
    "txt=\"chandra is an intelligent person\"\n",
    "\n",
    "if \"pujari\" in txt:\n",
    "    print(\"yes\"+\" string present\")\n",
    "else:\n",
    "    print(\"No\"+\" string not present\")"
   ]
  },
  {
   "cell_type": "markdown",
   "id": "ee8568e8",
   "metadata": {},
   "source": [
    "# String Slicing"
   ]
  },
  {
   "cell_type": "code",
   "execution_count": 46,
   "id": "f9d26587",
   "metadata": {},
   "outputs": [
    {
     "name": "stdout",
     "output_type": "stream",
     "text": [
      "llo, World!\n"
     ]
    }
   ],
   "source": [
    "b = \"Hello, World!\"\n",
    "print(b[2:])"
   ]
  },
  {
   "cell_type": "code",
   "execution_count": 47,
   "id": "a1e929f7",
   "metadata": {},
   "outputs": [
    {
     "name": "stdout",
     "output_type": "stream",
     "text": [
      "orl\n"
     ]
    }
   ],
   "source": [
    "b = \"Hello, World!\"\n",
    "print(b[-5:-2])"
   ]
  },
  {
   "cell_type": "code",
   "execution_count": 48,
   "id": "94607c3f",
   "metadata": {},
   "outputs": [
    {
     "name": "stdout",
     "output_type": "stream",
     "text": [
      "HELLO, WORLD!\n"
     ]
    }
   ],
   "source": [
    "a = \"Hello, World!\"\n",
    "print(a.upper())"
   ]
  },
  {
   "cell_type": "code",
   "execution_count": 49,
   "id": "04a59772",
   "metadata": {},
   "outputs": [
    {
     "name": "stdout",
     "output_type": "stream",
     "text": [
      "hello, world!\n"
     ]
    }
   ],
   "source": [
    "a = \"Hello, World!\"\n",
    "print(a.lower())"
   ]
  },
  {
   "cell_type": "code",
   "execution_count": 50,
   "id": "2ca7b32e",
   "metadata": {},
   "outputs": [
    {
     "name": "stdout",
     "output_type": "stream",
     "text": [
      "Hello, World!\n"
     ]
    }
   ],
   "source": [
    "#The strip() method removes any whitespace from the beginning or the end:\n",
    "a = \" Hello, World! \"\n",
    "print(a.strip())"
   ]
  },
  {
   "cell_type": "code",
   "execution_count": 52,
   "id": "e05f850d",
   "metadata": {},
   "outputs": [
    {
     "name": "stdout",
     "output_type": "stream",
     "text": [
      "Jello, World!\n"
     ]
    }
   ],
   "source": [
    "#The replace() method replaces a string with another string:\n",
    "a = \"Hello, World!\"\n",
    "print(a.replace(\"H\", \"J\"))"
   ]
  },
  {
   "cell_type": "code",
   "execution_count": 53,
   "id": "f9d017bb",
   "metadata": {},
   "outputs": [
    {
     "name": "stdout",
     "output_type": "stream",
     "text": [
      "['Hello', ' World!']\n"
     ]
    }
   ],
   "source": [
    "#The split() method splits the string into substrings if it finds instances of the separator:\n",
    "a = \"Hello, World!\"\n",
    "print(a.split(\",\"))"
   ]
  },
  {
   "cell_type": "code",
   "execution_count": 54,
   "id": "ff0aebcc",
   "metadata": {},
   "outputs": [
    {
     "name": "stdout",
     "output_type": "stream",
     "text": [
      "HelloWorld\n"
     ]
    }
   ],
   "source": [
    "#Merge variable a with variable b into variable c:\n",
    "#To concatenate, or combine, two strings you can use the + operator.\n",
    "a = \"Hello\"\n",
    "b = \"World\"\n",
    "c = a + b\n",
    "print(c)"
   ]
  },
  {
   "cell_type": "code",
   "execution_count": 55,
   "id": "00173cc2",
   "metadata": {},
   "outputs": [
    {
     "name": "stdout",
     "output_type": "stream",
     "text": [
      "Hello World\n"
     ]
    }
   ],
   "source": [
    "a = \"Hello\"\n",
    "b = \"World\"\n",
    "c = a + \" \" + b\n",
    "print(c)"
   ]
  },
  {
   "cell_type": "code",
   "execution_count": 56,
   "id": "aac81a2a",
   "metadata": {},
   "outputs": [
    {
     "ename": "TypeError",
     "evalue": "can only concatenate str (not \"int\") to str",
     "output_type": "error",
     "traceback": [
      "\u001b[1;31m---------------------------------------------------------------------------\u001b[0m",
      "\u001b[1;31mTypeError\u001b[0m                                 Traceback (most recent call last)",
      "\u001b[1;32m<ipython-input-56-4d1b227cff41>\u001b[0m in \u001b[0;36m<module>\u001b[1;34m\u001b[0m\n\u001b[0;32m      1\u001b[0m \u001b[0mage\u001b[0m \u001b[1;33m=\u001b[0m \u001b[1;36m36\u001b[0m\u001b[1;33m\u001b[0m\u001b[1;33m\u001b[0m\u001b[0m\n\u001b[1;32m----> 2\u001b[1;33m \u001b[0mtxt\u001b[0m \u001b[1;33m=\u001b[0m \u001b[1;34m\"My name is John, I am \"\u001b[0m \u001b[1;33m+\u001b[0m \u001b[0mage\u001b[0m\u001b[1;33m\u001b[0m\u001b[1;33m\u001b[0m\u001b[0m\n\u001b[0m\u001b[0;32m      3\u001b[0m \u001b[0mprint\u001b[0m\u001b[1;33m(\u001b[0m\u001b[0mtxt\u001b[0m\u001b[1;33m)\u001b[0m\u001b[1;33m\u001b[0m\u001b[1;33m\u001b[0m\u001b[0m\n",
      "\u001b[1;31mTypeError\u001b[0m: can only concatenate str (not \"int\") to str"
     ]
    }
   ],
   "source": [
    "age = 36\n",
    "txt = \"My name is John, I am \" + age\n",
    "print(txt)"
   ]
  },
  {
   "cell_type": "markdown",
   "id": "d2ba616e",
   "metadata": {},
   "source": [
    "But we can combine strings and numbers by using the format() method!\n",
    "The format() method takes the passed arguments, formats them, and places them in the string where the placeholders {} are:"
   ]
  },
  {
   "cell_type": "code",
   "execution_count": 57,
   "id": "1ec47973",
   "metadata": {},
   "outputs": [
    {
     "name": "stdout",
     "output_type": "stream",
     "text": [
      "My name is John, and I am 36\n"
     ]
    }
   ],
   "source": [
    "age = 36\n",
    "txt = \"My name is John, and I am {}\"\n",
    "print(txt.format(age))"
   ]
  },
  {
   "cell_type": "code",
   "execution_count": 58,
   "id": "bfe81881",
   "metadata": {},
   "outputs": [
    {
     "name": "stdout",
     "output_type": "stream",
     "text": [
      "I want 3 pieces of item 567 for 49.95 dollars.\n"
     ]
    }
   ],
   "source": [
    "quantity = 3\n",
    "itemno = 567\n",
    "price = 49.95\n",
    "myorder = \"I want {} pieces of item {} for {} dollars.\"\n",
    "print(myorder.format(quantity, itemno, price))"
   ]
  },
  {
   "cell_type": "markdown",
   "id": "0636a567",
   "metadata": {},
   "source": [
    "You can use index numbers {0} to be sure the arguments are placed in the correct placeholders:"
   ]
  },
  {
   "cell_type": "code",
   "execution_count": 59,
   "id": "8c17eb09",
   "metadata": {},
   "outputs": [
    {
     "name": "stdout",
     "output_type": "stream",
     "text": [
      "I want to pay 49.95 dollars for 3 pieces of item 567.\n"
     ]
    }
   ],
   "source": [
    "\n",
    "quantity = 3\n",
    "itemno = 567\n",
    "price = 49.95\n",
    "myorder = \"I want to pay {2} dollars for {0} pieces of item {1}.\"\n",
    "print(myorder.format(quantity, itemno, price))"
   ]
  },
  {
   "cell_type": "markdown",
   "id": "a360f832",
   "metadata": {},
   "source": [
    "Escape Character:\n",
    "    \n",
    "To insert characters that are illegal in a string, use an escape character.\n",
    "\n",
    "An escape character is a backslash \\ followed by the character you want to insert."
   ]
  },
  {
   "cell_type": "code",
   "execution_count": 67,
   "id": "575ac2d5",
   "metadata": {
    "scrolled": true
   },
   "outputs": [
    {
     "name": "stdout",
     "output_type": "stream",
     "text": [
      "Chandra\n",
      "Shekhar\n",
      "Pujari\n"
     ]
    }
   ],
   "source": [
    "FirstName=\"Chandra\" '\\n' \"Shekhar\"\n",
    "LastName=\"Pujari\"\n",
    "FullName= FirstName+'\\n'+LastName\n",
    "print(FullName)"
   ]
  },
  {
   "cell_type": "code",
   "execution_count": 68,
   "id": "a22b763e",
   "metadata": {},
   "outputs": [
    {
     "data": {
      "text/plain": [
       "'Chandrapujari'"
      ]
     },
     "execution_count": 68,
     "metadata": {},
     "output_type": "execute_result"
    }
   ],
   "source": [
    "#capitalize()- Converts the first character to upper case\n",
    "txt=\"chandrapujari\"\n",
    "txt.capitalize()"
   ]
  },
  {
   "cell_type": "code",
   "execution_count": 69,
   "id": "f593663a",
   "metadata": {},
   "outputs": [
    {
     "data": {
      "text/plain": [
       "'chandrapujari'"
      ]
     },
     "execution_count": 69,
     "metadata": {},
     "output_type": "execute_result"
    }
   ],
   "source": [
    "# casefold()- Converts string into lower case\n",
    "txt=\"CHANDRAPUJARI\"\n",
    "txt.casefold()"
   ]
  },
  {
   "cell_type": "code",
   "execution_count": 71,
   "id": "b4050123",
   "metadata": {},
   "outputs": [
    {
     "ename": "TypeError",
     "evalue": "center expected at least 1 argument, got 0",
     "output_type": "error",
     "traceback": [
      "\u001b[1;31m---------------------------------------------------------------------------\u001b[0m",
      "\u001b[1;31mTypeError\u001b[0m                                 Traceback (most recent call last)",
      "\u001b[1;32m<ipython-input-71-8135b8270d59>\u001b[0m in \u001b[0;36m<module>\u001b[1;34m\u001b[0m\n\u001b[0;32m      1\u001b[0m \u001b[1;31m#center()- Returns a centered string\u001b[0m\u001b[1;33m\u001b[0m\u001b[1;33m\u001b[0m\u001b[1;33m\u001b[0m\u001b[0m\n\u001b[0;32m      2\u001b[0m \u001b[0mtxt\u001b[0m\u001b[1;33m=\u001b[0m\u001b[1;34m\"Chandra Shekhar Pujari\"\u001b[0m\u001b[1;33m\u001b[0m\u001b[1;33m\u001b[0m\u001b[0m\n\u001b[1;32m----> 3\u001b[1;33m \u001b[0mtxt\u001b[0m\u001b[1;33m.\u001b[0m\u001b[0mcenter\u001b[0m\u001b[1;33m(\u001b[0m\u001b[1;33m)\u001b[0m\u001b[1;33m\u001b[0m\u001b[1;33m\u001b[0m\u001b[0m\n\u001b[0m",
      "\u001b[1;31mTypeError\u001b[0m: center expected at least 1 argument, got 0"
     ]
    }
   ],
   "source": [
    "#center()- Returns a centered string\n",
    "txt=\"Chandra Shekhar Pujari\"\n",
    "txt.center()"
   ]
  },
  {
   "cell_type": "code",
   "execution_count": 73,
   "id": "a19106e7",
   "metadata": {},
   "outputs": [
    {
     "name": "stdout",
     "output_type": "stream",
     "text": [
      "OOOOOOObananaOOOOOOO\n"
     ]
    }
   ],
   "source": [
    "txt = \"banana\"\n",
    "\n",
    "x = txt.center(20, \"O\")\n",
    "\n",
    "print(x)"
   ]
  },
  {
   "cell_type": "code",
   "execution_count": 88,
   "id": "b49bf381",
   "metadata": {},
   "outputs": [
    {
     "name": "stdout",
     "output_type": "stream",
     "text": [
      "2\n"
     ]
    }
   ],
   "source": [
    "#count()- Returns the number of times a specified value occurs in a string\n",
    "txt = \"I love apples, apple are my favorite fruit\"\n",
    "\n",
    "x = txt.count(\"apple\", 0, 24)\n",
    "\n",
    "print(x)"
   ]
  },
  {
   "cell_type": "code",
   "execution_count": 90,
   "id": "a7a909f2",
   "metadata": {},
   "outputs": [
    {
     "data": {
      "text/plain": [
       "b'My name is Stale'"
      ]
     },
     "execution_count": 90,
     "metadata": {},
     "output_type": "execute_result"
    }
   ],
   "source": [
    "#encode()- method encodes the string, using the specified encoding. If no encoding is specified, UTF-8 will be used.\n",
    "txt = \"My name is Stale\"\n",
    "txt.encode()"
   ]
  },
  {
   "cell_type": "code",
   "execution_count": 91,
   "id": "c72ed888",
   "metadata": {},
   "outputs": [
    {
     "name": "stdout",
     "output_type": "stream",
     "text": [
      "['welcome', 'to', 'the', 'jungle']\n"
     ]
    }
   ],
   "source": [
    "#Split-Output will be list\n",
    "txt = \"welcome to the jungle\"\n",
    "\n",
    "x = txt.split()\n",
    "\n",
    "print(x)"
   ]
  },
  {
   "cell_type": "code",
   "execution_count": 94,
   "id": "184f0e77",
   "metadata": {},
   "outputs": [
    {
     "data": {
      "text/plain": [
       "['Hello Guys', ' How are you', ' I am well']"
      ]
     },
     "execution_count": 94,
     "metadata": {},
     "output_type": "execute_result"
    }
   ],
   "source": [
    "txt=\"Hello Guys, How are you, I am well\"\n",
    "\n",
    "txt.split(\",\")"
   ]
  },
  {
   "cell_type": "code",
   "execution_count": 96,
   "id": "97a9081d",
   "metadata": {},
   "outputs": [
    {
     "data": {
      "text/plain": [
       "True"
      ]
     },
     "execution_count": 96,
     "metadata": {},
     "output_type": "execute_result"
    }
   ],
   "source": [
    "#endswith()- method returns True if the string ends with the specified value, otherwise False.\n",
    "txt=\"chandra\"\n",
    "txt.endswith(\"a\")"
   ]
  },
  {
   "cell_type": "code",
   "execution_count": 98,
   "id": "e7f3815a",
   "metadata": {},
   "outputs": [
    {
     "data": {
      "text/plain": [
       "-1"
      ]
     },
     "execution_count": 98,
     "metadata": {},
     "output_type": "execute_result"
    }
   ],
   "source": [
    "#find() - returns output in bool,Searches the string for a specified value and returns the position of where it was found.\n",
    "#Note:- The find() method returns -1 if the value is not found.\n",
    "#The find() method is almost the same as the index() method,the only difference is that the index() method raises an exception if the value is not found.\n",
    "txt=\"ChandraPujari\"\n",
    "txt.find(\"P\",8,10)"
   ]
  },
  {
   "cell_type": "code",
   "execution_count": 99,
   "id": "ed49f26f",
   "metadata": {},
   "outputs": [
    {
     "data": {
      "text/plain": [
       "7"
      ]
     },
     "execution_count": 99,
     "metadata": {},
     "output_type": "execute_result"
    }
   ],
   "source": [
    "txt.index(\"P\")"
   ]
  },
  {
   "cell_type": "code",
   "execution_count": 100,
   "id": "7fd0d6e0",
   "metadata": {},
   "outputs": [
    {
     "name": "stdout",
     "output_type": "stream",
     "text": [
      "nameTESTcountry\n"
     ]
    }
   ],
   "source": [
    "#The join() method takes all items in an iterable and joins them into one string.\n",
    "myDict = {\"name\": \"John\", \"country\": \"Norway\"}\n",
    "mySeparator = \"TEST\"\n",
    "\n",
    "x = mySeparator.join(myDict)\n",
    "\n",
    "print(x)"
   ]
  },
  {
   "cell_type": "code",
   "execution_count": 103,
   "id": "0c584b5f",
   "metadata": {},
   "outputs": [
    {
     "name": "stdout",
     "output_type": "stream",
     "text": [
      "JohnPeterVicky\n"
     ]
    }
   ],
   "source": [
    "myTuple = (\"John\", \"Peter\", \"Vicky\")\n",
    "x=\"\"\n",
    "x = x.join(myTuple)\n",
    "\n",
    "print(x)"
   ]
  },
  {
   "cell_type": "code",
   "execution_count": 110,
   "id": "21fbe9cf",
   "metadata": {},
   "outputs": [
    {
     "name": "stdout",
     "output_type": "stream",
     "text": [
      "ChandraPujari PujariShekharPujari \n"
     ]
    }
   ],
   "source": [
    "x=[\"Chandra\",\" \",\"Shekhar\",\" \"]\n",
    "y=\"Pujari\"\n",
    "z=y.join(x)\n",
    "print(z)"
   ]
  },
  {
   "cell_type": "markdown",
   "id": "06fbd7e2",
   "metadata": {},
   "source": [
    "Booleans represent one of two values: True or False.\n",
    "\n",
    "The bool() function allows you to evaluate any value, and give you True or False in return,\n",
    "\n",
    "Almost any value is evaluated to True if it has some sort of content.\n",
    "\n",
    "Any string is True, except empty strings.\n",
    "\n",
    "Any number is True, except 0.\n",
    "\n",
    "Any list, tuple, set, and dictionary are True, except empty ones."
   ]
  },
  {
   "cell_type": "code",
   "execution_count": 112,
   "id": "8cae3fc8",
   "metadata": {},
   "outputs": [
    {
     "data": {
      "text/plain": [
       "True"
      ]
     },
     "execution_count": 112,
     "metadata": {},
     "output_type": "execute_result"
    }
   ],
   "source": [
    "list=[1,1,\"chandra\",\"pujari\",1+2j]\n",
    "bool(list)"
   ]
  },
  {
   "cell_type": "code",
   "execution_count": 113,
   "id": "fefb9434",
   "metadata": {},
   "outputs": [
    {
     "data": {
      "text/plain": [
       "False"
      ]
     },
     "execution_count": 113,
     "metadata": {},
     "output_type": "execute_result"
    }
   ],
   "source": [
    "x=0\n",
    "bool(x)"
   ]
  },
  {
   "cell_type": "markdown",
   "id": "3505a812",
   "metadata": {},
   "source": [
    "Python divides the operators in the following groups:\n",
    "\n",
    "Arithmetic operators\n",
    "Assignment operators\n",
    "Comparison operators\n",
    "Logical operators\n",
    "Identity operators\n",
    "Membership operators\n",
    "Bitwise operators"
   ]
  },
  {
   "cell_type": "code",
   "execution_count": 115,
   "id": "c29bf9f8",
   "metadata": {},
   "outputs": [
    {
     "name": "stdout",
     "output_type": "stream",
     "text": [
      "22\n"
     ]
    }
   ],
   "source": [
    "#Arithmetic Operators:\n",
    "# (+,-,*,/,//,%)\n",
    "\n",
    "a=10\n",
    "b=12\n",
    "c=a+b\n",
    "print(c)"
   ]
  },
  {
   "cell_type": "code",
   "execution_count": 116,
   "id": "d80557fe",
   "metadata": {},
   "outputs": [
    {
     "name": "stdout",
     "output_type": "stream",
     "text": [
      "-2\n"
     ]
    }
   ],
   "source": [
    "c=a-b\n",
    "print(c)"
   ]
  },
  {
   "cell_type": "code",
   "execution_count": 119,
   "id": "180ba74d",
   "metadata": {},
   "outputs": [
    {
     "name": "stdout",
     "output_type": "stream",
     "text": [
      "chandrachandrachandra\n"
     ]
    }
   ],
   "source": [
    "a=\"chandra\"\n",
    "a=a*3\n",
    "print(a)"
   ]
  },
  {
   "cell_type": "code",
   "execution_count": 120,
   "id": "3c2e7ba0",
   "metadata": {},
   "outputs": [
    {
     "ename": "TypeError",
     "evalue": "can only concatenate str (not \"int\") to str",
     "output_type": "error",
     "traceback": [
      "\u001b[1;31m---------------------------------------------------------------------------\u001b[0m",
      "\u001b[1;31mTypeError\u001b[0m                                 Traceback (most recent call last)",
      "\u001b[1;32m<ipython-input-120-78c7cf18b405>\u001b[0m in \u001b[0;36m<module>\u001b[1;34m\u001b[0m\n\u001b[0;32m      1\u001b[0m \u001b[0ma\u001b[0m\u001b[1;33m=\u001b[0m\u001b[1;34m\"Chandra\"\u001b[0m\u001b[1;33m\u001b[0m\u001b[1;33m\u001b[0m\u001b[0m\n\u001b[1;32m----> 2\u001b[1;33m \u001b[0mb\u001b[0m\u001b[1;33m=\u001b[0m\u001b[0ma\u001b[0m\u001b[1;33m+\u001b[0m\u001b[1;36m3\u001b[0m\u001b[1;33m\u001b[0m\u001b[1;33m\u001b[0m\u001b[0m\n\u001b[0m",
      "\u001b[1;31mTypeError\u001b[0m: can only concatenate str (not \"int\") to str"
     ]
    }
   ],
   "source": [
    "a=\"Chandra\"\n",
    "b=a+3"
   ]
  },
  {
   "cell_type": "code",
   "execution_count": 122,
   "id": "e50cf10d",
   "metadata": {},
   "outputs": [
    {
     "data": {
      "text/plain": [
       "'chandrapujari'"
      ]
     },
     "execution_count": 122,
     "metadata": {},
     "output_type": "execute_result"
    }
   ],
   "source": [
    "a=\"chandra\"\n",
    "b=\"pujari\"\n",
    "a+b"
   ]
  },
  {
   "cell_type": "code",
   "execution_count": 123,
   "id": "f299d352",
   "metadata": {},
   "outputs": [
    {
     "ename": "TypeError",
     "evalue": "unsupported operand type(s) for -: 'str' and 'str'",
     "output_type": "error",
     "traceback": [
      "\u001b[1;31m---------------------------------------------------------------------------\u001b[0m",
      "\u001b[1;31mTypeError\u001b[0m                                 Traceback (most recent call last)",
      "\u001b[1;32m<ipython-input-123-5ae0619f8fe1>\u001b[0m in \u001b[0;36m<module>\u001b[1;34m\u001b[0m\n\u001b[1;32m----> 1\u001b[1;33m \u001b[0ma\u001b[0m\u001b[1;33m-\u001b[0m\u001b[0mb\u001b[0m\u001b[1;33m\u001b[0m\u001b[1;33m\u001b[0m\u001b[0m\n\u001b[0m",
      "\u001b[1;31mTypeError\u001b[0m: unsupported operand type(s) for -: 'str' and 'str'"
     ]
    }
   ],
   "source": [
    "a-b"
   ]
  },
  {
   "cell_type": "code",
   "execution_count": 124,
   "id": "e26175b5",
   "metadata": {},
   "outputs": [
    {
     "ename": "TypeError",
     "evalue": "can't multiply sequence by non-int of type 'str'",
     "output_type": "error",
     "traceback": [
      "\u001b[1;31m---------------------------------------------------------------------------\u001b[0m",
      "\u001b[1;31mTypeError\u001b[0m                                 Traceback (most recent call last)",
      "\u001b[1;32m<ipython-input-124-8ce765dcfa30>\u001b[0m in \u001b[0;36m<module>\u001b[1;34m\u001b[0m\n\u001b[1;32m----> 1\u001b[1;33m \u001b[0ma\u001b[0m\u001b[1;33m*\u001b[0m\u001b[0mb\u001b[0m\u001b[1;33m\u001b[0m\u001b[1;33m\u001b[0m\u001b[0m\n\u001b[0m",
      "\u001b[1;31mTypeError\u001b[0m: can't multiply sequence by non-int of type 'str'"
     ]
    }
   ],
   "source": [
    "a*b"
   ]
  },
  {
   "cell_type": "markdown",
   "id": "fccdf930",
   "metadata": {},
   "source": [
    "List:\n",
    "====\n",
    "==================There are four collection data types in the Python programming language============================\n",
    "\n",
    "1. List is a collection which is ordered and changeable. Allows duplicate members.\n",
    "\n",
    "2. Tuple is a collection which is ordered and unchangeable. Allows duplicate members.\n",
    "\n",
    "3. Set is a collection which is unordered and unindexed. No duplicate members.\n",
    "\n",
    "4. Dictionary is a collection which is ordered* and changeable. No duplicate members.\n",
    "*******************************************************************************************************************\n",
    "Lists are used to store multiple items in a single variable.\n",
    "\n",
    "Lists are one of 4 built-in data types in Python used to store collections of data, the other 3 are Tuple, Set, and Dictionary, all with different qualities and usage.\n",
    "\n",
    "Lists are created using square brackets.\n",
    "\n",
    "List items are ordered, changeable, and allow duplicate values.\n",
    "\n",
    "List items are indexed, the first item has index [0], the second item has index [1] etc.\n",
    "\n",
    "When we say that lists are ordered, it means that the items have a defined order, and that order will not change.\n",
    "\n",
    "If you add new items to a list, the new items will be placed at the end of the list.\n",
    "\n",
    "The list is changeable, meaning that we can change, add, and remove items in a list after it has been created.\n",
    "\n",
    "Since lists are indexed, lists can have items with the same value.\n",
    "\n",
    "The list() Constructor:\n",
    "==================\n",
    "It is also possible to use the list() constructor when creating a new list."
   ]
  },
  {
   "cell_type": "code",
   "execution_count": 142,
   "id": "d10d2509",
   "metadata": {},
   "outputs": [
    {
     "name": "stdout",
     "output_type": "stream",
     "text": [
      "['chandra', 1, 2.0, 'Pujari', True]\n"
     ]
    }
   ],
   "source": [
    "l1=[\"chandra\",1,2.0,\"Pujari\",True]\n",
    "print(l1)"
   ]
  },
  {
   "cell_type": "code",
   "execution_count": 130,
   "id": "22d27799",
   "metadata": {},
   "outputs": [
    {
     "data": {
      "text/plain": [
       "'chandra'"
      ]
     },
     "execution_count": 130,
     "metadata": {},
     "output_type": "execute_result"
    }
   ],
   "source": [
    "# Access the list item\n",
    "# 1st Item of the list:\n",
    "\n",
    "l1[0]"
   ]
  },
  {
   "cell_type": "code",
   "execution_count": 131,
   "id": "aaa0635d",
   "metadata": {},
   "outputs": [
    {
     "data": {
      "text/plain": [
       "True"
      ]
     },
     "execution_count": 131,
     "metadata": {},
     "output_type": "execute_result"
    }
   ],
   "source": [
    "#Lst Item of the list\n",
    "l1[-1]\n",
    "#Note: Always remember list index starts with 0 from left hand side and from right hand it starts with -1 index.b"
   ]
  },
  {
   "cell_type": "code",
   "execution_count": 133,
   "id": "5dd35bd9",
   "metadata": {},
   "outputs": [
    {
     "name": "stdout",
     "output_type": "stream",
     "text": [
      "5\n"
     ]
    },
    {
     "data": {
      "text/plain": [
       "True"
      ]
     },
     "execution_count": 133,
     "metadata": {},
     "output_type": "execute_result"
    }
   ],
   "source": [
    "# Another way to get last element of the list:\n",
    "x=len(l1)\n",
    "print(x)\n",
    "l1[x-1]"
   ]
  },
  {
   "cell_type": "code",
   "execution_count": 134,
   "id": "55bf233a",
   "metadata": {},
   "outputs": [
    {
     "data": {
      "text/plain": [
       "['chandra', 1, 2.0]"
      ]
     },
     "execution_count": 134,
     "metadata": {},
     "output_type": "execute_result"
    }
   ],
   "source": [
    "# get first three element of the list\n",
    "l1[0:3]"
   ]
  },
  {
   "cell_type": "code",
   "execution_count": 136,
   "id": "2c7e4442",
   "metadata": {},
   "outputs": [
    {
     "data": {
      "text/plain": [
       "[1, 2.0, 'Pujari']"
      ]
     },
     "execution_count": 136,
     "metadata": {},
     "output_type": "execute_result"
    }
   ],
   "source": [
    "#get last three element of the list\n",
    "l1[-4:-1]"
   ]
  },
  {
   "cell_type": "code",
   "execution_count": 137,
   "id": "6833c1cf",
   "metadata": {},
   "outputs": [
    {
     "data": {
      "text/plain": [
       "[]"
      ]
     },
     "execution_count": 137,
     "metadata": {},
     "output_type": "execute_result"
    }
   ],
   "source": [
    "l1[-1:-4]\n",
    "#Note:Always remember list range starts from small to large. technically -1 is larger value than -4 hence it returned empty list."
   ]
  },
  {
   "cell_type": "code",
   "execution_count": 139,
   "id": "1a4b8f73",
   "metadata": {},
   "outputs": [
    {
     "name": "stdout",
     "output_type": "stream",
     "text": [
      "['shekhar', 1, 2.0, 'Pujari', True]\n"
     ]
    }
   ],
   "source": [
    "#list elments can be changed i.e list is mutable.\n",
    "l1[0]=\"shekhar\"\n",
    "print(l1)"
   ]
  },
  {
   "cell_type": "code",
   "execution_count": 144,
   "id": "30e96de2",
   "metadata": {},
   "outputs": [
    {
     "name": "stdout",
     "output_type": "stream",
     "text": [
      "['chandra', 1, 2.0, 'Pujari', True, 'India']\n"
     ]
    }
   ],
   "source": [
    "#As you can see first value of the list has been replace with the now value.\n",
    "# Now let see how we can add now element in the list\n",
    "l1.append(\"India\")\n",
    "print(l1)\n",
    "#Note: Always it will add new element in the end of the list"
   ]
  },
  {
   "cell_type": "markdown",
   "id": "e0b3d6b6",
   "metadata": {},
   "source": [
    "# Access Items\n",
    "List items are indexed and you can access them by referring to the index number:"
   ]
  },
  {
   "cell_type": "code",
   "execution_count": 79,
   "id": "d1014cb4",
   "metadata": {},
   "outputs": [],
   "source": [
    "l2 = [\"apple\", \"banana\", \"cherry\", \"orange\", \"kiwi\", \"melon\", \"mango\"]\n",
    "# 1. get first element 2. get last element  3. get from 2 to 6  4. get element upto 4th element 5. last three elements"
   ]
  },
  {
   "cell_type": "code",
   "execution_count": 80,
   "id": "64889e24-66ca-4a88-851d-9ad008e9c36b",
   "metadata": {},
   "outputs": [
    {
     "data": {
      "text/plain": [
       "'apple'"
      ]
     },
     "execution_count": 80,
     "metadata": {},
     "output_type": "execute_result"
    }
   ],
   "source": [
    "# 1. get first element \n",
    "l2[0]"
   ]
  },
  {
   "cell_type": "code",
   "execution_count": 81,
   "id": "4141a954-0389-4531-b57a-7a2ad2776f48",
   "metadata": {},
   "outputs": [
    {
     "data": {
      "text/plain": [
       "'mango'"
      ]
     },
     "execution_count": 81,
     "metadata": {},
     "output_type": "execute_result"
    }
   ],
   "source": [
    "#2. get last element\n",
    "l2[-1]"
   ]
  },
  {
   "cell_type": "code",
   "execution_count": 8,
   "id": "6aad9cf4-0ee8-45e6-89c9-a12598f1cf39",
   "metadata": {},
   "outputs": [
    {
     "data": {
      "text/plain": [
       "['banana', 'cherry', 'orange', 'kiwi', 'melon', 'mango']"
      ]
     },
     "execution_count": 8,
     "metadata": {},
     "output_type": "execute_result"
    }
   ],
   "source": [
    "#3. get from 2 to 6 \n",
    "l2[1:7]"
   ]
  },
  {
   "cell_type": "code",
   "execution_count": 10,
   "id": "324c50bb-f357-4668-91b6-f5542d6f8820",
   "metadata": {},
   "outputs": [
    {
     "data": {
      "text/plain": [
       "['apple', 'banana', 'cherry', 'orange']"
      ]
     },
     "execution_count": 10,
     "metadata": {},
     "output_type": "execute_result"
    }
   ],
   "source": [
    "#4. get element upto 4th element\n",
    "l2[0:4]"
   ]
  },
  {
   "cell_type": "code",
   "execution_count": 18,
   "id": "20e84899-1e6b-4dea-ba47-3e724321810f",
   "metadata": {},
   "outputs": [
    {
     "data": {
      "text/plain": [
       "['kiwi', 'melon', 'mango']"
      ]
     },
     "execution_count": 18,
     "metadata": {},
     "output_type": "execute_result"
    }
   ],
   "source": [
    "#5. last three elements\n",
    "l2[-3:]"
   ]
  },
  {
   "cell_type": "code",
   "execution_count": 19,
   "id": "f9c6b844-753a-4511-8c42-c60e2333207f",
   "metadata": {},
   "outputs": [
    {
     "data": {
      "text/plain": [
       "['apple', 'banana', 'cherry']"
      ]
     },
     "execution_count": 19,
     "metadata": {},
     "output_type": "execute_result"
    }
   ],
   "source": [
    "#6. First three elements\n",
    "l2[:3]"
   ]
  },
  {
   "cell_type": "code",
   "execution_count": 82,
   "id": "ddc1b785-1ef6-4d6a-acc3-8c102e1b8f45",
   "metadata": {},
   "outputs": [
    {
     "name": "stdout",
     "output_type": "stream",
     "text": [
      "orange\n"
     ]
    }
   ],
   "source": [
    "#get middle value of the list\n",
    "import math\n",
    "list_len=len(l2)%2\n",
    "if list_len!=0:\n",
    "    len1=len(l2)/2\n",
    "    print(l2[math.ceil(len1)-1])\n",
    "else:\n",
    "    mid_value=len(l2)/2\n",
    "    print(l2[round(mid_value)])\n",
    "    \n",
    "    "
   ]
  },
  {
   "cell_type": "markdown",
   "id": "05d9befe",
   "metadata": {},
   "source": [
    "# List Constructor:"
   ]
  },
  {
   "cell_type": "code",
   "execution_count": 1,
   "id": "d3656d88-92a3-4ecb-b5fb-0d33768bb5ae",
   "metadata": {},
   "outputs": [],
   "source": [
    "l1=list((\"chandra\",1,\"pujari\",\"cherry\",\"pujari\"))"
   ]
  },
  {
   "cell_type": "code",
   "execution_count": 2,
   "id": "dfa60d34-e100-44e3-97f7-84579e2f6758",
   "metadata": {},
   "outputs": [
    {
     "data": {
      "text/plain": [
       "['chandra', 1, 'pujari', 'cherry', 'pujari']"
      ]
     },
     "execution_count": 2,
     "metadata": {},
     "output_type": "execute_result"
    }
   ],
   "source": [
    "l1"
   ]
  },
  {
   "cell_type": "code",
   "execution_count": 3,
   "id": "c7b1fa1b-3f94-419e-ad43-ac30042ea716",
   "metadata": {},
   "outputs": [
    {
     "data": {
      "text/plain": [
       "'chandra'"
      ]
     },
     "execution_count": 3,
     "metadata": {},
     "output_type": "execute_result"
    }
   ],
   "source": [
    "l1[0]"
   ]
  },
  {
   "cell_type": "code",
   "execution_count": 4,
   "id": "e6540454",
   "metadata": {},
   "outputs": [],
   "source": [
    "#Add New Element in List\n",
    "#insert() is the function\n",
    "l1.insert(2,\"shekhar\")"
   ]
  },
  {
   "cell_type": "code",
   "execution_count": 5,
   "id": "98a9ad18",
   "metadata": {},
   "outputs": [
    {
     "data": {
      "text/plain": [
       "['chandra', 1, 'shekhar', 'pujari', 'cherry', 'pujari']"
      ]
     },
     "execution_count": 5,
     "metadata": {},
     "output_type": "execute_result"
    }
   ],
   "source": [
    "l1"
   ]
  },
  {
   "cell_type": "code",
   "execution_count": 6,
   "id": "f53fc79f",
   "metadata": {},
   "outputs": [],
   "source": [
    "l1.append(\"shekhar\")"
   ]
  },
  {
   "cell_type": "code",
   "execution_count": 7,
   "id": "280a678b",
   "metadata": {},
   "outputs": [
    {
     "data": {
      "text/plain": [
       "['chandra', 1, 'shekhar', 'pujari', 'cherry', 'pujari', 'shekhar']"
      ]
     },
     "execution_count": 7,
     "metadata": {},
     "output_type": "execute_result"
    }
   ],
   "source": [
    "l1"
   ]
  },
  {
   "cell_type": "markdown",
   "id": "1c2501af",
   "metadata": {},
   "source": [
    "Append Items\n",
    "To add an item to the end of the list, use the append() method:"
   ]
  },
  {
   "cell_type": "markdown",
   "id": "b3a24e64",
   "metadata": {},
   "source": [
    "# Difference b/w append() and insert() method:\n",
    "Append(): This method is used to add element in list but this method will add element at the end of the list.\n",
    "\n",
    "Insert(): This method is also used to add element but we can decide position , on which position we really want to insert element in the list."
   ]
  },
  {
   "cell_type": "code",
   "execution_count": 9,
   "id": "9b8e3312",
   "metadata": {},
   "outputs": [
    {
     "name": "stdout",
     "output_type": "stream",
     "text": [
      "['apple', 'banana', 'cherry', 'orange']\n"
     ]
    }
   ],
   "source": [
    "thislist = [\"apple\", \"banana\", \"cherry\"]\n",
    "thislist.append(\"orange\")\n",
    "print(thislist)"
   ]
  },
  {
   "cell_type": "code",
   "execution_count": 10,
   "id": "c57b3d5a",
   "metadata": {},
   "outputs": [],
   "source": [
    "thislist.insert(2,\"chandra\")"
   ]
  },
  {
   "cell_type": "code",
   "execution_count": 11,
   "id": "ceab1e88",
   "metadata": {},
   "outputs": [
    {
     "data": {
      "text/plain": [
       "['apple', 'banana', 'chandra', 'cherry', 'orange']"
      ]
     },
     "execution_count": 11,
     "metadata": {},
     "output_type": "execute_result"
    }
   ],
   "source": [
    "thislist"
   ]
  },
  {
   "cell_type": "markdown",
   "id": "ca9ef7bc",
   "metadata": {},
   "source": [
    "Add Any Iterable to list:\n",
    "    extend() method is used"
   ]
  },
  {
   "cell_type": "code",
   "execution_count": 12,
   "id": "ac432ca0",
   "metadata": {},
   "outputs": [
    {
     "name": "stdout",
     "output_type": "stream",
     "text": [
      "['apple', 'banana', 'chandra', 'cherry', 'orange', 'chandra', 'pujari']\n"
     ]
    }
   ],
   "source": [
    "t1=(\"chandra\",\"pujari\") #t1 is tuple\n",
    "thislist.extend(t1)\n",
    "print(thislist)"
   ]
  },
  {
   "cell_type": "markdown",
   "id": "e99c38d0",
   "metadata": {},
   "source": [
    "# Remove List Items:\n",
    "    \n",
    "    Remove Specified Item:\n",
    "        \n",
    "The remove() method removes the specified item.\n",
    "\n",
    "    Remove Specified Index:\n",
    "    \n",
    "pop() method : removes the specified index.\n",
    "note:If you do not specify the index, the pop() method removes the last item.\n",
    "    \n",
    "    The del keyword also removes the specified index.\n",
    "    The del keyword can delete entire list if you don't specify index.\n",
    "    \n",
    "    Clear the List:\n",
    "    \n",
    "The clear() method empties the list.\n",
    "\n",
    "The list still remains, but it has no content."
   ]
  },
  {
   "cell_type": "code",
   "execution_count": 14,
   "id": "079adee6",
   "metadata": {},
   "outputs": [
    {
     "name": "stdout",
     "output_type": "stream",
     "text": [
      "[1, 2, 3, 'chandra', 'pujari', 1.2, 'India', 'pujari']\n"
     ]
    }
   ],
   "source": [
    "l1=[1,2,3,\"chandra\",\"pujari\",1.2,\"India\",\"pujari\"]\n",
    "print(l1)\n"
   ]
  },
  {
   "cell_type": "code",
   "execution_count": 15,
   "id": "0d30bc57",
   "metadata": {},
   "outputs": [],
   "source": [
    "l1.remove(\"pujari\")"
   ]
  },
  {
   "cell_type": "code",
   "execution_count": 16,
   "id": "e0f4d2ee",
   "metadata": {},
   "outputs": [
    {
     "name": "stdout",
     "output_type": "stream",
     "text": [
      "[1, 2, 3, 'chandra', 1.2, 'India', 'pujari']\n"
     ]
    }
   ],
   "source": [
    "print(l1)"
   ]
  },
  {
   "cell_type": "code",
   "execution_count": 19,
   "id": "112b504c",
   "metadata": {},
   "outputs": [
    {
     "name": "stdout",
     "output_type": "stream",
     "text": [
      "[1, 2, 3, 'chandra', 1.2]\n"
     ]
    }
   ],
   "source": [
    "l1.pop()#------------remove lst element of the list\n",
    "print(l1)"
   ]
  },
  {
   "cell_type": "code",
   "execution_count": 20,
   "id": "3bae556c",
   "metadata": {},
   "outputs": [
    {
     "name": "stdout",
     "output_type": "stream",
     "text": [
      "[2, 3, 'chandra', 1.2]\n"
     ]
    }
   ],
   "source": [
    "l1.pop(0)\n",
    "print(l1)"
   ]
  },
  {
   "cell_type": "code",
   "execution_count": 24,
   "id": "1a680034",
   "metadata": {},
   "outputs": [
    {
     "name": "stdout",
     "output_type": "stream",
     "text": [
      "[3, 'chandra', 1.2]\n"
     ]
    }
   ],
   "source": [
    "#Note: del is a keyword\n",
    "del l1[0]\n",
    "print(l1)"
   ]
  },
  {
   "cell_type": "code",
   "execution_count": 25,
   "id": "25b342b3",
   "metadata": {},
   "outputs": [],
   "source": [
    "#Clear(): It will clear the list\n",
    "\n",
    "l1.clear()"
   ]
  },
  {
   "cell_type": "code",
   "execution_count": 26,
   "id": "da278a5d",
   "metadata": {},
   "outputs": [
    {
     "data": {
      "text/plain": [
       "[]"
      ]
     },
     "execution_count": 26,
     "metadata": {},
     "output_type": "execute_result"
    }
   ],
   "source": [
    "l1\n",
    "#note: list cleared no item inside the list"
   ]
  },
  {
   "cell_type": "code",
   "execution_count": 27,
   "id": "b487b8ea",
   "metadata": {},
   "outputs": [],
   "source": [
    "del l1"
   ]
  },
  {
   "cell_type": "code",
   "execution_count": 28,
   "id": "b4e196f2",
   "metadata": {},
   "outputs": [
    {
     "ename": "NameError",
     "evalue": "name 'l1' is not defined",
     "output_type": "error",
     "traceback": [
      "\u001b[1;31m---------------------------------------------------------------------------\u001b[0m",
      "\u001b[1;31mNameError\u001b[0m                                 Traceback (most recent call last)",
      "\u001b[1;32m<ipython-input-28-9957399d2fc4>\u001b[0m in \u001b[0;36m<module>\u001b[1;34m\u001b[0m\n\u001b[1;32m----> 1\u001b[1;33m \u001b[0mprint\u001b[0m\u001b[1;33m(\u001b[0m\u001b[0ml1\u001b[0m\u001b[1;33m)\u001b[0m\u001b[1;33m\u001b[0m\u001b[1;33m\u001b[0m\u001b[0m\n\u001b[0m",
      "\u001b[1;31mNameError\u001b[0m: name 'l1' is not defined"
     ]
    }
   ],
   "source": [
    "print(l1)"
   ]
  },
  {
   "cell_type": "markdown",
   "id": "ef4329d8",
   "metadata": {},
   "source": [
    "# Loops in list:"
   ]
  },
  {
   "cell_type": "code",
   "execution_count": 1,
   "id": "11fa1a93",
   "metadata": {},
   "outputs": [],
   "source": [
    "l1=[\"chandra\",\"Pujari\",\"Garima\",\"Sharma\",\"Cherry\",\"King\"]"
   ]
  },
  {
   "cell_type": "code",
   "execution_count": 2,
   "id": "69cfa6d3",
   "metadata": {},
   "outputs": [
    {
     "name": "stdout",
     "output_type": "stream",
     "text": [
      "chandra\n",
      "Pujari\n",
      "Garima\n",
      "Sharma\n",
      "Cherry\n",
      "King\n"
     ]
    }
   ],
   "source": [
    "for i in l1:\n",
    "    print(i)"
   ]
  },
  {
   "cell_type": "code",
   "execution_count": 3,
   "id": "10841146",
   "metadata": {},
   "outputs": [
    {
     "name": "stdout",
     "output_type": "stream",
     "text": [
      "apple\n",
      "banana\n",
      "cherry\n"
     ]
    }
   ],
   "source": [
    "thislist = [\"apple\", \"banana\", \"cherry\"]\n",
    "for i in range(len(thislist)):\n",
    "  print(thislist[i])"
   ]
  },
  {
   "cell_type": "code",
   "execution_count": 9,
   "id": "7666af6a",
   "metadata": {},
   "outputs": [
    {
     "name": "stdout",
     "output_type": "stream",
     "text": [
      "3\n",
      "4\n",
      "5\n"
     ]
    }
   ],
   "source": [
    "x=range(3,6)\n",
    "for n in x:\n",
    "    print(n)"
   ]
  },
  {
   "cell_type": "code",
   "execution_count": 1,
   "id": "325c2a88",
   "metadata": {},
   "outputs": [],
   "source": [
    "l1=[1,2,3,4,5,6,7,\"chandra\",\"pujari\",\"India\",\"Uttrakhand\",\"Ranikhet\"]"
   ]
  },
  {
   "cell_type": "code",
   "execution_count": 2,
   "id": "ee2ccdfe",
   "metadata": {},
   "outputs": [
    {
     "name": "stdout",
     "output_type": "stream",
     "text": [
      "1\n",
      "2\n",
      "3\n",
      "4\n",
      "5\n",
      "6\n",
      "7\n",
      "chandra\n",
      "pujari\n",
      "India\n",
      "Uttrakhand\n",
      "Ranikhet\n"
     ]
    }
   ],
   "source": [
    "for i in range(len(l1)):\n",
    "    print(l1[i])"
   ]
  },
  {
   "cell_type": "code",
   "execution_count": 4,
   "id": "d7cf3fd9",
   "metadata": {},
   "outputs": [
    {
     "name": "stdout",
     "output_type": "stream",
     "text": [
      "1\n",
      "2\n",
      "3\n",
      "4\n",
      "5\n",
      "6\n",
      "7\n",
      "chandra\n",
      "pujari\n",
      "India\n",
      "Uttrakhand\n",
      "Ranikhet\n"
     ]
    }
   ],
   "source": [
    "i=0\n",
    "while i < len(l1):\n",
    "    print(l1[i])\n",
    "    i=i+1\n",
    "    "
   ]
  },
  {
   "cell_type": "markdown",
   "id": "7b29023c",
   "metadata": {},
   "source": [
    "# List Comprehension:\n",
    "List comprehension offers a shorter syntax when you want to create a new list based on the values of an existing list."
   ]
  },
  {
   "cell_type": "code",
   "execution_count": 5,
   "id": "afebbe0f",
   "metadata": {},
   "outputs": [
    {
     "name": "stdout",
     "output_type": "stream",
     "text": [
      "['apple', 'banana', 'mango']\n"
     ]
    }
   ],
   "source": [
    "#Without list comprehension\n",
    "\n",
    "fruits = [\"apple\", \"banana\", \"cherry\", \"kiwi\", \"mango\"]\n",
    "newlist = []\n",
    "\n",
    "for x in fruits:\n",
    "  if \"a\" in x:\n",
    "    newlist.append(x)\n",
    "\n",
    "print(newlist)"
   ]
  },
  {
   "cell_type": "markdown",
   "id": "4d42707b",
   "metadata": {},
   "source": [
    "but with list comprehension we can write above code in single line of code\n",
    "newlist = [expression for item in iterable if condition == True]"
   ]
  },
  {
   "cell_type": "code",
   "execution_count": 7,
   "id": "c9aa9ee2",
   "metadata": {},
   "outputs": [
    {
     "name": "stdout",
     "output_type": "stream",
     "text": [
      "['apple', 'banana', 'mango']\n"
     ]
    }
   ],
   "source": [
    "newlist=[x for x in fruits if \"a\" in x]\n",
    "print(newlist)"
   ]
  },
  {
   "cell_type": "code",
   "execution_count": 9,
   "id": "0b182624",
   "metadata": {},
   "outputs": [
    {
     "name": "stdout",
     "output_type": "stream",
     "text": [
      "['banana', 'cherry', 'kiwi', 'mango']\n"
     ]
    }
   ],
   "source": [
    "newlist=[x for x in fruits if x!=\"apple\"]\n",
    "print(newlist)"
   ]
  },
  {
   "cell_type": "markdown",
   "id": "b92da83c",
   "metadata": {},
   "source": [
    "Iterable\n",
    "The iterable can be any iterable object, like a list, tuple, set etc."
   ]
  },
  {
   "cell_type": "code",
   "execution_count": 12,
   "id": "488d0087",
   "metadata": {},
   "outputs": [
    {
     "name": "stdout",
     "output_type": "stream",
     "text": [
      "[0, 1, 2, 3, 4, 5, 6, 7, 8, 9]\n"
     ]
    }
   ],
   "source": [
    "l1=list()\n",
    "l1=[i for i in range(10)]\n",
    "print(l1)"
   ]
  },
  {
   "cell_type": "code",
   "execution_count": 14,
   "id": "51d72e5a",
   "metadata": {},
   "outputs": [
    {
     "name": "stdout",
     "output_type": "stream",
     "text": [
      "[0, 1, 2, 3, 4]\n"
     ]
    }
   ],
   "source": [
    "l2=list()\n",
    "l2=[i for i in range(10) if i<5]\n",
    "print(l2)"
   ]
  },
  {
   "cell_type": "code",
   "execution_count": 15,
   "id": "0c78814f",
   "metadata": {},
   "outputs": [
    {
     "name": "stdout",
     "output_type": "stream",
     "text": [
      "['CHERRY', 'APPLE', 'BANANA', 'MANGO', 'PAPAYA', 'JACK']\n"
     ]
    }
   ],
   "source": [
    "fruits=[\"Cherry\",\"apple\",\"banana\",\"mango\",\"papaya\",\"jack\"]\n",
    "l3=list()\n",
    "l3=[x.upper() for x in fruits]\n",
    "print(l3)"
   ]
  },
  {
   "cell_type": "code",
   "execution_count": 23,
   "id": "8ccda43b",
   "metadata": {},
   "outputs": [
    {
     "name": "stdout",
     "output_type": "stream",
     "text": [
      "['Cherry']\n"
     ]
    }
   ],
   "source": [
    "l4=list()\n",
    "l4=[x for x in fruits if \"a\" not in x ]\n",
    "print(l4)"
   ]
  },
  {
   "cell_type": "code",
   "execution_count": 24,
   "id": "bd38179e",
   "metadata": {
    "scrolled": true
   },
   "outputs": [
    {
     "name": "stdout",
     "output_type": "stream",
     "text": [
      "['Cherry', 'apple', 'banana', 'mango', 'papaya', 'jack']\n"
     ]
    }
   ],
   "source": [
    "l4 = [x if x != \"banana\" else x for x in fruits]\n",
    "print(l4)"
   ]
  },
  {
   "cell_type": "markdown",
   "id": "b8d33190",
   "metadata": {},
   "source": [
    "# Sort List:\n",
    "List objects have a sort() method that will sort the list alphanumerically, ascending, by default."
   ]
  },
  {
   "cell_type": "code",
   "execution_count": 25,
   "id": "64bfaa0b",
   "metadata": {},
   "outputs": [
    {
     "name": "stdout",
     "output_type": "stream",
     "text": [
      "['banana', 'kiwi', 'mango', 'orange', 'pineapple']\n"
     ]
    }
   ],
   "source": [
    "thislist = [\"orange\", \"mango\", \"kiwi\", \"pineapple\", \"banana\"]\n",
    "thislist.sort()\n",
    "print(thislist)"
   ]
  },
  {
   "cell_type": "code",
   "execution_count": 26,
   "id": "2a90741b",
   "metadata": {},
   "outputs": [
    {
     "name": "stdout",
     "output_type": "stream",
     "text": [
      "[1, 2, 3, 4, 5, 6, 7, 8]\n"
     ]
    }
   ],
   "source": [
    "l5=[1,2,3,4,5,6,7,8]\n",
    "l5.sort()\n",
    "print(l5)\n",
    "# Note: By default sorting order would be ascending"
   ]
  },
  {
   "cell_type": "code",
   "execution_count": 28,
   "id": "1337fa2d",
   "metadata": {},
   "outputs": [
    {
     "name": "stdout",
     "output_type": "stream",
     "text": [
      "[8, 7, 6, 5, 4, 3, 2, 1]\n"
     ]
    }
   ],
   "source": [
    "# sort in descending order\n",
    "l5.sort(reverse=True)\n",
    "print(l5)"
   ]
  },
  {
   "cell_type": "markdown",
   "id": "763aace9",
   "metadata": {},
   "source": [
    "Copy List:\n",
    "    There are ways to make a copy, one way is to use the built-in List method copy().\n",
    "    Another way to make a copy is to use the built-in method list()."
   ]
  },
  {
   "cell_type": "code",
   "execution_count": 30,
   "id": "d73d26c9",
   "metadata": {},
   "outputs": [
    {
     "name": "stdout",
     "output_type": "stream",
     "text": [
      "['Cherry', 'apple', 'banana', 'mango', 'papaya', 'jack']\n"
     ]
    }
   ],
   "source": [
    "fruits=[\"Cherry\",\"apple\",\"banana\",\"mango\",\"papaya\",\"jack\"]\n",
    "l6=list()\n",
    "l6=fruits.copy()\n",
    "print(l6)"
   ]
  },
  {
   "cell_type": "code",
   "execution_count": 32,
   "id": "af0f4e75",
   "metadata": {},
   "outputs": [
    {
     "name": "stdout",
     "output_type": "stream",
     "text": [
      "['chandra']\n",
      "['Cherry', 'apple', 'banana', 'mango', 'papaya', 'jack']\n"
     ]
    }
   ],
   "source": [
    "#list(): we can use this method to copy items from onlist to another list.\n",
    "l7=[\"chandra\"]\n",
    "print(l7)\n",
    "l7=fruits.copy()\n",
    "print(l7)"
   ]
  },
  {
   "cell_type": "markdown",
   "id": "a790ba35",
   "metadata": {},
   "source": [
    "# Join Lists"
   ]
  },
  {
   "cell_type": "markdown",
   "id": "90b0478f",
   "metadata": {},
   "source": [
    "There are several ways to join, or concatenate, two or more lists in Python."
   ]
  },
  {
   "cell_type": "code",
   "execution_count": 4,
   "id": "cdcea526",
   "metadata": {},
   "outputs": [
    {
     "name": "stdout",
     "output_type": "stream",
     "text": [
      "[1, 2, 3, 4, 5, 'chandra', 'pujari', 'shekhar']\n"
     ]
    }
   ],
   "source": [
    "# + Operator:\n",
    "l1=[1,2,3,4,5]\n",
    "l2=[\"chandra\",\"pujari\",\"shekhar\"]\n",
    "l3=l1+l2\n",
    "print(l3)\n"
   ]
  },
  {
   "cell_type": "code",
   "execution_count": 2,
   "id": "244b5504",
   "metadata": {},
   "outputs": [
    {
     "name": "stdout",
     "output_type": "stream",
     "text": [
      "['chandra', 'pujari', 'shekhar', 1, 2, 3, 4, 5]\n"
     ]
    }
   ],
   "source": [
    "#append():this method is used to append elements\n",
    "for x in l1:\n",
    "    l2.append(x)\n",
    "print(l2)"
   ]
  },
  {
   "cell_type": "code",
   "execution_count": 5,
   "id": "304a5f2e",
   "metadata": {},
   "outputs": [
    {
     "name": "stdout",
     "output_type": "stream",
     "text": [
      "[1, 2, 3, 4, 5, 'chandra', 'pujari', 'shekhar']\n"
     ]
    }
   ],
   "source": [
    "#Extend():This method is used to extend the existing list\n",
    "l1.extend(l2)\n",
    "print(l1)"
   ]
  },
  {
   "cell_type": "code",
   "execution_count": 6,
   "id": "57dad50f",
   "metadata": {},
   "outputs": [
    {
     "name": "stdout",
     "output_type": "stream",
     "text": [
      "banana\n"
     ]
    }
   ],
   "source": [
    "#Print the second item of the list\n",
    "fruits = [\"apple\", \"banana\", \"cherry\"]\n",
    "print(fruits[1])"
   ]
  },
  {
   "cell_type": "markdown",
   "id": "75d233ae",
   "metadata": {},
   "source": [
    "# Tuple:\n",
    "Tuples are used to store multiple items in a single variable.\n",
    "\n",
    "Tuple is one of 4 built-in data types in Python used to store collections of data, the other 3 are List, Set, and Dictionary, all with different qualities and usage.\n",
    "\n",
    "A tuple is a collection which is ordered and unchangeable.\n",
    "\n",
    "Tuples are written with round brackets."
   ]
  },
  {
   "cell_type": "code",
   "execution_count": 7,
   "id": "7423165e",
   "metadata": {},
   "outputs": [
    {
     "name": "stdout",
     "output_type": "stream",
     "text": [
      "('apple', 'banana', 'orange')\n"
     ]
    }
   ],
   "source": [
    "t1=(\"apple\",\"banana\",\"orange\")\n",
    "print(t1)"
   ]
  },
  {
   "cell_type": "markdown",
   "id": "4ea5dabe",
   "metadata": {},
   "source": [
    "# Tuple Items\n",
    "Tuple items are ordered, unchangeable, and allow duplicate values.\n",
    "\n",
    "Tuple items are indexed, the first item has index [0], the second item has index [1] etc.\n",
    "\n",
    "Ordered:\n",
    "\n",
    "When we say that tuples are ordered, it means that the items have a defined order, and that order will not change.\n",
    "\n",
    "Unchangeable:\n",
    "\n",
    "Tuples are unchangeable, meaning that we cannot change, add or remove items after the tuple has been created.\n",
    "\n",
    "Allow Duplicates:\n",
    "\n",
    "Since tuples are indexed, they can have items with the same value:"
   ]
  },
  {
   "cell_type": "code",
   "execution_count": 9,
   "id": "0a9fcb1a",
   "metadata": {},
   "outputs": [
    {
     "data": {
      "text/plain": [
       "'apple'"
      ]
     },
     "execution_count": 9,
     "metadata": {},
     "output_type": "execute_result"
    }
   ],
   "source": [
    "t1[0]"
   ]
  },
  {
   "cell_type": "code",
   "execution_count": 10,
   "id": "34a65bce",
   "metadata": {
    "scrolled": true
   },
   "outputs": [
    {
     "ename": "TypeError",
     "evalue": "'tuple' object does not support item assignment",
     "output_type": "error",
     "traceback": [
      "\u001b[1;31m---------------------------------------------------------------------------\u001b[0m",
      "\u001b[1;31mTypeError\u001b[0m                                 Traceback (most recent call last)",
      "\u001b[1;32m<ipython-input-10-5c0c3201ef95>\u001b[0m in \u001b[0;36m<module>\u001b[1;34m\u001b[0m\n\u001b[1;32m----> 1\u001b[1;33m \u001b[0mt1\u001b[0m\u001b[1;33m[\u001b[0m\u001b[1;36m0\u001b[0m\u001b[1;33m]\u001b[0m\u001b[1;33m=\u001b[0m\u001b[1;34m\"Mango\"\u001b[0m\u001b[1;33m\u001b[0m\u001b[1;33m\u001b[0m\u001b[0m\n\u001b[0m",
      "\u001b[1;31mTypeError\u001b[0m: 'tuple' object does not support item assignment"
     ]
    }
   ],
   "source": [
    "t1[0]=\"Mango\"  #--------------Unchangeable"
   ]
  },
  {
   "cell_type": "code",
   "execution_count": 11,
   "id": "f9aaaa8e",
   "metadata": {
    "scrolled": true
   },
   "outputs": [
    {
     "ename": "AttributeError",
     "evalue": "'tuple' object has no attribute 'append'",
     "output_type": "error",
     "traceback": [
      "\u001b[1;31m---------------------------------------------------------------------------\u001b[0m",
      "\u001b[1;31mAttributeError\u001b[0m                            Traceback (most recent call last)",
      "\u001b[1;32m<ipython-input-11-e60a6160cdda>\u001b[0m in \u001b[0;36m<module>\u001b[1;34m\u001b[0m\n\u001b[1;32m----> 1\u001b[1;33m \u001b[0mt1\u001b[0m\u001b[1;33m.\u001b[0m\u001b[0mappend\u001b[0m\u001b[1;33m(\u001b[0m\u001b[1;34m\"apple\"\u001b[0m\u001b[1;33m)\u001b[0m\u001b[1;33m\u001b[0m\u001b[1;33m\u001b[0m\u001b[0m\n\u001b[0m",
      "\u001b[1;31mAttributeError\u001b[0m: 'tuple' object has no attribute 'append'"
     ]
    }
   ],
   "source": [
    "t1.append(\"apple\")"
   ]
  },
  {
   "cell_type": "markdown",
   "id": "87b3c4dd",
   "metadata": {},
   "source": [
    "Elements of the tuple can be accessed as same as list."
   ]
  },
  {
   "cell_type": "code",
   "execution_count": 12,
   "id": "e20a583e",
   "metadata": {},
   "outputs": [
    {
     "data": {
      "text/plain": [
       "'orange'"
      ]
     },
     "execution_count": 12,
     "metadata": {},
     "output_type": "execute_result"
    }
   ],
   "source": [
    "t1[-1]"
   ]
  },
  {
   "cell_type": "code",
   "execution_count": 13,
   "id": "e2799910",
   "metadata": {},
   "outputs": [
    {
     "data": {
      "text/plain": [
       "('apple', 'banana')"
      ]
     },
     "execution_count": 13,
     "metadata": {},
     "output_type": "execute_result"
    }
   ],
   "source": [
    "t1[0:2]"
   ]
  },
  {
   "cell_type": "markdown",
   "id": "5f1d02d9",
   "metadata": {},
   "source": [
    "# Update Tuples:\n",
    "Tuples are unchangeable, meaning that you cannot change, add, or remove items once the tuple is created.\n",
    "\n",
    "But there are some workarounds."
   ]
  },
  {
   "cell_type": "markdown",
   "id": "70b110c0",
   "metadata": {},
   "source": [
    "Once a tuple is created, you cannot change its values. Tuples are unchangeable, or immutable as it also is called.\n",
    "\n",
    "But there is a workaround. You can convert the tuple into a list, change the list, and convert the list back into a tuple."
   ]
  },
  {
   "cell_type": "code",
   "execution_count": 1,
   "id": "564673db",
   "metadata": {},
   "outputs": [
    {
     "ename": "AttributeError",
     "evalue": "'tuple' object has no attribute 'append'",
     "output_type": "error",
     "traceback": [
      "\u001b[1;31m---------------------------------------------------------------------------\u001b[0m",
      "\u001b[1;31mAttributeError\u001b[0m                            Traceback (most recent call last)",
      "\u001b[1;32m<ipython-input-1-c2cc1be3ebe2>\u001b[0m in \u001b[0;36m<module>\u001b[1;34m\u001b[0m\n\u001b[0;32m      1\u001b[0m \u001b[0mt1\u001b[0m\u001b[1;33m=\u001b[0m\u001b[1;33m(\u001b[0m\u001b[1;34m\"chandra\"\u001b[0m\u001b[1;33m,\u001b[0m\u001b[1;36m1\u001b[0m\u001b[1;33m,\u001b[0m\u001b[1;36m2\u001b[0m\u001b[1;33m,\u001b[0m\u001b[1;36m3\u001b[0m\u001b[1;33m,\u001b[0m\u001b[1;34m\"pujari\"\u001b[0m\u001b[1;33m)\u001b[0m\u001b[1;33m\u001b[0m\u001b[1;33m\u001b[0m\u001b[0m\n\u001b[1;32m----> 2\u001b[1;33m \u001b[0mt1\u001b[0m\u001b[1;33m.\u001b[0m\u001b[0mappend\u001b[0m\u001b[1;33m(\u001b[0m\u001b[1;34m\"Good\"\u001b[0m\u001b[1;33m)\u001b[0m\u001b[1;33m\u001b[0m\u001b[1;33m\u001b[0m\u001b[0m\n\u001b[0m",
      "\u001b[1;31mAttributeError\u001b[0m: 'tuple' object has no attribute 'append'"
     ]
    }
   ],
   "source": [
    "t1=(\"chandra\",1,2,3,\"pujari\")\n",
    "t1.append(\"Good\")"
   ]
  },
  {
   "cell_type": "code",
   "execution_count": 3,
   "id": "9c61eadc",
   "metadata": {},
   "outputs": [
    {
     "name": "stdout",
     "output_type": "stream",
     "text": [
      "['chandra', 1, 2, 3, 'pujari', 'good']\n",
      "('chandra', 1, 2, 3, 'pujari', 'good')\n"
     ]
    }
   ],
   "source": [
    "l1=list(t1)#--------------------------Convert first into list\n",
    "l1.append(\"good\")#--------------------Add Item to list\n",
    "print(l1)\n",
    "t1=tuple(l1)#---------------------------Convert back to tuple\n",
    "print(t1)"
   ]
  },
  {
   "cell_type": "markdown",
   "id": "0c76d3e6",
   "metadata": {},
   "source": [
    "Add tuple to a tuple. You are allowed to add tuples to tuples, so if you want to add one item, (or many), create a new tuple with the item(s), and add it to the existing tuple:"
   ]
  },
  {
   "cell_type": "code",
   "execution_count": 4,
   "id": "e7578077",
   "metadata": {},
   "outputs": [
    {
     "name": "stdout",
     "output_type": "stream",
     "text": [
      "('chandra', 1, 2, 3, 'Pujari', 'Shekhar', 'India')\n"
     ]
    }
   ],
   "source": [
    "t1=(\"chandra\",1,2,3,\"Pujari\")\n",
    "t2=(\"Shekhar\",\"India\")\n",
    "t1+=t2\n",
    "print(t1)"
   ]
  },
  {
   "cell_type": "markdown",
   "id": "1c152999",
   "metadata": {},
   "source": [
    "# Unpack Tuples:\n",
    "When we create a tuple, we normally assign values to it. This is called \"packing\" a tuple:\n",
    "But, in Python, we are also allowed to extract the values back into variables. This is called \"unpacking\":"
   ]
  },
  {
   "cell_type": "code",
   "execution_count": 5,
   "id": "da9f6bdb",
   "metadata": {},
   "outputs": [
    {
     "name": "stdout",
     "output_type": "stream",
     "text": [
      "apple\n",
      "banana\n",
      "cherry\n"
     ]
    }
   ],
   "source": [
    "#Unpacking tuple\n",
    "fruits = (\"apple\", \"banana\", \"cherry\")\n",
    "\n",
    "(green, yellow, red) = fruits\n",
    "\n",
    "print(green)\n",
    "print(yellow)\n",
    "print(red)\n",
    "\n",
    "#Note: The number of variables must match the number of values in the tuple, if not, you must use an asterisk to collect the remaining values as a list."
   ]
  },
  {
   "cell_type": "markdown",
   "id": "dbbbdd26",
   "metadata": {},
   "source": [
    "# Using Asterisk*\n",
    "If the number of variables is less than the number of values, you can add an * to the variable name and the values will be assigned to the variable as a list:"
   ]
  },
  {
   "cell_type": "code",
   "execution_count": 6,
   "id": "507723c5",
   "metadata": {},
   "outputs": [
    {
     "name": "stdout",
     "output_type": "stream",
     "text": [
      "apple\n",
      "banana\n",
      "['cherry', 'strawberry', 'raspberry']\n"
     ]
    }
   ],
   "source": [
    "fruits = (\"apple\", \"banana\", \"cherry\", \"strawberry\", \"raspberry\")\n",
    "\n",
    "(green, yellow, *red) = fruits\n",
    "\n",
    "print(green)\n",
    "print(yellow)\n",
    "print(red)"
   ]
  },
  {
   "cell_type": "code",
   "execution_count": 7,
   "id": "a4eda6df",
   "metadata": {},
   "outputs": [
    {
     "name": "stdout",
     "output_type": "stream",
     "text": [
      "apple\n",
      "['mango', 'papaya', 'pineapple']\n",
      "cherry\n"
     ]
    }
   ],
   "source": [
    "fruits = (\"apple\", \"mango\", \"papaya\", \"pineapple\", \"cherry\")\n",
    "\n",
    "(green, *tropic, red) = fruits\n",
    "\n",
    "print(green)\n",
    "print(tropic)\n",
    "print(red)\n",
    "#Note:If the asterisk is added to another variable name than the last, Python will assign values to the variable until the number of values left matches the number of variables left."
   ]
  },
  {
   "cell_type": "markdown",
   "id": "8870d15a",
   "metadata": {},
   "source": [
    "# Loop Through a Tuple"
   ]
  },
  {
   "cell_type": "code",
   "execution_count": 8,
   "id": "e2830376",
   "metadata": {},
   "outputs": [
    {
     "name": "stdout",
     "output_type": "stream",
     "text": [
      "apple\n",
      "banana\n",
      "cherry\n"
     ]
    }
   ],
   "source": [
    "thistuple = (\"apple\", \"banana\", \"cherry\")\n",
    "for x in thistuple:\n",
    "    print(x)"
   ]
  },
  {
   "cell_type": "code",
   "execution_count": 10,
   "id": "00e739ce",
   "metadata": {},
   "outputs": [
    {
     "name": "stdout",
     "output_type": "stream",
     "text": [
      "apple\n",
      "banana\n",
      "cherry\n"
     ]
    }
   ],
   "source": [
    "for x in range(len(thistuple)):\n",
    "    print(thistuple[x])"
   ]
  },
  {
   "cell_type": "code",
   "execution_count": 11,
   "id": "daa050bc",
   "metadata": {
    "scrolled": true
   },
   "outputs": [
    {
     "name": "stdout",
     "output_type": "stream",
     "text": [
      "1\n",
      "2\n",
      "3\n",
      "4\n",
      "5\n",
      "6\n",
      "chandra\n",
      "pujari\n"
     ]
    }
   ],
   "source": [
    "#While Loop:\n",
    "x=(1,2,3,4,5,6,\"chandra\",\"pujari\")\n",
    "i=0\n",
    "while i<len(x):\n",
    "    print(x[i])\n",
    "    i+=1"
   ]
  },
  {
   "cell_type": "markdown",
   "id": "2db555e7",
   "metadata": {},
   "source": [
    "# Join Tuple:"
   ]
  },
  {
   "cell_type": "code",
   "execution_count": 12,
   "id": "67626bb2",
   "metadata": {},
   "outputs": [
    {
     "name": "stdout",
     "output_type": "stream",
     "text": [
      "(1, 2, 3, 4, 5, 'chandra', 'pujari', 'shekhar')\n"
     ]
    }
   ],
   "source": [
    "t1=(1,2,3,4,5)\n",
    "t2=(\"chandra\",\"pujari\",\"shekhar\")\n",
    "t3=t1+t2\n",
    "print(t3)"
   ]
  },
  {
   "cell_type": "code",
   "execution_count": 13,
   "id": "a634ad6b",
   "metadata": {},
   "outputs": [
    {
     "data": {
      "text/plain": [
       "(1, 2, 3, 4, 5, 1, 2, 3, 4, 5)"
      ]
     },
     "execution_count": 13,
     "metadata": {},
     "output_type": "execute_result"
    }
   ],
   "source": [
    "t1*2"
   ]
  },
  {
   "cell_type": "code",
   "execution_count": 14,
   "id": "2fadb523",
   "metadata": {},
   "outputs": [
    {
     "name": "stdout",
     "output_type": "stream",
     "text": [
      "('apple', 'banana', 'cherry', 'apple', 'banana', 'cherry')\n"
     ]
    }
   ],
   "source": [
    "fruits = (\"apple\", \"banana\", \"cherry\")\n",
    "mytuple = fruits * 2\n",
    "\n",
    "print(mytuple)"
   ]
  },
  {
   "cell_type": "code",
   "execution_count": 18,
   "id": "0fd35d3f",
   "metadata": {},
   "outputs": [
    {
     "data": {
      "text/plain": [
       "1"
      ]
     },
     "execution_count": 18,
     "metadata": {},
     "output_type": "execute_result"
    }
   ],
   "source": [
    "t1.count(1)"
   ]
  },
  {
   "cell_type": "code",
   "execution_count": 19,
   "id": "89ea063f",
   "metadata": {},
   "outputs": [
    {
     "data": {
      "text/plain": [
       "0"
      ]
     },
     "execution_count": 19,
     "metadata": {},
     "output_type": "execute_result"
    }
   ],
   "source": [
    "t1.index(1)"
   ]
  },
  {
   "cell_type": "code",
   "execution_count": 20,
   "id": "46e40edc",
   "metadata": {},
   "outputs": [],
   "source": [
    "#tuple constructor\n",
    "t1=tuple()"
   ]
  },
  {
   "cell_type": "code",
   "execution_count": 21,
   "id": "1c6ef222",
   "metadata": {},
   "outputs": [
    {
     "data": {
      "text/plain": [
       "tuple"
      ]
     },
     "execution_count": 21,
     "metadata": {},
     "output_type": "execute_result"
    }
   ],
   "source": [
    "type(t1)"
   ]
  },
  {
   "cell_type": "markdown",
   "id": "803411b5",
   "metadata": {},
   "source": [
    "# Sets\n",
    "A set is a collection which is both unordered and unindexed.\n",
    "\n",
    "Sets are written with curly brackets.\n",
    "\n",
    "Note: Sets are unordered, so you cannot be sure in which order the items will appear.b"
   ]
  },
  {
   "cell_type": "markdown",
   "id": "e98d1790",
   "metadata": {},
   "source": [
    "Set items are unordered, unchangeable, and do not allow duplicate values.\n",
    "Unordered:\n",
    "    \n",
    "Unordered means that the items in a set do not have a defined order.\n",
    "\n",
    "Set items can appear in a different order every time you use them, and cannot be referred to by index or key.\n",
    "\n",
    "Unchangeable:\n",
    "    \n",
    "Sets are unchangeable, meaning that we cannot change the items after the set has been created.\n",
    "\n",
    "Once a set is created, you cannot change its items, but you can add new items.\n",
    "\n",
    "Duplicates Not Allowed:\n",
    "\n",
    "Sets cannot have two items with the same value.\n",
    "\n",
    "\n",
    "======================================================================================================\n",
    "\n",
    "Python Collections (Arrays):\n",
    "\n",
    "There are four collection data types in the Python programming language:\n",
    "\n",
    "1. List is a collection which is ordered and changeable. Allows duplicate members.\n",
    "2. Tuple is a collection which is ordered and unchangeable. Allows duplicate members.\n",
    "3. Set is a collection which is unordered and unindexed. No duplicate members.\n",
    "4. Dictionary is a collection which is ordered* and changeable. No duplicate members.\n",
    "======================================================================================================\n"
   ]
  },
  {
   "cell_type": "code",
   "execution_count": 30,
   "id": "98e8ef54",
   "metadata": {},
   "outputs": [
    {
     "name": "stdout",
     "output_type": "stream",
     "text": [
      "{1, 'chandra', 2, 'pujari'}\n"
     ]
    }
   ],
   "source": [
    "s1={\"chandra\",1,2,\"pujari\",\"chandra\"}\n",
    "print(s1)\n"
   ]
  },
  {
   "cell_type": "code",
   "execution_count": 31,
   "id": "a37f9e3a",
   "metadata": {},
   "outputs": [
    {
     "name": "stdout",
     "output_type": "stream",
     "text": [
      "1\n",
      "chandra\n",
      "2\n",
      "pujari\n"
     ]
    }
   ],
   "source": [
    "for x in s1:\n",
    "    print(x)"
   ]
  },
  {
   "cell_type": "code",
   "execution_count": 32,
   "id": "f18b2d5c",
   "metadata": {},
   "outputs": [
    {
     "data": {
      "text/plain": [
       "8"
      ]
     },
     "execution_count": 32,
     "metadata": {},
     "output_type": "execute_result"
    }
   ],
   "source": [
    "#length of the set :\n",
    "s1={1,2,3,4,5,6,7,8}\n",
    "len(s1)"
   ]
  },
  {
   "cell_type": "code",
   "execution_count": 33,
   "id": "093091e7",
   "metadata": {},
   "outputs": [
    {
     "name": "stdout",
     "output_type": "stream",
     "text": [
      "<class 'set'>\n"
     ]
    }
   ],
   "source": [
    "myset = {\"apple\", \"banana\", \"cherry\"}\n",
    "print(type(myset))"
   ]
  },
  {
   "cell_type": "code",
   "execution_count": 35,
   "id": "4f35ce2e",
   "metadata": {},
   "outputs": [],
   "source": [
    "s2=set()\n",
    "s2={\"chandra\",\"cherry\",\"Pujari\"}"
   ]
  },
  {
   "cell_type": "code",
   "execution_count": 36,
   "id": "1e3d353b",
   "metadata": {},
   "outputs": [
    {
     "name": "stdout",
     "output_type": "stream",
     "text": [
      "{'chandra', 'Pujari', 'cherry'}\n"
     ]
    }
   ],
   "source": [
    "print(s2)"
   ]
  },
  {
   "cell_type": "markdown",
   "id": "61c2493c",
   "metadata": {},
   "source": [
    "# Access Items from set:\n",
    "You cannot access items in a set by referring to an index or a key.\n",
    "\n",
    "But you can loop through the set items using a for loop, or ask if a specified value is present in a set, by using the in keyword."
   ]
  },
  {
   "cell_type": "code",
   "execution_count": 37,
   "id": "501d55c4",
   "metadata": {},
   "outputs": [
    {
     "name": "stdout",
     "output_type": "stream",
     "text": [
      "chandra\n",
      "Pujari\n",
      "cherry\n"
     ]
    }
   ],
   "source": [
    "for i in s2:\n",
    "    print(i)"
   ]
  },
  {
   "cell_type": "code",
   "execution_count": 38,
   "id": "345060d5",
   "metadata": {},
   "outputs": [
    {
     "name": "stdout",
     "output_type": "stream",
     "text": [
      "True\n"
     ]
    }
   ],
   "source": [
    "thisset = {\"apple\", \"banana\", \"cherry\"}\n",
    "\n",
    "print(\"banana\" in thisset)"
   ]
  },
  {
   "cell_type": "markdown",
   "id": "fac620c2",
   "metadata": {},
   "source": [
    "Once a set is created, you cannot change its items, but you can add new items."
   ]
  },
  {
   "cell_type": "code",
   "execution_count": 39,
   "id": "8ea9f330",
   "metadata": {},
   "outputs": [
    {
     "name": "stdout",
     "output_type": "stream",
     "text": [
      "{'apple', 'banana', 'orange', 'cherry'}\n"
     ]
    }
   ],
   "source": [
    "\n",
    "#Add an item to a set, using the add() method:\n",
    "thisset = {\"apple\", \"banana\", \"cherry\"}\n",
    "\n",
    "thisset.add(\"orange\")\n",
    "\n",
    "print(thisset)"
   ]
  },
  {
   "cell_type": "code",
   "execution_count": 40,
   "id": "f8008bd4",
   "metadata": {},
   "outputs": [
    {
     "name": "stdout",
     "output_type": "stream",
     "text": [
      "{'apple', 'banana', 'mango', 'pineapple', 'papaya', 'cherry'}\n"
     ]
    }
   ],
   "source": [
    "#To add items from another set into the current set, use the update() method.\n",
    "thisset = {\"apple\", \"banana\", \"cherry\"}\n",
    "tropical = {\"pineapple\", \"mango\", \"papaya\"}\n",
    "\n",
    "thisset.update(tropical)\n",
    "\n",
    "print(thisset)"
   ]
  },
  {
   "cell_type": "markdown",
   "id": "bf2af89a",
   "metadata": {},
   "source": [
    "The object in the update() method does not have to be a set, it can be any iterable object (tuples, lists, dictionaries etc.)."
   ]
  },
  {
   "cell_type": "code",
   "execution_count": 41,
   "id": "29fe5b37",
   "metadata": {},
   "outputs": [
    {
     "name": "stdout",
     "output_type": "stream",
     "text": [
      "{'apple', 'orange', 'banana', 'kiwi', 'cherry'}\n"
     ]
    }
   ],
   "source": [
    "thisset = {\"apple\", \"banana\", \"cherry\"}\n",
    "mylist = [\"kiwi\", \"orange\"]\n",
    "\n",
    "thisset.update(mylist)\n",
    "\n",
    "print(thisset)"
   ]
  },
  {
   "cell_type": "markdown",
   "id": "c8322348",
   "metadata": {},
   "source": [
    "# Remove Item From SET\n",
    "\n",
    "To remove an item in a set, use the remove(), or the discard() method.\n",
    "\n",
    "NOTE: If the item to remove does not exist, remove() will raise an error.\n",
    "\n",
    "You can also use the pop() method to remove an item, but this method will remove the last item. Remember that sets are unordered, so you will not know what item that gets removed.\n",
    "\n",
    "The return value of the pop() method is the removed item.\n",
    "\n",
    "The clear() method empties the set.\n",
    "\n",
    "The del keyword will delete the set completely."
   ]
  },
  {
   "cell_type": "code",
   "execution_count": 42,
   "id": "1708ba48",
   "metadata": {},
   "outputs": [
    {
     "name": "stdout",
     "output_type": "stream",
     "text": [
      "{'apple', 'cherry'}\n"
     ]
    }
   ],
   "source": [
    "thisset = {\"apple\", \"banana\", \"cherry\"}\n",
    "\n",
    "thisset.remove(\"banana\")\n",
    "\n",
    "print(thisset)"
   ]
  },
  {
   "cell_type": "code",
   "execution_count": 43,
   "id": "fa2f3c27",
   "metadata": {},
   "outputs": [
    {
     "name": "stdout",
     "output_type": "stream",
     "text": [
      "{'apple', 'cherry'}\n"
     ]
    }
   ],
   "source": [
    "thisset = {\"apple\", \"banana\", \"cherry\"}\n",
    "\n",
    "thisset.discard(\"banana\")\n",
    "\n",
    "print(thisset)"
   ]
  },
  {
   "cell_type": "markdown",
   "id": "c5fee03c",
   "metadata": {},
   "source": [
    "NOTE:If the item to remove does not exist, discard() will NOT raise an error."
   ]
  },
  {
   "cell_type": "code",
   "execution_count": 45,
   "id": "996cf1f8",
   "metadata": {},
   "outputs": [
    {
     "name": "stdout",
     "output_type": "stream",
     "text": [
      "apple\n",
      "{'banana', 'cherry'}\n"
     ]
    }
   ],
   "source": [
    "thisset = {\"apple\", \"banana\", \"cherry\"}\n",
    "\n",
    "x = thisset.pop()\n",
    "\n",
    "print(x)\n",
    "\n",
    "print(thisset)"
   ]
  },
  {
   "cell_type": "markdown",
   "id": "c18613d7",
   "metadata": {},
   "source": [
    "Note: Sets are unordered, so when using the pop() method, you do not know which item that gets removed."
   ]
  },
  {
   "cell_type": "code",
   "execution_count": 46,
   "id": "c57a805c",
   "metadata": {},
   "outputs": [
    {
     "name": "stdout",
     "output_type": "stream",
     "text": [
      "set()\n"
     ]
    }
   ],
   "source": [
    "\n",
    "#Clear():The clear() method empties the set\n",
    "thisset = {\"apple\", \"banana\", \"cherry\"}\n",
    "\n",
    "thisset.clear()\n",
    "\n",
    "print(thisset)"
   ]
  },
  {
   "cell_type": "code",
   "execution_count": 48,
   "id": "970e2186",
   "metadata": {
    "collapsed": true
   },
   "outputs": [
    {
     "ename": "NameError",
     "evalue": "name 'thisset' is not defined",
     "output_type": "error",
     "traceback": [
      "\u001b[1;31m---------------------------------------------------------------------------\u001b[0m",
      "\u001b[1;31mNameError\u001b[0m                                 Traceback (most recent call last)",
      "\u001b[1;32m<ipython-input-48-bc132ff0df28>\u001b[0m in \u001b[0;36m<module>\u001b[1;34m\u001b[0m\n\u001b[0;32m      4\u001b[0m \u001b[1;32mdel\u001b[0m \u001b[0mthisset\u001b[0m\u001b[1;33m\u001b[0m\u001b[1;33m\u001b[0m\u001b[0m\n\u001b[0;32m      5\u001b[0m \u001b[1;33m\u001b[0m\u001b[0m\n\u001b[1;32m----> 6\u001b[1;33m \u001b[0mprint\u001b[0m\u001b[1;33m(\u001b[0m\u001b[0mthisset\u001b[0m\u001b[1;33m)\u001b[0m\u001b[1;33m\u001b[0m\u001b[1;33m\u001b[0m\u001b[0m\n\u001b[0m",
      "\u001b[1;31mNameError\u001b[0m: name 'thisset' is not defined"
     ]
    }
   ],
   "source": [
    "#del: The del keyword will delete the set completely\n",
    "thisset = {\"apple\", \"banana\", \"cherry\"}\n",
    "\n",
    "del thisset\n",
    "\n",
    "print(thisset)"
   ]
  },
  {
   "cell_type": "markdown",
   "id": "943d6c56",
   "metadata": {},
   "source": [
    "# Join Sets:\n",
    "\n",
    "You can use the union() method that returns a new set containing all items from both sets, or the update() method that inserts all the items from one set into another:"
   ]
  },
  {
   "cell_type": "code",
   "execution_count": 49,
   "id": "dfd6cadf",
   "metadata": {
    "scrolled": true
   },
   "outputs": [
    {
     "name": "stdout",
     "output_type": "stream",
     "text": [
      "{1, 2, 3, 'a', 'c', 'b'}\n"
     ]
    }
   ],
   "source": [
    "# Union():The union() method returns a new set with all items from both sets\n",
    "set1 = {\"a\", \"b\" , \"c\"}\n",
    "set2 = {1, 2, 3}\n",
    "\n",
    "set3 = set1.union(set2)\n",
    "print(set3)\n",
    "\n",
    "#Note: with union method we need a new set."
   ]
  },
  {
   "cell_type": "code",
   "execution_count": 79,
   "id": "6858605d",
   "metadata": {},
   "outputs": [],
   "source": [
    "set1 = {\"a\", \"b\" , \"c\"}\n",
    "set2 = {1, 2, 3}\n",
    "set1.update(set2)\n",
    "#Note : Using update() method we don't need another set declared."
   ]
  },
  {
   "cell_type": "code",
   "execution_count": 80,
   "id": "7ad984d4",
   "metadata": {},
   "outputs": [
    {
     "name": "stdout",
     "output_type": "stream",
     "text": [
      "{1, 2, 3, 'a', 'c', 'b'}\n"
     ]
    }
   ],
   "source": [
    "print(set1)"
   ]
  },
  {
   "cell_type": "code",
   "execution_count": 85,
   "id": "a71259d8",
   "metadata": {},
   "outputs": [
    {
     "name": "stdout",
     "output_type": "stream",
     "text": [
      "{1, 2, 3, 4, 5, 6, 'Chandra', 'Shekhar', 'Pujari'}\n"
     ]
    }
   ],
   "source": [
    "set1={\"Chandra\",\"Pujari\",\"Shekhar\",\"Chandra\",\"Shekhar\"}\n",
    "set2={1,2,3,4,5,6,6,6,6,6}\n",
    "set3=set1.union(set2)\n",
    "print(set3)\n"
   ]
  },
  {
   "cell_type": "code",
   "execution_count": 91,
   "id": "5d05dd5e",
   "metadata": {},
   "outputs": [],
   "source": [
    "set1={\"Chandra\",\"Pujari\",\"Shekhar\",\"Chandra\",\"Shekhar\"}\n",
    "set2={1,2,3,4,5,6,6,6,6,6}\n",
    "set1.update(set2)"
   ]
  },
  {
   "cell_type": "code",
   "execution_count": 92,
   "id": "776b71dc",
   "metadata": {},
   "outputs": [
    {
     "name": "stdout",
     "output_type": "stream",
     "text": [
      "{1, 2, 3, 4, 5, 6, 'Chandra', 'Shekhar', 'Pujari'}\n"
     ]
    }
   ],
   "source": [
    "print(set1)"
   ]
  },
  {
   "cell_type": "markdown",
   "id": "c8a9224e",
   "metadata": {},
   "source": [
    "NOTE: Note: Both union() and update() will exclude any duplicate items."
   ]
  },
  {
   "cell_type": "code",
   "execution_count": 93,
   "id": "79ffaeb4",
   "metadata": {},
   "outputs": [
    {
     "name": "stdout",
     "output_type": "stream",
     "text": [
      "{1, 2, 3, 4, 5, 6}\n"
     ]
    }
   ],
   "source": [
    "#intersection_update(): It will keep only the items that are present in both sets\n",
    "\n",
    "set1.intersection_update(set2)\n",
    "print(set1)"
   ]
  },
  {
   "cell_type": "code",
   "execution_count": 94,
   "id": "79519061",
   "metadata": {},
   "outputs": [
    {
     "name": "stdout",
     "output_type": "stream",
     "text": [
      "{'apple'}\n"
     ]
    }
   ],
   "source": [
    "x = {\"apple\", \"banana\", \"cherry\"}\n",
    "y = {\"google\", \"microsoft\", \"apple\"}\n",
    "\n",
    "x.intersection_update(y)\n",
    "\n",
    "print(x)"
   ]
  },
  {
   "cell_type": "markdown",
   "id": "fa15fe12",
   "metadata": {},
   "source": [
    "Intersection(): The intersection() method will return a new set, that only contains the items that are present in both sets."
   ]
  },
  {
   "cell_type": "code",
   "execution_count": 96,
   "id": "961bd8c4",
   "metadata": {},
   "outputs": [
    {
     "name": "stdout",
     "output_type": "stream",
     "text": [
      "{'apple', 'cherry'}\n"
     ]
    }
   ],
   "source": [
    "x = {\"apple\", \"banana\", \"cherry\"}\n",
    "y = {\"google\", \"microsoft\", \"apple\",\"cherry\"}\n",
    "\n",
    "z = x.intersection(y)\n",
    "\n",
    "print(z)"
   ]
  },
  {
   "cell_type": "markdown",
   "id": "3605b6eb",
   "metadata": {},
   "source": [
    "symmetric_difference_update(): This method will keep only the elements that are NOT present in both sets."
   ]
  },
  {
   "cell_type": "code",
   "execution_count": 97,
   "id": "fcc6479d",
   "metadata": {},
   "outputs": [
    {
     "name": "stdout",
     "output_type": "stream",
     "text": [
      "{'microsoft', 'banana', 'google', 'cherry'}\n"
     ]
    }
   ],
   "source": [
    "x = {\"apple\", \"banana\", \"cherry\"}\n",
    "y = {\"google\", \"microsoft\", \"apple\"}\n",
    "\n",
    "x.symmetric_difference_update(y)\n",
    "\n",
    "print(x)"
   ]
  },
  {
   "cell_type": "markdown",
   "id": "5c5dec04",
   "metadata": {},
   "source": [
    "symmetric_difference() :This method will return a new set, that contains only the elements that are NOT present in both sets."
   ]
  },
  {
   "cell_type": "code",
   "execution_count": 98,
   "id": "f3c41831",
   "metadata": {},
   "outputs": [
    {
     "name": "stdout",
     "output_type": "stream",
     "text": [
      "{'banana', 'cherry', 'google', 'microsoft'}\n"
     ]
    }
   ],
   "source": [
    "x = {\"apple\", \"banana\", \"cherry\"}\n",
    "y = {\"google\", \"microsoft\", \"apple\"}\n",
    "\n",
    "z = x.symmetric_difference(y)\n",
    "\n",
    "print(z)"
   ]
  },
  {
   "cell_type": "code",
   "execution_count": 101,
   "id": "372ee966",
   "metadata": {},
   "outputs": [
    {
     "name": "stdout",
     "output_type": "stream",
     "text": [
      "{'banana', 'cherry'}\n"
     ]
    }
   ],
   "source": [
    "x = {\"apple\", \"banana\", \"cherry\"}\n",
    "y = {\"google\", \"microsoft\", \"apple\"}\n",
    "\n",
    "z = x.difference(y)\n",
    "\n",
    "print(z)"
   ]
  },
  {
   "cell_type": "markdown",
   "id": "07e000ec",
   "metadata": {},
   "source": [
    "# Dictionaries\n",
    "Dictionaries are used to store data values in key:value pairs.\n",
    "\n",
    "A dictionary is a collection which is ordered*, changeable and does not allow duplicates.\n",
    "\n",
    "Dictionary items are ordered, changeable, and does not allow duplicates.\n",
    "\n",
    "Dictionary items are presented in key:value pairs, and can be referred to by using the key name.\n",
    "\n",
    "Changeable:\n",
    "\n",
    "Dictionaries are changeable, meaning that we can change, add or remove items after the dictionary has been created.\n",
    "\n",
    "Duplicates Not Allowed:\n",
    "\n",
    "Dictionaries cannot have two items with the same key.\n"
   ]
  },
  {
   "cell_type": "code",
   "execution_count": 103,
   "id": "007bf19d",
   "metadata": {},
   "outputs": [
    {
     "name": "stdout",
     "output_type": "stream",
     "text": [
      "{'key1': 'Apple', 'key2': 'Banana', 'key3': 'Orange', 'key4': 'Cherry', 'key5': 'Grapes'}\n"
     ]
    }
   ],
   "source": [
    "d1={\"key1\":\"Apple\",\n",
    "   \"key2\":\"Banana\",\n",
    "   \"key3\":\"Orange\",\n",
    "   \"key4\":\"Cherry\",\n",
    "   \"key5\":\"Grapes\"}\n",
    "print(d1)"
   ]
  },
  {
   "cell_type": "markdown",
   "id": "31ffc63e",
   "metadata": {},
   "source": [
    "Dictionary Length:\n",
    "\n",
    "To determine how many items a dictionary has, use the len() function:"
   ]
  },
  {
   "cell_type": "code",
   "execution_count": 105,
   "id": "99e1e8aa",
   "metadata": {},
   "outputs": [
    {
     "data": {
      "text/plain": [
       "5"
      ]
     },
     "execution_count": 105,
     "metadata": {},
     "output_type": "execute_result"
    }
   ],
   "source": [
    "len(d1)"
   ]
  },
  {
   "cell_type": "markdown",
   "id": "c84d2713",
   "metadata": {},
   "source": [
    "Dictionary Items - Data Types:\n",
    "\n",
    "The values in dictionary items can be of any data type"
   ]
  },
  {
   "cell_type": "code",
   "execution_count": 106,
   "id": "57a4c000",
   "metadata": {},
   "outputs": [],
   "source": [
    "d2={\"key1\":\"Apple\",\n",
    "   \"key2\":\"Banana\",\n",
    "   \"key3\":1.2,\n",
    "   \"key4\":1,\n",
    "   \"key5\":[\"Grapes\",1,\"Kiwi\"]}"
   ]
  },
  {
   "cell_type": "code",
   "execution_count": 107,
   "id": "f7f74aa9",
   "metadata": {},
   "outputs": [
    {
     "name": "stdout",
     "output_type": "stream",
     "text": [
      "{'key1': 'Apple', 'key2': 'Banana', 'key3': 1.2, 'key4': 1, 'key5': ['Grapes', 1, 'Kiwi']}\n"
     ]
    }
   ],
   "source": [
    "print(d2)"
   ]
  },
  {
   "cell_type": "code",
   "execution_count": 109,
   "id": "33f51aa5",
   "metadata": {},
   "outputs": [
    {
     "data": {
      "text/plain": [
       "dict"
      ]
     },
     "execution_count": 109,
     "metadata": {},
     "output_type": "execute_result"
    }
   ],
   "source": [
    "type(d2)"
   ]
  },
  {
   "cell_type": "code",
   "execution_count": 110,
   "id": "18232bec",
   "metadata": {},
   "outputs": [
    {
     "name": "stdout",
     "output_type": "stream",
     "text": [
      "{'key1': 'Chandra', 'key2': 'Chandra', 'key3': 'Pujari', 'key4': 'Shekhar'}\n"
     ]
    }
   ],
   "source": [
    "d3={\"key1\":\"Chandra\",\n",
    "   \"key2\":\"Chandra\",\n",
    "   \"key3\":\"Pujari\",\n",
    "   \"key4\":\"Shekhar\"}\n",
    "print(d3)"
   ]
  },
  {
   "cell_type": "code",
   "execution_count": 114,
   "id": "489322ce",
   "metadata": {},
   "outputs": [
    {
     "name": "stdout",
     "output_type": "stream",
     "text": [
      "{'key1': 'Chandra', 'key2': 'Chandra', 'key3': 'Pujari', 'key4': 'Shekhar', 'key5': 'Charu'}\n"
     ]
    }
   ],
   "source": [
    "d3[\"key5\"]=\"Charu\"\n",
    "print(d3)"
   ]
  },
  {
   "cell_type": "markdown",
   "id": "8377d0d3",
   "metadata": {},
   "source": [
    "NOTE:\n",
    "    \n",
    "Duplicates Not Allowed:\n",
    "        \n",
    "Dictionaries cannot have two items with the same key"
   ]
  },
  {
   "cell_type": "code",
   "execution_count": 115,
   "id": "feda5f8f",
   "metadata": {},
   "outputs": [
    {
     "name": "stdout",
     "output_type": "stream",
     "text": [
      "{'brand': 'Ford', 'model': 'Mustang', 'year': 2020}\n"
     ]
    }
   ],
   "source": [
    "thisdict = {\n",
    "  \"brand\": \"Ford\",\n",
    "  \"model\": \"Mustang\",\n",
    "  \"year\": 1964,\n",
    "  \"year\": 2020\n",
    "}\n",
    "print(thisdict)"
   ]
  },
  {
   "cell_type": "markdown",
   "id": "35c1ac1c",
   "metadata": {},
   "source": [
    "# Access Dictionary Items"
   ]
  },
  {
   "cell_type": "code",
   "execution_count": 116,
   "id": "2942d589",
   "metadata": {},
   "outputs": [],
   "source": [
    "d2={\"key1\":\"Apple\",\n",
    "   \"key2\":\"Banana\",\n",
    "   \"key3\":1.2,\n",
    "   \"key4\":1,\n",
    "   \"key5\":[\"Grapes\",1,\"Kiwi\"]}\n"
   ]
  },
  {
   "cell_type": "code",
   "execution_count": 118,
   "id": "f7e815c1",
   "metadata": {},
   "outputs": [
    {
     "data": {
      "text/plain": [
       "'Banana'"
      ]
     },
     "execution_count": 118,
     "metadata": {},
     "output_type": "execute_result"
    }
   ],
   "source": [
    "d2[\"key2\"]"
   ]
  },
  {
   "cell_type": "code",
   "execution_count": 120,
   "id": "86acc391",
   "metadata": {},
   "outputs": [],
   "source": [
    "x=d2[\"key5\"]"
   ]
  },
  {
   "cell_type": "code",
   "execution_count": 121,
   "id": "e260466d",
   "metadata": {},
   "outputs": [
    {
     "data": {
      "text/plain": [
       "'Grapes'"
      ]
     },
     "execution_count": 121,
     "metadata": {},
     "output_type": "execute_result"
    }
   ],
   "source": [
    "x[0]"
   ]
  },
  {
   "cell_type": "code",
   "execution_count": 122,
   "id": "6f63f605",
   "metadata": {},
   "outputs": [
    {
     "data": {
      "text/plain": [
       "['Grapes', 1, 'Kiwi']"
      ]
     },
     "execution_count": 122,
     "metadata": {},
     "output_type": "execute_result"
    }
   ],
   "source": [
    "# Get():There is also a method called get() that will give you the same result:\n",
    "d2.get(\"key5\")"
   ]
  },
  {
   "cell_type": "code",
   "execution_count": 124,
   "id": "c9da47c2",
   "metadata": {},
   "outputs": [],
   "source": [
    "#Key(): this method returns list of keys in dictonary.\n",
    "l2=d2.keys()"
   ]
  },
  {
   "cell_type": "code",
   "execution_count": 126,
   "id": "03236c63",
   "metadata": {},
   "outputs": [
    {
     "data": {
      "text/plain": [
       "dict_keys"
      ]
     },
     "execution_count": 126,
     "metadata": {},
     "output_type": "execute_result"
    }
   ],
   "source": [
    "type(l2)"
   ]
  },
  {
   "cell_type": "code",
   "execution_count": 127,
   "id": "246a99d6",
   "metadata": {},
   "outputs": [
    {
     "data": {
      "text/plain": [
       "dict_values(['Apple', 'Banana', 1.2, 1, ['Grapes', 1, 'Kiwi']])"
      ]
     },
     "execution_count": 127,
     "metadata": {},
     "output_type": "execute_result"
    }
   ],
   "source": [
    "#values(): This method will return the list of values of dictonary.\n",
    "d2.values()"
   ]
  },
  {
   "cell_type": "code",
   "execution_count": 129,
   "id": "a0db3faf",
   "metadata": {},
   "outputs": [
    {
     "data": {
      "text/plain": [
       "dict_items([('key1', 'Apple'), ('key2', 'Banana'), ('key3', 1.2), ('key4', 1), ('key5', ['Grapes', 1, 'Kiwi'])])"
      ]
     },
     "execution_count": 129,
     "metadata": {},
     "output_type": "execute_result"
    }
   ],
   "source": [
    "# Items():The items() method will return each item in a dictionary, as tuples in a list.\n",
    "d2.items()"
   ]
  },
  {
   "cell_type": "markdown",
   "id": "e43b514b",
   "metadata": {},
   "source": [
    "Change Values:\n",
    "    \n",
    "You can change the value of a specific item by referring to its key name:"
   ]
  },
  {
   "cell_type": "code",
   "execution_count": 130,
   "id": "97d8582d",
   "metadata": {},
   "outputs": [
    {
     "name": "stdout",
     "output_type": "stream",
     "text": [
      "{'key1': 'Apple', 'key2': 'Banana', 'key3': 1.2, 'key4': 1, 'key5': 'Orange'}\n"
     ]
    }
   ],
   "source": [
    "d2={\"key1\":\"Apple\",\n",
    "   \"key2\":\"Banana\",\n",
    "   \"key3\":1.2,\n",
    "   \"key4\":1,\n",
    "   \"key5\":[\"Grapes\",1,\"Kiwi\"]}\n",
    "\n",
    "d2[\"key5\"]=\"Orange\"\n",
    "\n",
    "print(d2)\n",
    "\n",
    "#Note:this is simple way to change value in the dictionary"
   ]
  },
  {
   "cell_type": "markdown",
   "id": "e0e8f209",
   "metadata": {},
   "source": [
    "# Update Dictionary:\n",
    "    \n",
    "The update() method will update the dictionary with the items from the given argument.\n",
    "\n",
    "The argument must be a dictionary, or an iterable object with key:value pairs."
   ]
  },
  {
   "cell_type": "code",
   "execution_count": 131,
   "id": "b02154f4",
   "metadata": {},
   "outputs": [],
   "source": [
    "d2.update({\"key6\":\"Avocad\"})\n",
    "#Note: This method will be used to add new item in dictionary"
   ]
  },
  {
   "cell_type": "code",
   "execution_count": 132,
   "id": "c65688b2",
   "metadata": {},
   "outputs": [
    {
     "data": {
      "text/plain": [
       "{'key1': 'Apple',\n",
       " 'key2': 'Banana',\n",
       " 'key3': 1.2,\n",
       " 'key4': 1,\n",
       " 'key5': 'Orange',\n",
       " 'key6': 'Avocad'}"
      ]
     },
     "execution_count": 132,
     "metadata": {},
     "output_type": "execute_result"
    }
   ],
   "source": [
    "d2"
   ]
  },
  {
   "cell_type": "code",
   "execution_count": 133,
   "id": "f7cba6c3",
   "metadata": {},
   "outputs": [
    {
     "name": "stdout",
     "output_type": "stream",
     "text": [
      "{'key1': 'Apple', 'key2': 'Banana', 'key3': 1.2, 'key4': 1, 'key5': 'Orange', 'key6': 'Kiwi'}\n"
     ]
    }
   ],
   "source": [
    "d2.update({\"key6\":\"Kiwi\"})\n",
    "print(d2)"
   ]
  },
  {
   "cell_type": "markdown",
   "id": "7363bed6",
   "metadata": {},
   "source": [
    "# Add Dictionary Items:\n",
    "Adding an item to the dictionary is done by using a new index key and assigning a value to it."
   ]
  },
  {
   "cell_type": "code",
   "execution_count": 138,
   "id": "7a9cc3fa",
   "metadata": {},
   "outputs": [
    {
     "name": "stdout",
     "output_type": "stream",
     "text": [
      "{'key1': 'Apple', 'key2': 'Banana', 'key3': 1.2, 'key4': 1, 'key5': 'Orange', 'key6': 'Kiwi', 'key7': 4, 'key8': 5}\n"
     ]
    }
   ],
   "source": [
    "d2[\"key7\"]=4\n",
    "print(d2)"
   ]
  },
  {
   "cell_type": "code",
   "execution_count": 143,
   "id": "8b148a87",
   "metadata": {},
   "outputs": [
    {
     "name": "stdout",
     "output_type": "stream",
     "text": [
      "{'key1': 'Apple', 'key2': 'Banana', 'key3': 1.2, 'key4': 1, 'key5': 'Orange', 'key6': 'Kiwi', 'key7': 4, 'key8': 5}\n"
     ]
    }
   ],
   "source": [
    "d2.update({\"key8\":5})\n",
    "print(d2)"
   ]
  },
  {
   "cell_type": "markdown",
   "id": "71c7c8f8",
   "metadata": {},
   "source": [
    "# Remove Dictionary Items\n",
    "\n",
    "1. pop() method removes the item with the specified key name\n",
    "2. popitem() method removes the last inserted item\n",
    "3. del keyword removes the item with the specified key \n",
    "4. clear() method empties the dictionary"
   ]
  },
  {
   "cell_type": "code",
   "execution_count": 144,
   "id": "ddbaea87",
   "metadata": {},
   "outputs": [
    {
     "name": "stdout",
     "output_type": "stream",
     "text": [
      "{'key1': 'Apple', 'key2': 'Banana', 'key3': 1.2, 'key4': 1, 'key5': 'Orange', 'key6': 'Kiwi', 'key7': 4}\n"
     ]
    }
   ],
   "source": [
    "d2.pop(\"key8\")\n",
    "print(d2)"
   ]
  },
  {
   "cell_type": "code",
   "execution_count": 145,
   "id": "4e3f5241",
   "metadata": {},
   "outputs": [
    {
     "name": "stdout",
     "output_type": "stream",
     "text": [
      "{'key1': 'Apple', 'key2': 'Banana', 'key3': 1.2, 'key4': 1, 'key5': 'Orange', 'key6': 'Kiwi'}\n"
     ]
    }
   ],
   "source": [
    "d2.popitem()\n",
    "print(d2)"
   ]
  },
  {
   "cell_type": "code",
   "execution_count": 146,
   "id": "358b2c3f",
   "metadata": {},
   "outputs": [],
   "source": [
    "del d2[\"key6\"]"
   ]
  },
  {
   "cell_type": "code",
   "execution_count": 147,
   "id": "9a606645",
   "metadata": {},
   "outputs": [
    {
     "name": "stdout",
     "output_type": "stream",
     "text": [
      "{'key1': 'Apple', 'key2': 'Banana', 'key3': 1.2, 'key4': 1, 'key5': 'Orange'}\n"
     ]
    }
   ],
   "source": [
    "print(d2)"
   ]
  },
  {
   "cell_type": "code",
   "execution_count": 148,
   "id": "3f615d85",
   "metadata": {},
   "outputs": [
    {
     "name": "stdout",
     "output_type": "stream",
     "text": [
      "{}\n"
     ]
    }
   ],
   "source": [
    "d2.clear()\n",
    "print(d2)"
   ]
  },
  {
   "cell_type": "code",
   "execution_count": 149,
   "id": "2d85a1af",
   "metadata": {},
   "outputs": [],
   "source": [
    "del d2"
   ]
  },
  {
   "cell_type": "code",
   "execution_count": 150,
   "id": "6565f20a",
   "metadata": {},
   "outputs": [
    {
     "ename": "NameError",
     "evalue": "name 'd2' is not defined",
     "output_type": "error",
     "traceback": [
      "\u001b[1;31m---------------------------------------------------------------------------\u001b[0m",
      "\u001b[1;31mNameError\u001b[0m                                 Traceback (most recent call last)",
      "\u001b[1;32m<ipython-input-150-96b35a35e465>\u001b[0m in \u001b[0;36m<module>\u001b[1;34m\u001b[0m\n\u001b[1;32m----> 1\u001b[1;33m \u001b[0mprint\u001b[0m\u001b[1;33m(\u001b[0m\u001b[0md2\u001b[0m\u001b[1;33m)\u001b[0m\u001b[1;33m\u001b[0m\u001b[1;33m\u001b[0m\u001b[0m\n\u001b[0m",
      "\u001b[1;31mNameError\u001b[0m: name 'd2' is not defined"
     ]
    }
   ],
   "source": [
    "print(d2)"
   ]
  },
  {
   "cell_type": "markdown",
   "id": "9bf96987",
   "metadata": {},
   "source": [
    "# Loop through Dictionary:"
   ]
  },
  {
   "cell_type": "code",
   "execution_count": 151,
   "id": "f2ea23fe",
   "metadata": {},
   "outputs": [
    {
     "name": "stdout",
     "output_type": "stream",
     "text": [
      "{'key1': 'Apple', 'key2': 'Banana', 'key3': 1.2, 'key4': 1, 'key5': ['Grapes', 1, 'Kiwi']}\n"
     ]
    }
   ],
   "source": [
    "d2={\"key1\":\"Apple\",\n",
    "   \"key2\":\"Banana\",\n",
    "   \"key3\":1.2,\n",
    "   \"key4\":1,\n",
    "   \"key5\":[\"Grapes\",1,\"Kiwi\"]}\n",
    "print(d2)"
   ]
  },
  {
   "cell_type": "code",
   "execution_count": 152,
   "id": "f8823cdb",
   "metadata": {},
   "outputs": [
    {
     "name": "stdout",
     "output_type": "stream",
     "text": [
      "key1\n",
      "key2\n",
      "key3\n",
      "key4\n",
      "key5\n"
     ]
    }
   ],
   "source": [
    "for x in d2:\n",
    "    print(x)\n",
    "#Note: It means loop returns values of keys of dictionary"
   ]
  },
  {
   "cell_type": "code",
   "execution_count": 153,
   "id": "caf30214",
   "metadata": {},
   "outputs": [
    {
     "name": "stdout",
     "output_type": "stream",
     "text": [
      "key1\n",
      "key2\n",
      "key3\n",
      "key4\n",
      "key5\n"
     ]
    }
   ],
   "source": [
    "# Q:Print keys of dictionary\n",
    "for x in d2.keys():\n",
    "    print(x)"
   ]
  },
  {
   "cell_type": "code",
   "execution_count": 154,
   "id": "5c4c1757",
   "metadata": {},
   "outputs": [
    {
     "name": "stdout",
     "output_type": "stream",
     "text": [
      "Apple\n",
      "Banana\n",
      "1.2\n",
      "1\n",
      "['Grapes', 1, 'Kiwi']\n"
     ]
    }
   ],
   "source": [
    "#Q:Print values of dictionary\n",
    "for x in d2.values():\n",
    "    print(x)"
   ]
  },
  {
   "cell_type": "code",
   "execution_count": 159,
   "id": "788a6689",
   "metadata": {},
   "outputs": [
    {
     "name": "stdout",
     "output_type": "stream",
     "text": [
      "['key1', 'key2', 'key3', 'key4', 'key5'] ['Apple', 'Banana', 1.2, 1, ['Grapes', 1, 'Kiwi']]\n"
     ]
    }
   ],
   "source": [
    "#Q: Get keys and values into two different lists\n",
    "l1=list()\n",
    "l2=list()\n",
    "for x,y in d2.items():\n",
    "    l1.append(x)\n",
    "    l2.append(y)\n",
    "print(l1,l2)"
   ]
  },
  {
   "cell_type": "markdown",
   "id": "23ae8fcf",
   "metadata": {},
   "source": [
    "# Copy a Dictionary:\n",
    "\n",
    "We can't copy one dictionary to another dictionary simply by assiging one dictionary to another one.\n",
    "\n",
    "We have two built in methods to fulfill this purpose. Which can easly copy dictionary.\n",
    "\n",
    "1. Copy() 2. Dict()"
   ]
  },
  {
   "cell_type": "code",
   "execution_count": 8,
   "id": "791fb343",
   "metadata": {},
   "outputs": [],
   "source": [
    "d1={\"1\":\"Apple\",\"2\":\"Orange\",\"3\":\"Mango\",\"4\":\"Kiwi\",\"5\":\"Avocad\",\"6\":\"Papaya\",\"7\":\"Banana\",\"8\":\"Spota\",\"9\":\"Lichi\",}\n",
    "d2={\"key1\":1,\"key2\":2,\"Key3\":3,\"key4\":4,\"key5\":5,\"key6\":6,}"
   ]
  },
  {
   "cell_type": "code",
   "execution_count": 6,
   "id": "e7592b4c",
   "metadata": {},
   "outputs": [],
   "source": [
    "d1=d2.copy()"
   ]
  },
  {
   "cell_type": "code",
   "execution_count": 7,
   "id": "a3ea1379",
   "metadata": {},
   "outputs": [
    {
     "name": "stdout",
     "output_type": "stream",
     "text": [
      "{'key1': 1, 'key2': 2, 'Key3': 3, 'key4': 4, 'key5': 5, 'key6': 6}\n"
     ]
    }
   ],
   "source": [
    "print(d1)"
   ]
  },
  {
   "cell_type": "code",
   "execution_count": 10,
   "id": "aaf6a0ae",
   "metadata": {},
   "outputs": [
    {
     "name": "stdout",
     "output_type": "stream",
     "text": [
      "{'key1': 1, 'key2': 2, 'Key3': 3, 'key4': 4, 'key5': 5, 'key6': 6}\n"
     ]
    }
   ],
   "source": [
    "d1=dict(d2)\n",
    "print(d1)"
   ]
  },
  {
   "cell_type": "markdown",
   "id": "117593e1",
   "metadata": {},
   "source": [
    "# Nested Dictionaries:\n",
    "\n",
    "This is important topic bcz when we deal with JSON data we can see nested dictionaries many times.\n",
    "\n",
    "Nested dictionary is nothing but it's dictionary inside a dictionay.\n"
   ]
  },
  {
   "cell_type": "code",
   "execution_count": 11,
   "id": "9fdd263c",
   "metadata": {},
   "outputs": [],
   "source": [
    "d1={\"1\":\"Apple\",\"2\":{\"1\":\"Chandra\",\"2\":\"Shekhar\",\"3\":\"Pujari\"},\"3\":\"Mango\",\"4\":\"Kiwi\",\"5\":{\"key1\":\"Delhi\",\"Key2\":\"Bangalore\",\"key3\":\"Pune\"},\"6\":\"Papaya\",\"7\":\"Banana\",\"8\":\"Spota\",\"9\":\"Lichi\",}\n"
   ]
  },
  {
   "cell_type": "code",
   "execution_count": 12,
   "id": "39695ea3",
   "metadata": {},
   "outputs": [
    {
     "name": "stdout",
     "output_type": "stream",
     "text": [
      "{'1': 'Apple', '2': {'1': 'Chandra', '2': 'Shekhar', '3': 'Pujari'}, '3': 'Mango', '4': 'Kiwi', '5': {'key1': 'Delhi', 'Key2': 'Bangalore', 'key3': 'Pune'}, '6': 'Papaya', '7': 'Banana', '8': 'Spota', '9': 'Lichi'}\n"
     ]
    }
   ],
   "source": [
    "print(d1)"
   ]
  },
  {
   "cell_type": "code",
   "execution_count": 14,
   "id": "826fcb4c",
   "metadata": {},
   "outputs": [
    {
     "data": {
      "text/plain": [
       "'Pujari'"
      ]
     },
     "execution_count": 14,
     "metadata": {},
     "output_type": "execute_result"
    }
   ],
   "source": [
    "d1[\"2\"][\"3\"]"
   ]
  },
  {
   "cell_type": "code",
   "execution_count": 18,
   "id": "d8171aa8",
   "metadata": {},
   "outputs": [
    {
     "name": "stdout",
     "output_type": "stream",
     "text": [
      "{'child1': {'name': 'Emil', 'year': 2004}, 'child2': {'name': 'Tobias', 'year': 2007}, 'child3': {'name': 'Linus', 'year': [1, 2, 3, 4, 5]}}\n"
     ]
    }
   ],
   "source": [
    "#Create three dictionaries, then create one dictionary that will contain the other three dictionaries:\n",
    "\n",
    "child1 = {\n",
    "  \"name\" : \"Emil\",\n",
    "  \"year\" : 2004\n",
    "}\n",
    "child2 = {\n",
    "  \"name\" : \"Tobias\",\n",
    "  \"year\" : 2007\n",
    "}\n",
    "child3 = {\n",
    "  \"name\" : \"Linus\",\n",
    "  \"year\" : [1,2,3,4,5]\n",
    "}\n",
    "\n",
    "mychild={\"child1\":child1,\"child2\":child2,\"child3\":child3}\n",
    "print(mychild)"
   ]
  },
  {
   "cell_type": "code",
   "execution_count": 20,
   "id": "77f24924",
   "metadata": {},
   "outputs": [
    {
     "data": {
      "text/plain": [
       "[2, 3, 4, 5]"
      ]
     },
     "execution_count": 20,
     "metadata": {},
     "output_type": "execute_result"
    }
   ],
   "source": [
    "#get value from thrid dictionary value\n",
    "\n",
    "mychild[\"child3\"][\"year\"][1:5]"
   ]
  },
  {
   "cell_type": "markdown",
   "id": "16a85277",
   "metadata": {},
   "source": [
    "# Dictionary Methods:\n",
    "    \n",
    "clear()\t: Removes all the elements from the dictionary\n",
    "copy()\t: Returns a copy of the dictionary\n",
    "fromkeys(): Returns a dictionary with the specified keys and value\n",
    "get() : Returns the value of the specified key\n",
    "items(): Returns a list containing a tuple for each key value pair\n",
    "keys(): Returns a list containing the dictionary's keys\n",
    "pop(): Removes the element with the specified key\n",
    "popitem(): Removes the last inserted key-value pair\n",
    "setdefault(): Returns the value of the specified key. If the key does not exist: insert the key, with the specified value\n",
    "update(): Updates the dictionary with the specified key-value pairs\n",
    "values(): Returns a list of all the values in the dictionary"
   ]
  },
  {
   "cell_type": "markdown",
   "id": "c59048b0",
   "metadata": {},
   "source": [
    "# If ... Else:\n",
    "\n",
    "An \"if statement\" is written by using the if keyword.\n",
    "\n",
    "elif keyword is pythons way of saying \"if the previous conditions were not true, then try this condition\".\n",
    "\n",
    "else keyword catches anything which isn't caught by the preceding conditions.\n",
    "\n",
    "\n",
    "The pass Statement:\n",
    "\n",
    "if statements cannot be empty, but if you for some reason have an if statement with no content, put in the pass statement to avoid getting an error."
   ]
  },
  {
   "cell_type": "code",
   "execution_count": 21,
   "id": "9f8f1c5b",
   "metadata": {},
   "outputs": [
    {
     "name": "stdout",
     "output_type": "stream",
     "text": [
      "['chandra', 'puajri', 'shekhar', 'Garima', 'Sharma'] ['jk']\n"
     ]
    }
   ],
   "source": [
    "l1=[\"chandra\",\"puajri\",\"shekhar\",\"Garima\",\"Sharma\",\"jk\"]\n",
    "l2=list()\n",
    "l3=list()\n",
    "for x in l1:\n",
    "    if \"a\" in x:\n",
    "        l2.append(x)\n",
    "    else:\n",
    "        l3.append(x)\n",
    "print(l2,l3)\n",
    "        \n",
    "        "
   ]
  },
  {
   "cell_type": "code",
   "execution_count": 25,
   "id": "08c90bff",
   "metadata": {},
   "outputs": [
    {
     "name": "stdout",
     "output_type": "stream",
     "text": [
      "[2, 4, 6, 8, 10, 12, 14, 16, 18, 20, 22, 24, 26, 28, 30, 32, 34, 36, 38, 40, 42, 44, 46, 48, 50, 52, 54, 56, 58, 60, 62, 64, 66, 68, 70, 72, 74, 76, 78, 80, 82, 84, 86, 88, 90, 92, 94, 96, 98, 100] [1, 3, 5, 7, 9, 11, 13, 15, 17, 19, 21, 23, 25, 27, 29, 31, 33, 35, 37, 39, 41, 43, 45, 47, 49, 51, 53, 55, 57, 59, 61, 63, 65, 67, 69, 71, 73, 75, 77, 79, 81, 83, 85, 87, 89, 91, 93, 95, 97, 99]\n"
     ]
    }
   ],
   "source": [
    "# write a programe to create two lists of odd and even number in 1 to 100\n",
    "\n",
    "even=list()\n",
    "odd=list()\n",
    "i=1\n",
    "while i<=100:\n",
    "    if i%2==0:\n",
    "        even.append(i)\n",
    "    else:\n",
    "        odd.append(i)\n",
    "    i+=1\n",
    "print(even, odd)"
   ]
  },
  {
   "cell_type": "markdown",
   "id": "e8cf53b0",
   "metadata": {},
   "source": [
    "# Loops:\n",
    "    \n",
    "Python has two primitive loop commands:\n",
    "\n",
    "1. while loops\n",
    "2. for loops\n",
    "\n",
    "While loops:\n",
    "\n",
    "while loop we can execute a set of statements as long as a condition is true.\n",
    "\n",
    "The break Statement:\n",
    "\n",
    "With the break statement we can stop the loop even if the while condition is true\n",
    "\n",
    "The continue Statement:\n",
    "\n",
    "With the continue statement we can stop the current iteration of the loop, and continue with the next\n",
    "\n",
    "For loops:\n",
    "\n",
    "A for loop is used for iterating over a sequence (that is either a list, a tuple, a dictionary, a set, or a string).\n",
    "\n",
    "The for loop does not require an indexing variable to set beforehand.\n",
    "\n",
    "Break & Continue Statement:\n",
    "\n",
    "With the break statement we can stop the loop before it has looped through all the items.\n",
    "With the continue statement we can stop the current iteration of the loop, and continue with the next\n",
    "\n",
    "\n",
    "range()Function:\n",
    "\n",
    "To loop through a set of code a specified number of times, we can use the range() function.\n",
    "\n",
    "The range() function returns a sequence of numbers, starting from 0 by default, and increments by 1 (by default), and ends at a specified number.\n",
    "\n",
    "\n",
    "Nested Loops:\n",
    "\n",
    "A nested loop is a loop inside a loop.\n",
    "\n",
    "The \"inner loop\" will be executed one time for each iteration of the \"outer loop\"\n",
    "\n",
    "\n",
    "NOTE : for loops cannot be empty, but if you for some reason have a for loop with no content, put in the pass statement to avoid getting an error."
   ]
  },
  {
   "cell_type": "code",
   "execution_count": 29,
   "id": "4e63da03",
   "metadata": {},
   "outputs": [],
   "source": [
    "l1=list()\n",
    "for x in \"chandra\":\n",
    "    l1.append(x)"
   ]
  },
  {
   "cell_type": "code",
   "execution_count": 30,
   "id": "66512895",
   "metadata": {},
   "outputs": [
    {
     "name": "stdout",
     "output_type": "stream",
     "text": [
      "['c', 'h', 'a', 'n', 'd', 'r', 'a']\n"
     ]
    }
   ],
   "source": [
    "print(l1)"
   ]
  },
  {
   "cell_type": "code",
   "execution_count": 31,
   "id": "7983f4d6",
   "metadata": {},
   "outputs": [
    {
     "name": "stdout",
     "output_type": "stream",
     "text": [
      "[1, 2, 3, 4, 5]\n"
     ]
    }
   ],
   "source": [
    "l1=[1,2,3,4,5,6,7,8,9]\n",
    "l2=list()\n",
    "for x in l1:\n",
    "    if x==6:\n",
    "        break\n",
    "    else:\n",
    "        l2.append(x)\n",
    "print(l2)\n",
    "    "
   ]
  },
  {
   "cell_type": "code",
   "execution_count": 35,
   "id": "7acc390b",
   "metadata": {
    "scrolled": true
   },
   "outputs": [
    {
     "ename": "SyntaxError",
     "evalue": "unexpected EOF while parsing (<ipython-input-35-37a23f7d5116>, line 1)",
     "output_type": "error",
     "traceback": [
      "\u001b[1;36m  File \u001b[1;32m\"<ipython-input-35-37a23f7d5116>\"\u001b[1;36m, line \u001b[1;32m1\u001b[0m\n\u001b[1;33m    for x in l1:\u001b[0m\n\u001b[1;37m                ^\u001b[0m\n\u001b[1;31mSyntaxError\u001b[0m\u001b[1;31m:\u001b[0m unexpected EOF while parsing\n"
     ]
    }
   ],
   "source": [
    "for x in l1:\n"
   ]
  },
  {
   "cell_type": "code",
   "execution_count": 37,
   "id": "5d43757e",
   "metadata": {},
   "outputs": [],
   "source": [
    "for x in l1:\n",
    "    pass\n",
    "#Note:we can't leave for loop blank otherwise it throws exception."
   ]
  },
  {
   "cell_type": "code",
   "execution_count": 45,
   "id": "764d169d",
   "metadata": {},
   "outputs": [
    {
     "name": "stdout",
     "output_type": "stream",
     "text": [
      "[1, 2, 3, 4, 6, 7, 8, 9]\n"
     ]
    }
   ],
   "source": [
    "# Write a program to skip 5 to be printed\n",
    "l1=[1,2,3,4,5,6,7,8,9]\n",
    "l2=list()\n",
    "for x in l1:\n",
    "    if x==5:\n",
    "        continue\n",
    "    l2.append(x)\n",
    "print(l2)\n",
    "\n",
    "        "
   ]
  },
  {
   "cell_type": "code",
   "execution_count": 39,
   "id": "bd83cd32",
   "metadata": {},
   "outputs": [
    {
     "name": "stdout",
     "output_type": "stream",
     "text": [
      "apple\n",
      "cherry\n"
     ]
    }
   ],
   "source": [
    "fruits = [\"apple\", \"banana\", \"cherry\"]\n",
    "for x in fruits:\n",
    "  if x == \"banana\":\n",
    "    continue\n",
    "  print(x)"
   ]
  },
  {
   "cell_type": "code",
   "execution_count": 48,
   "id": "9e6b0d55",
   "metadata": {},
   "outputs": [
    {
     "name": "stdout",
     "output_type": "stream",
     "text": [
      "[2, 4, 6, 8, 10, 12, 14, 16, 18, 20, 22, 24, 26, 28, 30, 32, 34, 36, 38, 40, 42, 44, 46, 48, 50, 52, 54, 56, 58, 60, 62, 64, 66, 68, 70, 72, 74, 76, 78, 80, 82, 84, 86, 88, 90, 92, 94, 96, 98, 100, 0, 2, 4, 6, 8, 10, 12, 14, 16, 18, 20, 22, 24, 26, 28, 30, 32, 34, 36, 38, 40, 42, 44, 46, 48, 50, 52, 54, 56, 58, 60, 62, 64, 66, 68, 70, 72, 74, 76, 78, 80, 82, 84, 86, 88, 90, 92, 94, 96, 98] [1, 3, 5, 7, 9, 11, 13, 15, 17, 19, 21, 23, 25, 27, 29, 31, 33, 35, 37, 39, 41, 43, 45, 47, 49, 51, 53, 55, 57, 59, 61, 63, 65, 67, 69, 71, 73, 75, 77, 79, 81, 83, 85, 87, 89, 91, 93, 95, 97, 99, 1, 3, 5, 7, 9, 11, 13, 15, 17, 19, 21, 23, 25, 27, 29, 31, 33, 35, 37, 39, 41, 43, 45, 47, 49, 51, 53, 55, 57, 59, 61, 63, 65, 67, 69, 71, 73, 75, 77, 79, 81, 83, 85, 87, 89, 91, 93, 95, 97, 99]\n"
     ]
    }
   ],
   "source": [
    "for x in range(100):\n",
    "    if x%2==0:\n",
    "        even.append(x)\n",
    "    else:\n",
    "        odd.append(x)\n",
    "print(even,odd)"
   ]
  },
  {
   "cell_type": "code",
   "execution_count": 49,
   "id": "79effc5c",
   "metadata": {},
   "outputs": [
    {
     "name": "stdout",
     "output_type": "stream",
     "text": [
      "red apple\n",
      "red banana\n",
      "red cherry\n",
      "big apple\n",
      "big banana\n",
      "big cherry\n",
      "tasty apple\n",
      "tasty banana\n",
      "tasty cherry\n"
     ]
    }
   ],
   "source": [
    "adj = [\"red\", \"big\", \"tasty\"]\n",
    "fruits = [\"apple\", \"banana\", \"cherry\"]\n",
    "\n",
    "for x in adj:\n",
    "  for y in fruits:\n",
    "    print(x, y)"
   ]
  },
  {
   "cell_type": "code",
   "execution_count": 52,
   "id": "40dec31d",
   "metadata": {},
   "outputs": [
    {
     "data": {
      "text/plain": [
       "<zip at 0x209df9553c0>"
      ]
     },
     "execution_count": 52,
     "metadata": {},
     "output_type": "execute_result"
    }
   ],
   "source": [
    "a = (\"John\", \"Charles\", \"Mike\")\n",
    "b = (\"Jenny\", \"Christy\", \"Monica\", \"Vicky\")\n",
    "\n",
    "x = zip(a, b)\n",
    "x"
   ]
  }
 ],
 "metadata": {
  "kernelspec": {
   "display_name": "Python 3",
   "language": "python",
   "name": "python3"
  },
  "language_info": {
   "codemirror_mode": {
    "name": "ipython",
    "version": 3
   },
   "file_extension": ".py",
   "mimetype": "text/x-python",
   "name": "python",
   "nbconvert_exporter": "python",
   "pygments_lexer": "ipython3",
   "version": "3.8.8"
  }
 },
 "nbformat": 4,
 "nbformat_minor": 5
}
