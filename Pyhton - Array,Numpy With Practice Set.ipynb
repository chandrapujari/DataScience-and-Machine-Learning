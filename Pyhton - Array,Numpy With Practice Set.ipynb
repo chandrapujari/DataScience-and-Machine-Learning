{
 "cells": [
  {
   "cell_type": "markdown",
   "id": "01a33ab3",
   "metadata": {},
   "source": [
    "# Python Arrays:\n",
    "\n",
    "An array is defined as a collection of items that are stored at contiguous memory locations.\n",
    "\n",
    "It is a container which can hold a fixed number of items, and these items should be of the same type.\n",
    "\n",
    "Array is an idea of storing multiple items of the same type together and it makes easier to calculate the position of each element by simply adding an offset to the base value.\n",
    "\n",
    "Array Representation:\n",
    "\n",
    "The important points that should be considered are as follows:\n",
    "\n",
    "1. Index starts with 0.\n",
    "2. We can access each element via its index.\n",
    "3. The length of the array defines the capacity to store the elements.:\n"
   ]
  },
  {
   "cell_type": "markdown",
   "id": "011f7ce4",
   "metadata": {},
   "source": [
    "### Array operations:\n",
    "    \n",
    "Some of the basic operations supported by an array are as follows:\n",
    "\n",
    "1. Traverse - It prints all the elements one by one.\n",
    "2. Insertion - It adds an element at the given index.\n",
    "3. Deletion - It deletes an element at the given index.\n",
    "4. Search - It searches an element using the given index or by the value.\n",
    "5. Update - It updates an element at the given index.\n",
    "\n",
    "\n",
    "from array import *  \n",
    "arrayName = array(typecode, [initializers])   "
   ]
  },
  {
   "cell_type": "markdown",
   "id": "e3705a9f",
   "metadata": {},
   "source": [
    "### Accessing array elements:"
   ]
  },
  {
   "cell_type": "code",
   "execution_count": 1,
   "id": "538bc71e",
   "metadata": {},
   "outputs": [
    {
     "name": "stdout",
     "output_type": "stream",
     "text": [
      "First element: 2\n",
      "Second element: 4\n",
      "Second last element: 8\n"
     ]
    }
   ],
   "source": [
    "import array as arr  \n",
    "a = arr.array('i', [2, 4, 6, 8])  \n",
    "print(\"First element:\", a[0])  \n",
    "print(\"Second element:\", a[1])  \n",
    "print(\"Second last element:\", a[-1])  "
   ]
  },
  {
   "cell_type": "code",
   "execution_count": 2,
   "id": "66444dc9",
   "metadata": {},
   "outputs": [
    {
     "name": "stdout",
     "output_type": "stream",
     "text": [
      "array('i', [2, 3, 4, 5, 6, 7, 8, 9, 10, 11, 12, 13, 14, 15])\n"
     ]
    }
   ],
   "source": [
    "import array as arr\n",
    "a=arr.array('i',[2,3,4,5,6,7,8,9,10,11,12,13,14,15])\n",
    "\n",
    "print(a)"
   ]
  },
  {
   "cell_type": "code",
   "execution_count": 3,
   "id": "157eea27",
   "metadata": {},
   "outputs": [
    {
     "data": {
      "text/plain": [
       "2"
      ]
     },
     "execution_count": 3,
     "metadata": {},
     "output_type": "execute_result"
    }
   ],
   "source": [
    "a[0]"
   ]
  },
  {
   "cell_type": "code",
   "execution_count": 4,
   "id": "cf988669",
   "metadata": {},
   "outputs": [
    {
     "data": {
      "text/plain": [
       "array('i', [6, 7, 8, 9])"
      ]
     },
     "execution_count": 4,
     "metadata": {},
     "output_type": "execute_result"
    }
   ],
   "source": [
    "a[4:8]"
   ]
  },
  {
   "cell_type": "code",
   "execution_count": 5,
   "id": "2643357d",
   "metadata": {},
   "outputs": [
    {
     "data": {
      "text/plain": [
       "15"
      ]
     },
     "execution_count": 5,
     "metadata": {},
     "output_type": "execute_result"
    }
   ],
   "source": [
    "#Access last element of the array\n",
    "a[-1]"
   ]
  },
  {
   "cell_type": "code",
   "execution_count": 6,
   "id": "1fe0339c",
   "metadata": {},
   "outputs": [
    {
     "data": {
      "text/plain": [
       "array('i', [15, 14, 13, 12, 11, 10, 9, 8, 7, 6, 5, 4, 3, 2])"
      ]
     },
     "execution_count": 6,
     "metadata": {},
     "output_type": "execute_result"
    }
   ],
   "source": [
    "#Reverse the array\n",
    "\n",
    "a[::-1]"
   ]
  },
  {
   "cell_type": "code",
   "execution_count": 7,
   "id": "b2d3aa60",
   "metadata": {},
   "outputs": [
    {
     "data": {
      "text/plain": [
       "14"
      ]
     },
     "execution_count": 7,
     "metadata": {},
     "output_type": "execute_result"
    }
   ],
   "source": [
    "#find the lenght of array\n",
    "\n",
    "len(a)"
   ]
  },
  {
   "cell_type": "code",
   "execution_count": 8,
   "id": "9a934216",
   "metadata": {},
   "outputs": [],
   "source": [
    "#delete a element\n",
    "\n",
    "del a[0]"
   ]
  },
  {
   "cell_type": "code",
   "execution_count": 9,
   "id": "952f7b86",
   "metadata": {
    "scrolled": true
   },
   "outputs": [
    {
     "name": "stdout",
     "output_type": "stream",
     "text": [
      "array('i', [3, 4, 5, 6, 7, 8, 9, 10, 11, 12, 13, 14, 15])\n"
     ]
    }
   ],
   "source": [
    "print(a)"
   ]
  },
  {
   "cell_type": "markdown",
   "id": "6f2616b0",
   "metadata": {},
   "source": [
    "# Numpy:\n",
    "\n",
    "NumPy stands for numeric python which is a python package for the computation and processing of the multidimensional and single dimensional array elements.\n",
    "\n",
    "\n",
    "There are the following advantages of using NumPy for data analysis:\n",
    "\n",
    "1. NumPy performs array-oriented computing.\n",
    "2. It efficiently implements the multidimensional arrays.\n",
    "3. It performs scientific computations.\n",
    "4. It is capable of performing Fourier Transform and reshaping the data stored in multidimensional arrays.\n",
    "5. NumPy provides the in-built functions for linear algebra and random number generation.\n",
    "\n",
    "NumPy is so important for numerical computations in Python is because it is designed for efficiency on large arrays of data.\n",
    "\n",
    "There are a number of reasons for this:\n",
    "\n",
    "• NumPy internally stores data in a contiguous block of memory, independent of other built-in Python objects. NumPy’s library of algorithms written in the C language can operate on this memory without any type checking or other overhead.NumPy arrays also use much less memory than built-in Python sequences.\n",
    "\n",
    "• NumPy operations perform complex computations on entire arrays without the need for Python for loops."
   ]
  },
  {
   "cell_type": "markdown",
   "id": "02a38325",
   "metadata": {},
   "source": [
    "### NumPy Environment Setup:\n",
    "    $ pip install numpy   "
   ]
  },
  {
   "cell_type": "markdown",
   "id": "47ee8465",
   "metadata": {},
   "source": [
    "## NumPy Ndarray: A Multidimensional Array Object\n",
    "\n",
    "What is Ndarray?\n",
    "\n",
    "Ndarray is the n-dimensional array object.\n",
    "\n",
    "Ndarray stores collection of similar type of elements.\n",
    "\n",
    "Ndarray, an efficient multidimensional array providing fast array-oriented arithmetic operations and flexible broadcasting capabilities."
   ]
  },
  {
   "cell_type": "code",
   "execution_count": 1,
   "id": "e2089e69",
   "metadata": {},
   "outputs": [
    {
     "name": "stdout",
     "output_type": "stream",
     "text": [
      "Requirement already satisfied: numpy in c:\\users\\chpujari2101\\anaconda3\\lib\\site-packages (1.20.1)\n",
      "Note: you may need to restart the kernel to use updated packages.\n"
     ]
    }
   ],
   "source": [
    "pip install numpy"
   ]
  },
  {
   "cell_type": "code",
   "execution_count": 2,
   "id": "3f6e9358",
   "metadata": {},
   "outputs": [],
   "source": [
    "import numpy as np"
   ]
  },
  {
   "cell_type": "markdown",
   "id": "31de66ed",
   "metadata": {},
   "source": [
    "### Creating a ndarray object:"
   ]
  },
  {
   "cell_type": "markdown",
   "id": "63928baa",
   "metadata": {},
   "source": [
    "The ndarray object can be created by using the array routine of the numpy module.\n",
    "\n",
    "Syntax:\n",
    "\n",
    "numpy.array(object, dtype = None, copy = True, order = None, subok = False, ndmin = 0) \n",
    "\n",
    "1. object :\tIt represents the collection object. It can be a list, tuple, dictionary, set, etc.\n",
    "2. dtype  :\tWe can change the data type of the array elements by changing this option to the specified type. The default is none.\n",
    "3. copy   :\tIt is optional. By default, it is true which means the object is copied.\n",
    "4. order  :\tThere can be 3 possible values assigned to this option. It can be C (column order), R (row order), or A (any)\n",
    "5. subok  :\tThe returned array will be base class array by default. We can change this to make the subclasses passes through by setting this option to true.\n",
    "6. ndmin  :\tIt represents the minimum dimensions of the resultant array."
   ]
  },
  {
   "cell_type": "code",
   "execution_count": 20,
   "id": "10e5b5fd",
   "metadata": {},
   "outputs": [
    {
     "name": "stdout",
     "output_type": "stream",
     "text": [
      "[[1 2 3]\n",
      " [2 3 4]]\n"
     ]
    }
   ],
   "source": [
    "a=np.array([[1,2,3],[2,3,4]])\n",
    "print(a)"
   ]
  },
  {
   "cell_type": "code",
   "execution_count": 21,
   "id": "4b739029",
   "metadata": {},
   "outputs": [
    {
     "data": {
      "text/plain": [
       "numpy.ndarray"
      ]
     },
     "execution_count": 21,
     "metadata": {},
     "output_type": "execute_result"
    }
   ],
   "source": [
    "type(a)"
   ]
  },
  {
   "cell_type": "code",
   "execution_count": 22,
   "id": "f7073fc2",
   "metadata": {
    "scrolled": true
   },
   "outputs": [
    {
     "data": {
      "text/plain": [
       "(2, 3)"
      ]
     },
     "execution_count": 22,
     "metadata": {},
     "output_type": "execute_result"
    }
   ],
   "source": [
    "a.shape"
   ]
  },
  {
   "cell_type": "markdown",
   "id": "d9a74201",
   "metadata": {},
   "source": [
    "### ndim:\n",
    "    \n",
    "The ndim function can be used to find the dimensions of the array"
   ]
  },
  {
   "cell_type": "code",
   "execution_count": 27,
   "id": "7ea19104",
   "metadata": {},
   "outputs": [
    {
     "data": {
      "text/plain": [
       "2"
      ]
     },
     "execution_count": 27,
     "metadata": {},
     "output_type": "execute_result"
    }
   ],
   "source": [
    "#Finding the dimensions of the Array\n",
    "a.ndim"
   ]
  },
  {
   "cell_type": "code",
   "execution_count": 23,
   "id": "523861a2",
   "metadata": {},
   "outputs": [],
   "source": [
    "b=np.random.randn(3,3)"
   ]
  },
  {
   "cell_type": "code",
   "execution_count": 24,
   "id": "2b5639c4",
   "metadata": {},
   "outputs": [
    {
     "name": "stdout",
     "output_type": "stream",
     "text": [
      "[[-1.76933953  0.45106927  0.54359636]\n",
      " [-0.92016322  0.16327095 -2.22713391]\n",
      " [-0.0107659  -1.60183263 -0.75150973]]\n"
     ]
    }
   ],
   "source": [
    "print(b)"
   ]
  },
  {
   "cell_type": "code",
   "execution_count": 25,
   "id": "bcee01e5",
   "metadata": {},
   "outputs": [
    {
     "data": {
      "text/plain": [
       "(3, 3)"
      ]
     },
     "execution_count": 25,
     "metadata": {},
     "output_type": "execute_result"
    }
   ],
   "source": [
    "b.shape"
   ]
  },
  {
   "cell_type": "code",
   "execution_count": 26,
   "id": "b48817f0",
   "metadata": {},
   "outputs": [
    {
     "data": {
      "text/plain": [
       "2"
      ]
     },
     "execution_count": 26,
     "metadata": {},
     "output_type": "execute_result"
    }
   ],
   "source": [
    "#Finding the dimensions of the Array\n",
    "a.ndim"
   ]
  },
  {
   "cell_type": "code",
   "execution_count": 28,
   "id": "c816797e",
   "metadata": {},
   "outputs": [
    {
     "name": "stdout",
     "output_type": "stream",
     "text": [
      "[1.+0.j 2.+0.j 3.+0.j 4.+0.j]\n"
     ]
    }
   ],
   "source": [
    "c=np.array([1,2,3,4],complex)\n",
    "print(c)"
   ]
  },
  {
   "cell_type": "markdown",
   "id": "4a1df882",
   "metadata": {},
   "source": [
    "### Finding the size of each array element:\n",
    "\n",
    "The itemsize function is used to get the size of each array item. It returns the number of bytes taken by each array element."
   ]
  },
  {
   "cell_type": "code",
   "execution_count": 33,
   "id": "619c86ef",
   "metadata": {},
   "outputs": [
    {
     "data": {
      "text/plain": [
       "4"
      ]
     },
     "execution_count": 33,
     "metadata": {},
     "output_type": "execute_result"
    }
   ],
   "source": [
    "import numpy as np  \n",
    "a = np.array([1,2,3])\n",
    "a.itemsize"
   ]
  },
  {
   "cell_type": "markdown",
   "id": "7845d018",
   "metadata": {},
   "source": [
    "### Finding the data type of each array item:\n",
    "To check the data type of each array item, the dtype function is used."
   ]
  },
  {
   "cell_type": "code",
   "execution_count": 35,
   "id": "5318a3c8",
   "metadata": {},
   "outputs": [
    {
     "data": {
      "text/plain": [
       "dtype('float64')"
      ]
     },
     "execution_count": 35,
     "metadata": {},
     "output_type": "execute_result"
    }
   ],
   "source": [
    "import numpy as np\n",
    "a=np.array([[1,2,3,4],[23.0,24,25,26]])\n",
    "a.dtype"
   ]
  },
  {
   "cell_type": "markdown",
   "id": "bc35c8b8",
   "metadata": {},
   "source": [
    "### Finding the shape and size of the array\n",
    "To get the shape and size of the array, the size and shape function associated with the numpy array is used."
   ]
  },
  {
   "cell_type": "code",
   "execution_count": 36,
   "id": "44288318",
   "metadata": {},
   "outputs": [
    {
     "data": {
      "text/plain": [
       "8"
      ]
     },
     "execution_count": 36,
     "metadata": {},
     "output_type": "execute_result"
    }
   ],
   "source": [
    "a.size"
   ]
  },
  {
   "cell_type": "code",
   "execution_count": 37,
   "id": "d04c3d62",
   "metadata": {},
   "outputs": [
    {
     "data": {
      "text/plain": [
       "(2, 4)"
      ]
     },
     "execution_count": 37,
     "metadata": {},
     "output_type": "execute_result"
    }
   ],
   "source": [
    "a.shape"
   ]
  },
  {
   "cell_type": "markdown",
   "id": "e75c852f",
   "metadata": {},
   "source": [
    "### Reshaping the array objects:\n",
    "\n",
    "The reshape() function associated with the ndarray object is used to reshape the array. \n",
    "\n",
    "It accepts the two parameters indicating the row and columns of the new shape of the array."
   ]
  },
  {
   "cell_type": "code",
   "execution_count": 39,
   "id": "265c562b",
   "metadata": {},
   "outputs": [
    {
     "name": "stdout",
     "output_type": "stream",
     "text": [
      "(5, 2)\n"
     ]
    }
   ],
   "source": [
    "b=np.array([[1,2],[3,4],[5,6],[7,8],[0,1]])\n",
    "print(b.shape)"
   ]
  },
  {
   "cell_type": "code",
   "execution_count": 40,
   "id": "03945f59",
   "metadata": {},
   "outputs": [
    {
     "name": "stdout",
     "output_type": "stream",
     "text": [
      "[[1 2]\n",
      " [3 4]\n",
      " [5 6]\n",
      " [7 8]\n",
      " [0 1]]\n"
     ]
    }
   ],
   "source": [
    "print(b)"
   ]
  },
  {
   "cell_type": "code",
   "execution_count": 41,
   "id": "3a7a2c40",
   "metadata": {},
   "outputs": [
    {
     "data": {
      "text/plain": [
       "array([[1, 2, 3, 4, 5],\n",
       "       [6, 7, 8, 0, 1]])"
      ]
     },
     "execution_count": 41,
     "metadata": {},
     "output_type": "execute_result"
    }
   ],
   "source": [
    "b.reshape(2,5)"
   ]
  },
  {
   "cell_type": "markdown",
   "id": "a761901a",
   "metadata": {},
   "source": [
    "### Slicing in the Array:\n",
    "\n",
    "Slicing in the NumPy array is the way to extract a range of elements from an array."
   ]
  },
  {
   "cell_type": "code",
   "execution_count": 42,
   "id": "67393508",
   "metadata": {
    "scrolled": true
   },
   "outputs": [
    {
     "name": "stdout",
     "output_type": "stream",
     "text": [
      "[[1 2]\n",
      " [2 3]\n",
      " [4 5]]\n"
     ]
    }
   ],
   "source": [
    "a1=np.array([[1,2],[2,3],[4,5]])\n",
    "print(a1)"
   ]
  },
  {
   "cell_type": "code",
   "execution_count": 44,
   "id": "e34fe090",
   "metadata": {},
   "outputs": [
    {
     "data": {
      "text/plain": [
       "1"
      ]
     },
     "execution_count": 44,
     "metadata": {},
     "output_type": "execute_result"
    }
   ],
   "source": [
    "a1[0,0]"
   ]
  },
  {
   "cell_type": "code",
   "execution_count": 45,
   "id": "2d473b92",
   "metadata": {},
   "outputs": [
    {
     "data": {
      "text/plain": [
       "2"
      ]
     },
     "execution_count": 45,
     "metadata": {},
     "output_type": "execute_result"
    }
   ],
   "source": [
    "a1[0,1]"
   ]
  },
  {
   "cell_type": "code",
   "execution_count": 46,
   "id": "729525c9",
   "metadata": {},
   "outputs": [
    {
     "data": {
      "text/plain": [
       "2"
      ]
     },
     "execution_count": 46,
     "metadata": {},
     "output_type": "execute_result"
    }
   ],
   "source": [
    "a1[1,0]"
   ]
  },
  {
   "cell_type": "code",
   "execution_count": 47,
   "id": "91261dd4",
   "metadata": {},
   "outputs": [
    {
     "data": {
      "text/plain": [
       "3"
      ]
     },
     "execution_count": 47,
     "metadata": {},
     "output_type": "execute_result"
    }
   ],
   "source": [
    "a1[1,1]"
   ]
  },
  {
   "cell_type": "code",
   "execution_count": 48,
   "id": "21d2148c",
   "metadata": {},
   "outputs": [
    {
     "data": {
      "text/plain": [
       "4"
      ]
     },
     "execution_count": 48,
     "metadata": {},
     "output_type": "execute_result"
    }
   ],
   "source": [
    "a1[2,0]"
   ]
  },
  {
   "cell_type": "code",
   "execution_count": 49,
   "id": "b116b0db",
   "metadata": {},
   "outputs": [
    {
     "data": {
      "text/plain": [
       "5"
      ]
     },
     "execution_count": 49,
     "metadata": {},
     "output_type": "execute_result"
    }
   ],
   "source": [
    "a1[2,1]"
   ]
  },
  {
   "cell_type": "markdown",
   "id": "74a08b99",
   "metadata": {},
   "source": [
    "# Numpy:"
   ]
  },
  {
   "cell_type": "markdown",
   "id": "ea5f83d7",
   "metadata": {},
   "source": [
    "list can be converted as numpy array."
   ]
  },
  {
   "cell_type": "code",
   "execution_count": 1,
   "id": "727079b9",
   "metadata": {},
   "outputs": [
    {
     "data": {
      "text/plain": [
       "array([1, 2, 3, 4, 5])"
      ]
     },
     "execution_count": 1,
     "metadata": {},
     "output_type": "execute_result"
    }
   ],
   "source": [
    "l1=[1,2,3,4,5]\n",
    "import numpy as np\n",
    "A1=np.array(l1)\n",
    "A1"
   ]
  },
  {
   "cell_type": "code",
   "execution_count": 2,
   "id": "9176477b",
   "metadata": {},
   "outputs": [
    {
     "data": {
      "text/plain": [
       "1"
      ]
     },
     "execution_count": 2,
     "metadata": {},
     "output_type": "execute_result"
    }
   ],
   "source": [
    "#Dimensions of the array\n",
    "A1.ndim"
   ]
  },
  {
   "cell_type": "code",
   "execution_count": 4,
   "id": "4b8beecf",
   "metadata": {},
   "outputs": [
    {
     "data": {
      "text/plain": [
       "(5,)"
      ]
     },
     "execution_count": 4,
     "metadata": {},
     "output_type": "execute_result"
    }
   ],
   "source": [
    "#Shape of the array\n",
    "A1.shape"
   ]
  },
  {
   "cell_type": "markdown",
   "id": "65e34547",
   "metadata": {},
   "source": [
    "Note:reshape() is the function which can be used to reshape the array."
   ]
  },
  {
   "cell_type": "code",
   "execution_count": 13,
   "id": "cd7aab1d",
   "metadata": {},
   "outputs": [
    {
     "data": {
      "text/plain": [
       "dtype('int32')"
      ]
     },
     "execution_count": 13,
     "metadata": {},
     "output_type": "execute_result"
    }
   ],
   "source": [
    "#dtype is used to know the type of the elements of the array\n",
    "A1.dtype"
   ]
  },
  {
   "cell_type": "code",
   "execution_count": 16,
   "id": "ff87ed14",
   "metadata": {},
   "outputs": [],
   "source": [
    "A2=np.array([[1,\"a\",2,\"b\",3],[2,3,4,5,\"l\"]])"
   ]
  },
  {
   "cell_type": "code",
   "execution_count": 17,
   "id": "67a2e866",
   "metadata": {
    "scrolled": true
   },
   "outputs": [
    {
     "data": {
      "text/plain": [
       "2"
      ]
     },
     "execution_count": 17,
     "metadata": {},
     "output_type": "execute_result"
    }
   ],
   "source": [
    "A2.ndim"
   ]
  },
  {
   "cell_type": "code",
   "execution_count": 18,
   "id": "87413b5c",
   "metadata": {
    "scrolled": true
   },
   "outputs": [
    {
     "data": {
      "text/plain": [
       "array([['1', 'a', '2', 'b', '3'],\n",
       "       ['2', '3', '4', '5', 'l']], dtype='<U11')"
      ]
     },
     "execution_count": 18,
     "metadata": {},
     "output_type": "execute_result"
    }
   ],
   "source": [
    "A2"
   ]
  },
  {
   "cell_type": "code",
   "execution_count": 50,
   "id": "e53f95b7",
   "metadata": {},
   "outputs": [
    {
     "data": {
      "text/plain": [
       "(2, 5)"
      ]
     },
     "execution_count": 50,
     "metadata": {},
     "output_type": "execute_result"
    }
   ],
   "source": [
    "A2.shape"
   ]
  },
  {
   "cell_type": "code",
   "execution_count": 63,
   "id": "d85e1c95",
   "metadata": {
    "scrolled": true
   },
   "outputs": [
    {
     "data": {
      "text/plain": [
       "array(['a'], dtype='<U11')"
      ]
     },
     "execution_count": 63,
     "metadata": {},
     "output_type": "execute_result"
    }
   ],
   "source": [
    "A2[:1][0][1:2]"
   ]
  },
  {
   "cell_type": "code",
   "execution_count": 65,
   "id": "f541023e",
   "metadata": {
    "scrolled": true
   },
   "outputs": [
    {
     "data": {
      "text/plain": [
       "array(['b'], dtype='<U11')"
      ]
     },
     "execution_count": 65,
     "metadata": {},
     "output_type": "execute_result"
    }
   ],
   "source": [
    "A2[:1][0][3:4]"
   ]
  },
  {
   "cell_type": "code",
   "execution_count": 84,
   "id": "0c22a78b",
   "metadata": {},
   "outputs": [
    {
     "data": {
      "text/plain": [
       "array([['1', 'a'],\n",
       "       ['2', 'b'],\n",
       "       ['3', '2'],\n",
       "       ['3', '4'],\n",
       "       ['5', 'l']], dtype='<U11')"
      ]
     },
     "execution_count": 84,
     "metadata": {},
     "output_type": "execute_result"
    }
   ],
   "source": [
    "b2=A2.reshape(5,2)\n",
    "b2"
   ]
  },
  {
   "cell_type": "code",
   "execution_count": 83,
   "id": "67bafd7a",
   "metadata": {},
   "outputs": [
    {
     "data": {
      "text/plain": [
       "'a'"
      ]
     },
     "execution_count": 83,
     "metadata": {},
     "output_type": "execute_result"
    }
   ],
   "source": [
    "b2[:1][0][1]"
   ]
  },
  {
   "cell_type": "code",
   "execution_count": 87,
   "id": "c5a86b17",
   "metadata": {
    "scrolled": true
   },
   "outputs": [
    {
     "data": {
      "text/plain": [
       "'b'"
      ]
     },
     "execution_count": 87,
     "metadata": {},
     "output_type": "execute_result"
    }
   ],
   "source": [
    "b2[:2][1][1]"
   ]
  },
  {
   "cell_type": "code",
   "execution_count": 88,
   "id": "6df1bc4b",
   "metadata": {},
   "outputs": [
    {
     "data": {
      "text/plain": [
       "'2'"
      ]
     },
     "execution_count": 88,
     "metadata": {},
     "output_type": "execute_result"
    }
   ],
   "source": [
    "b2[:3][2][1]"
   ]
  },
  {
   "cell_type": "code",
   "execution_count": 92,
   "id": "fe0c3333",
   "metadata": {
    "scrolled": true
   },
   "outputs": [
    {
     "data": {
      "text/plain": [
       "array([[0, 1],\n",
       "       [2, 3],\n",
       "       [4, 5],\n",
       "       [6, 7],\n",
       "       [8, 9]])"
      ]
     },
     "execution_count": 92,
     "metadata": {},
     "output_type": "execute_result"
    }
   ],
   "source": [
    "B3=np.arange(10).reshape((5,2))\n",
    "B3"
   ]
  },
  {
   "cell_type": "code",
   "execution_count": 95,
   "id": "34c1b4c6",
   "metadata": {},
   "outputs": [
    {
     "data": {
      "text/plain": [
       "1"
      ]
     },
     "execution_count": 95,
     "metadata": {},
     "output_type": "execute_result"
    }
   ],
   "source": [
    "B3[:1][0][1]"
   ]
  },
  {
   "cell_type": "code",
   "execution_count": 97,
   "id": "0c188cd2",
   "metadata": {},
   "outputs": [
    {
     "data": {
      "text/plain": [
       "array([[1, 2, 3],\n",
       "       [4, 5, 6],\n",
       "       [7, 8, 9]])"
      ]
     },
     "execution_count": 97,
     "metadata": {},
     "output_type": "execute_result"
    }
   ],
   "source": [
    "arr2d = np.array([[1, 2, 3], [4, 5, 6], [7, 8, 9]])\n",
    "arr2d"
   ]
  },
  {
   "cell_type": "markdown",
   "id": "83db4e5b",
   "metadata": {},
   "source": [
    "Now let's discuss easier way to get elements from array:\n",
    "\n",
    "Individual elements can be accessed recursively. But that is a bit too much work, so you can pass a comma-separated list of indices to select individual elements."
   ]
  },
  {
   "cell_type": "code",
   "execution_count": 100,
   "id": "8a65e315",
   "metadata": {},
   "outputs": [
    {
     "data": {
      "text/plain": [
       "6"
      ]
     },
     "execution_count": 100,
     "metadata": {},
     "output_type": "execute_result"
    }
   ],
   "source": [
    "arr2d[1,2]"
   ]
  },
  {
   "cell_type": "code",
   "execution_count": 112,
   "id": "8574f7fe",
   "metadata": {
    "scrolled": false
   },
   "outputs": [
    {
     "data": {
      "text/plain": [
       "6"
      ]
     },
     "execution_count": 112,
     "metadata": {},
     "output_type": "execute_result"
    }
   ],
   "source": [
    "arr2d[:2][1][2]"
   ]
  },
  {
   "cell_type": "code",
   "execution_count": 110,
   "id": "7c638124",
   "metadata": {
    "scrolled": true
   },
   "outputs": [
    {
     "data": {
      "text/plain": [
       "9"
      ]
     },
     "execution_count": 110,
     "metadata": {},
     "output_type": "execute_result"
    }
   ],
   "source": [
    "arr2d[:3][2][2]"
   ]
  },
  {
   "cell_type": "code",
   "execution_count": 113,
   "id": "cc6ca9d9",
   "metadata": {},
   "outputs": [
    {
     "data": {
      "text/plain": [
       "9"
      ]
     },
     "execution_count": 113,
     "metadata": {},
     "output_type": "execute_result"
    }
   ],
   "source": [
    "arr2d[2,2]"
   ]
  },
  {
   "cell_type": "code",
   "execution_count": 114,
   "id": "d766c8b3",
   "metadata": {},
   "outputs": [],
   "source": [
    "arr3d = np.array([[[1, 2, 3], [4, 5, 6]], [[7, 8, 9], [10, 11, 12]]])"
   ]
  },
  {
   "cell_type": "code",
   "execution_count": 115,
   "id": "6ab5b3f1",
   "metadata": {
    "scrolled": true
   },
   "outputs": [
    {
     "data": {
      "text/plain": [
       "array([[[ 1,  2,  3],\n",
       "        [ 4,  5,  6]],\n",
       "\n",
       "       [[ 7,  8,  9],\n",
       "        [10, 11, 12]]])"
      ]
     },
     "execution_count": 115,
     "metadata": {},
     "output_type": "execute_result"
    }
   ],
   "source": [
    "arr3d"
   ]
  },
  {
   "cell_type": "code",
   "execution_count": 123,
   "id": "302c5c4b",
   "metadata": {},
   "outputs": [
    {
     "data": {
      "text/plain": [
       "3"
      ]
     },
     "execution_count": 123,
     "metadata": {},
     "output_type": "execute_result"
    }
   ],
   "source": [
    "arr3d[:1][0][0][2]"
   ]
  },
  {
   "cell_type": "code",
   "execution_count": 126,
   "id": "96571c35",
   "metadata": {},
   "outputs": [
    {
     "data": {
      "text/plain": [
       "3"
      ]
     },
     "execution_count": 126,
     "metadata": {},
     "output_type": "execute_result"
    }
   ],
   "source": [
    "arr3d[0,0,2]"
   ]
  },
  {
   "cell_type": "markdown",
   "id": "fe5100bb",
   "metadata": {},
   "source": [
    "Note:one-dimensional objects such as Python lists, ndarrays can be sliced with the familiar syntax."
   ]
  },
  {
   "cell_type": "code",
   "execution_count": 128,
   "id": "91d5a37a",
   "metadata": {},
   "outputs": [],
   "source": [
    "arr1d=np.array([1,2,3,4,5,6,7,8,9])"
   ]
  },
  {
   "cell_type": "code",
   "execution_count": 137,
   "id": "0cf1eefa",
   "metadata": {},
   "outputs": [
    {
     "data": {
      "text/plain": [
       "numpy.float64"
      ]
     },
     "execution_count": 137,
     "metadata": {},
     "output_type": "execute_result"
    }
   ],
   "source": [
    "type(arr1d.mean())"
   ]
  },
  {
   "cell_type": "markdown",
   "id": "e58e20f8",
   "metadata": {},
   "source": [
    "randn :it generates some random data."
   ]
  },
  {
   "cell_type": "code",
   "execution_count": 1,
   "id": "367023c9",
   "metadata": {},
   "outputs": [],
   "source": [
    "import numpy as np"
   ]
  },
  {
   "cell_type": "code",
   "execution_count": 7,
   "id": "a88e2f69",
   "metadata": {},
   "outputs": [
    {
     "data": {
      "text/plain": [
       "array([[-0.64157037,  1.66045971],\n",
       "       [-1.40205364,  0.90048658]])"
      ]
     },
     "execution_count": 7,
     "metadata": {},
     "output_type": "execute_result"
    }
   ],
   "source": [
    "N1=np.random.randn(2,2)\n",
    "N1"
   ]
  },
  {
   "cell_type": "code",
   "execution_count": 13,
   "id": "e6a9eb11",
   "metadata": {},
   "outputs": [
    {
     "data": {
      "text/plain": [
       "array([[1, 3, 3],\n",
       "       [2, 2, 0]])"
      ]
     },
     "execution_count": 13,
     "metadata": {},
     "output_type": "execute_result"
    }
   ],
   "source": [
    "import numpy as np\n",
    "N2=np.random.randint(5,size=(2,3))\n",
    "N2"
   ]
  },
  {
   "cell_type": "code",
   "execution_count": 15,
   "id": "32fa2851",
   "metadata": {},
   "outputs": [
    {
     "data": {
      "text/plain": [
       "array([[0.10696567, 0.42978488, 0.99050401],\n",
       "       [0.13230891, 0.08608944, 0.51162509]])"
      ]
     },
     "execution_count": 15,
     "metadata": {},
     "output_type": "execute_result"
    }
   ],
   "source": [
    "#2-D Array\n",
    "N3=np.random.rand(2,3)\n",
    "N3"
   ]
  },
  {
   "cell_type": "code",
   "execution_count": 26,
   "id": "7cee28e1",
   "metadata": {},
   "outputs": [
    {
     "data": {
      "text/plain": [
       "array([[[0.82368939, 0.96114059],\n",
       "        [0.7608373 , 0.86925272]],\n",
       "\n",
       "       [[0.53433393, 0.84650405],\n",
       "        [0.92418531, 0.91503623]]])"
      ]
     },
     "execution_count": 26,
     "metadata": {},
     "output_type": "execute_result"
    }
   ],
   "source": [
    "#3-D Array\n",
    "N4=np.random.rand(2,2,2)\n",
    "N4"
   ]
  },
  {
   "cell_type": "markdown",
   "id": "8b032997",
   "metadata": {},
   "source": [
    "We can explicitly convert or cast an array from one dtype to another using ndarray’s\n",
    "astype method:\n",
    "\n",
    "astype()"
   ]
  },
  {
   "cell_type": "code",
   "execution_count": 10,
   "id": "6307edb1",
   "metadata": {},
   "outputs": [
    {
     "data": {
      "text/plain": [
       "dtype('int32')"
      ]
     },
     "execution_count": 10,
     "metadata": {},
     "output_type": "execute_result"
    }
   ],
   "source": [
    "arr = np.array([1, 2, 3, 4, 5])\n",
    "arr.dtype"
   ]
  },
  {
   "cell_type": "code",
   "execution_count": 13,
   "id": "976f1d51",
   "metadata": {},
   "outputs": [
    {
     "name": "stderr",
     "output_type": "stream",
     "text": [
      "<ipython-input-13-51f843d015eb>:2: DeprecationWarning: `np.float` is a deprecated alias for the builtin `float`. To silence this warning, use `float` by itself. Doing this will not modify any behavior and is safe. If you specifically wanted the numpy scalar type, use `np.float64` here.\n",
      "Deprecated in NumPy 1.20; for more details and guidance: https://numpy.org/devdocs/release/1.20.0-notes.html#deprecations\n",
      "  n_arr=arr.astype(np.float)\n"
     ]
    }
   ],
   "source": [
    "#Now change the data type:\n",
    "n_arr=arr.astype(np.float)"
   ]
  },
  {
   "cell_type": "code",
   "execution_count": 14,
   "id": "238ef105",
   "metadata": {},
   "outputs": [
    {
     "data": {
      "text/plain": [
       "dtype('float64')"
      ]
     },
     "execution_count": 14,
     "metadata": {},
     "output_type": "execute_result"
    }
   ],
   "source": [
    "n_arr.dtype"
   ]
  },
  {
   "cell_type": "code",
   "execution_count": 5,
   "id": "45786a15",
   "metadata": {},
   "outputs": [
    {
     "data": {
      "text/plain": [
       "dtype('float64')"
      ]
     },
     "execution_count": 5,
     "metadata": {},
     "output_type": "execute_result"
    }
   ],
   "source": [
    "import numpy as np\n",
    "arr = np.array([3.7, -1.2, -2.6, 0.5, 12.9, 10.1])\n",
    "arr.dtype\n"
   ]
  },
  {
   "cell_type": "code",
   "execution_count": 7,
   "id": "e453ced5",
   "metadata": {},
   "outputs": [
    {
     "data": {
      "text/plain": [
       "array([ 3, -1, -2,  0, 12, 10])"
      ]
     },
     "execution_count": 7,
     "metadata": {},
     "output_type": "execute_result"
    }
   ],
   "source": [
    "arr1=arr.astype(np.int32)\n",
    "arr1\n"
   ]
  },
  {
   "cell_type": "code",
   "execution_count": 8,
   "id": "4827daa9",
   "metadata": {},
   "outputs": [
    {
     "data": {
      "text/plain": [
       "dtype('int32')"
      ]
     },
     "execution_count": 8,
     "metadata": {},
     "output_type": "execute_result"
    }
   ],
   "source": [
    "arr1.dtype"
   ]
  },
  {
   "cell_type": "markdown",
   "id": "ce689ed0",
   "metadata": {},
   "source": [
    "Note:Calling astype always creates a new array (a copy of the data), even if the new dtype is the same as the old dtype."
   ]
  },
  {
   "cell_type": "markdown",
   "id": "c99cdf62",
   "metadata": {},
   "source": [
    "## Numpy:Basic Indexing and Slicing"
   ]
  },
  {
   "cell_type": "markdown",
   "id": "b57643a9",
   "metadata": {},
   "source": [
    "Slicing is nothing but it's a way of selecting a subset of data or individual data"
   ]
  },
  {
   "cell_type": "code",
   "execution_count": 28,
   "id": "38b66249",
   "metadata": {},
   "outputs": [
    {
     "data": {
      "text/plain": [
       "array([0, 1, 2, 3, 4, 5, 6, 7])"
      ]
     },
     "execution_count": 28,
     "metadata": {},
     "output_type": "execute_result"
    }
   ],
   "source": [
    "arr=np.arange(8)\n",
    "arr"
   ]
  },
  {
   "cell_type": "markdown",
   "id": "5022cc48",
   "metadata": {},
   "source": [
    "slicing the elements from 1-d array is similar to slicing elements from a list."
   ]
  },
  {
   "cell_type": "code",
   "execution_count": 29,
   "id": "7370cf4f",
   "metadata": {},
   "outputs": [
    {
     "data": {
      "text/plain": [
       "0"
      ]
     },
     "execution_count": 29,
     "metadata": {},
     "output_type": "execute_result"
    }
   ],
   "source": [
    "arr[0]"
   ]
  },
  {
   "cell_type": "code",
   "execution_count": 30,
   "id": "7d271bb4",
   "metadata": {},
   "outputs": [
    {
     "data": {
      "text/plain": [
       "array([0, 1, 2, 3, 4])"
      ]
     },
     "execution_count": 30,
     "metadata": {},
     "output_type": "execute_result"
    }
   ],
   "source": [
    "arr[0:5]"
   ]
  },
  {
   "cell_type": "code",
   "execution_count": 31,
   "id": "5b2938b5",
   "metadata": {},
   "outputs": [
    {
     "data": {
      "text/plain": [
       "array([2, 3])"
      ]
     },
     "execution_count": 31,
     "metadata": {},
     "output_type": "execute_result"
    }
   ],
   "source": [
    "arr[2:4]"
   ]
  },
  {
   "cell_type": "code",
   "execution_count": 2,
   "id": "a77d73ac",
   "metadata": {},
   "outputs": [],
   "source": [
    "import numpy as np\n",
    "arr = np.arange(10)"
   ]
  },
  {
   "cell_type": "code",
   "execution_count": 3,
   "id": "82419211",
   "metadata": {},
   "outputs": [
    {
     "data": {
      "text/plain": [
       "array([0, 1, 2, 3, 4, 5, 6, 7, 8, 9])"
      ]
     },
     "execution_count": 3,
     "metadata": {},
     "output_type": "execute_result"
    }
   ],
   "source": [
    "arr"
   ]
  },
  {
   "cell_type": "code",
   "execution_count": 4,
   "id": "2a67f112",
   "metadata": {},
   "outputs": [
    {
     "data": {
      "text/plain": [
       "array([5, 6, 7])"
      ]
     },
     "execution_count": 4,
     "metadata": {},
     "output_type": "execute_result"
    }
   ],
   "source": [
    "arr[5:8]"
   ]
  },
  {
   "cell_type": "code",
   "execution_count": 5,
   "id": "991230be",
   "metadata": {},
   "outputs": [],
   "source": [
    "arr[5:8]=12"
   ]
  },
  {
   "cell_type": "code",
   "execution_count": 6,
   "id": "a2774927",
   "metadata": {},
   "outputs": [
    {
     "data": {
      "text/plain": [
       "array([ 0,  1,  2,  3,  4, 12, 12, 12,  8,  9])"
      ]
     },
     "execution_count": 6,
     "metadata": {},
     "output_type": "execute_result"
    }
   ],
   "source": [
    "arr"
   ]
  },
  {
   "cell_type": "markdown",
   "id": "e7804338",
   "metadata": {},
   "source": [
    "Note:When we assign a scalar value to a slice, as in arr[5:8] = 12, the value is propagated (or broadcasted henceforth) to the entire selection. An important first distinction from Python’s built-in lists is that array slices are views on the original array.This means that the data is not copied, and any modifications to the view will be reflected in the source array."
   ]
  },
  {
   "cell_type": "code",
   "execution_count": 7,
   "id": "c9282724",
   "metadata": {},
   "outputs": [
    {
     "data": {
      "text/plain": [
       "[6, 7, 8]"
      ]
     },
     "execution_count": 7,
     "metadata": {},
     "output_type": "execute_result"
    }
   ],
   "source": [
    "l1=[1,2,3,4,5,6,7,8,9]\n",
    "l1[5:8]"
   ]
  },
  {
   "cell_type": "code",
   "execution_count": 8,
   "id": "9c053f05",
   "metadata": {
    "scrolled": true
   },
   "outputs": [
    {
     "ename": "TypeError",
     "evalue": "can only assign an iterable",
     "output_type": "error",
     "traceback": [
      "\u001b[1;31m---------------------------------------------------------------------------\u001b[0m",
      "\u001b[1;31mTypeError\u001b[0m                                 Traceback (most recent call last)",
      "\u001b[1;32m<ipython-input-8-160ce8c23dd2>\u001b[0m in \u001b[0;36m<module>\u001b[1;34m\u001b[0m\n\u001b[1;32m----> 1\u001b[1;33m \u001b[0ml1\u001b[0m\u001b[1;33m[\u001b[0m\u001b[1;36m5\u001b[0m\u001b[1;33m:\u001b[0m\u001b[1;36m8\u001b[0m\u001b[1;33m]\u001b[0m\u001b[1;33m=\u001b[0m\u001b[1;36m2\u001b[0m\u001b[1;33m\u001b[0m\u001b[1;33m\u001b[0m\u001b[0m\n\u001b[0m",
      "\u001b[1;31mTypeError\u001b[0m: can only assign an iterable"
     ]
    }
   ],
   "source": [
    "l1[5:8]=2"
   ]
  },
  {
   "cell_type": "code",
   "execution_count": 10,
   "id": "e018ef02",
   "metadata": {},
   "outputs": [],
   "source": [
    "arr_slice=arr[5:8]"
   ]
  },
  {
   "cell_type": "code",
   "execution_count": 11,
   "id": "e4b19fdc",
   "metadata": {},
   "outputs": [],
   "source": [
    "arr_slice[1]=12345"
   ]
  },
  {
   "cell_type": "code",
   "execution_count": 12,
   "id": "0066a401",
   "metadata": {},
   "outputs": [
    {
     "data": {
      "text/plain": [
       "array([   12, 12345,    12])"
      ]
     },
     "execution_count": 12,
     "metadata": {},
     "output_type": "execute_result"
    }
   ],
   "source": [
    "arr_slice"
   ]
  },
  {
   "cell_type": "code",
   "execution_count": 13,
   "id": "0c0b00dc",
   "metadata": {},
   "outputs": [
    {
     "data": {
      "text/plain": [
       "array([    0,     1,     2,     3,     4,    12, 12345,    12,     8,\n",
       "           9])"
      ]
     },
     "execution_count": 13,
     "metadata": {},
     "output_type": "execute_result"
    }
   ],
   "source": [
    "arr"
   ]
  },
  {
   "cell_type": "markdown",
   "id": "9e117c1b",
   "metadata": {},
   "source": [
    "The \"bare” slice [:] will assign to all values in an array:"
   ]
  },
  {
   "cell_type": "code",
   "execution_count": 14,
   "id": "584e2220",
   "metadata": {},
   "outputs": [],
   "source": [
    "arr_slice[:]=1"
   ]
  },
  {
   "cell_type": "code",
   "execution_count": 15,
   "id": "4e5a2d91",
   "metadata": {
    "scrolled": true
   },
   "outputs": [
    {
     "data": {
      "text/plain": [
       "array([0, 1, 2, 3, 4, 1, 1, 1, 8, 9])"
      ]
     },
     "execution_count": 15,
     "metadata": {},
     "output_type": "execute_result"
    }
   ],
   "source": [
    "arr"
   ]
  },
  {
   "cell_type": "code",
   "execution_count": 18,
   "id": "a6ae758a",
   "metadata": {},
   "outputs": [
    {
     "data": {
      "text/plain": [
       "array([[1, 2, 3],\n",
       "       [4, 5, 6],\n",
       "       [7, 8, 9]])"
      ]
     },
     "execution_count": 18,
     "metadata": {},
     "output_type": "execute_result"
    }
   ],
   "source": [
    "arr2d = np.array([[1, 2, 3], [4, 5, 6], [7, 8, 9]])\n",
    "arr2d"
   ]
  },
  {
   "cell_type": "code",
   "execution_count": 21,
   "id": "2a5ae5a2",
   "metadata": {},
   "outputs": [
    {
     "data": {
      "text/plain": [
       "array([1, 2, 3])"
      ]
     },
     "execution_count": 21,
     "metadata": {},
     "output_type": "execute_result"
    }
   ],
   "source": [
    "arr2d[0]"
   ]
  },
  {
   "cell_type": "code",
   "execution_count": 22,
   "id": "a9eadd06",
   "metadata": {
    "scrolled": true
   },
   "outputs": [
    {
     "data": {
      "text/plain": [
       "array([4, 5, 6])"
      ]
     },
     "execution_count": 22,
     "metadata": {},
     "output_type": "execute_result"
    }
   ],
   "source": [
    "arr2d[1]"
   ]
  },
  {
   "cell_type": "code",
   "execution_count": 23,
   "id": "9180c06e",
   "metadata": {},
   "outputs": [
    {
     "data": {
      "text/plain": [
       "array([7, 8, 9])"
      ]
     },
     "execution_count": 23,
     "metadata": {},
     "output_type": "execute_result"
    }
   ],
   "source": [
    "arr2d[2]"
   ]
  },
  {
   "cell_type": "code",
   "execution_count": 24,
   "id": "2b615246",
   "metadata": {},
   "outputs": [
    {
     "data": {
      "text/plain": [
       "7"
      ]
     },
     "execution_count": 24,
     "metadata": {},
     "output_type": "execute_result"
    }
   ],
   "source": [
    "arr2d[2][0]"
   ]
  },
  {
   "cell_type": "code",
   "execution_count": 25,
   "id": "70298fcf",
   "metadata": {},
   "outputs": [
    {
     "data": {
      "text/plain": [
       "7"
      ]
     },
     "execution_count": 25,
     "metadata": {},
     "output_type": "execute_result"
    }
   ],
   "source": [
    "#Another way to get element:\n",
    "arr2d[2,0]"
   ]
  },
  {
   "cell_type": "code",
   "execution_count": 26,
   "id": "47763d84",
   "metadata": {},
   "outputs": [
    {
     "data": {
      "text/plain": [
       "array([[[ 1,  2,  3],\n",
       "        [ 4,  5,  6]],\n",
       "\n",
       "       [[ 7,  8,  9],\n",
       "        [10, 11, 12]]])"
      ]
     },
     "execution_count": 26,
     "metadata": {},
     "output_type": "execute_result"
    }
   ],
   "source": [
    "arr3d = np.array([[[1, 2, 3], [4, 5, 6]], [[7, 8, 9], [10, 11, 12]]])\n",
    "arr3d"
   ]
  },
  {
   "cell_type": "code",
   "execution_count": 27,
   "id": "d4f59738",
   "metadata": {},
   "outputs": [
    {
     "data": {
      "text/plain": [
       "3"
      ]
     },
     "execution_count": 27,
     "metadata": {},
     "output_type": "execute_result"
    }
   ],
   "source": [
    "#Dimensions of error\n",
    "arr3d.ndim"
   ]
  },
  {
   "cell_type": "code",
   "execution_count": 28,
   "id": "f3d45c1b",
   "metadata": {},
   "outputs": [
    {
     "data": {
      "text/plain": [
       "(2, 2, 3)"
      ]
     },
     "execution_count": 28,
     "metadata": {},
     "output_type": "execute_result"
    }
   ],
   "source": [
    "#Shape of array\n",
    "arr3d.shape"
   ]
  },
  {
   "cell_type": "code",
   "execution_count": 29,
   "id": "e06c98b3",
   "metadata": {},
   "outputs": [
    {
     "data": {
      "text/plain": [
       "array([[1, 2, 3],\n",
       "       [4, 5, 6]])"
      ]
     },
     "execution_count": 29,
     "metadata": {},
     "output_type": "execute_result"
    }
   ],
   "source": [
    "#Note:To get or slice 3-d array ,we need to pass three indexes\n",
    "arr3d[0]"
   ]
  },
  {
   "cell_type": "code",
   "execution_count": 30,
   "id": "27d6edda",
   "metadata": {},
   "outputs": [
    {
     "data": {
      "text/plain": [
       "array([[ 7,  8,  9],\n",
       "       [10, 11, 12]])"
      ]
     },
     "execution_count": 30,
     "metadata": {},
     "output_type": "execute_result"
    }
   ],
   "source": [
    "arr3d[1]"
   ]
  },
  {
   "cell_type": "code",
   "execution_count": 33,
   "id": "9641fbca",
   "metadata": {},
   "outputs": [
    {
     "data": {
      "text/plain": [
       "3"
      ]
     },
     "execution_count": 33,
     "metadata": {},
     "output_type": "execute_result"
    }
   ],
   "source": [
    "arr3d[0,0,2]"
   ]
  },
  {
   "cell_type": "code",
   "execution_count": 34,
   "id": "72112627",
   "metadata": {
    "scrolled": true
   },
   "outputs": [
    {
     "data": {
      "text/plain": [
       "12"
      ]
     },
     "execution_count": 34,
     "metadata": {},
     "output_type": "execute_result"
    }
   ],
   "source": [
    "arr3d[1,1,2]"
   ]
  },
  {
   "cell_type": "code",
   "execution_count": 1,
   "id": "c9774790",
   "metadata": {},
   "outputs": [],
   "source": [
    "import numpy as np\n",
    "arr3d=np.array([[1, 2, 3],\n",
    "[4, 5, 6],\n",
    "[7, 8, 9]])"
   ]
  },
  {
   "cell_type": "code",
   "execution_count": 2,
   "id": "15aa2e86",
   "metadata": {},
   "outputs": [
    {
     "data": {
      "text/plain": [
       "array([[1, 2, 3],\n",
       "       [4, 5, 6],\n",
       "       [7, 8, 9]])"
      ]
     },
     "execution_count": 2,
     "metadata": {},
     "output_type": "execute_result"
    }
   ],
   "source": [
    "arr3d\n"
   ]
  },
  {
   "cell_type": "code",
   "execution_count": 4,
   "id": "05f7da22",
   "metadata": {},
   "outputs": [
    {
     "data": {
      "text/plain": [
       "array([1, 2, 3])"
      ]
     },
     "execution_count": 4,
     "metadata": {},
     "output_type": "execute_result"
    }
   ],
   "source": [
    "arr3d[:2][0]"
   ]
  },
  {
   "cell_type": "markdown",
   "id": "4b9bb41c",
   "metadata": {},
   "source": [
    "#Example of Broadcasting"
   ]
  },
  {
   "cell_type": "code",
   "execution_count": 1,
   "id": "fda60561",
   "metadata": {},
   "outputs": [],
   "source": [
    "import numpy as np"
   ]
  },
  {
   "cell_type": "code",
   "execution_count": 2,
   "id": "4f0476b4",
   "metadata": {},
   "outputs": [
    {
     "data": {
      "text/plain": [
       "array([1, 2, 3, 4, 5, 6, 7, 8, 9, 0])"
      ]
     },
     "execution_count": 2,
     "metadata": {},
     "output_type": "execute_result"
    }
   ],
   "source": [
    "arr=np.array([1,2,3,4,5,6,7,8,9,0])\n",
    "arr"
   ]
  },
  {
   "cell_type": "code",
   "execution_count": 3,
   "id": "97c4ae6d",
   "metadata": {},
   "outputs": [
    {
     "data": {
      "text/plain": [
       "array([5, 6, 7, 8])"
      ]
     },
     "execution_count": 3,
     "metadata": {},
     "output_type": "execute_result"
    }
   ],
   "source": [
    "arr_slice=arr[4:8]\n",
    "arr_slice"
   ]
  },
  {
   "cell_type": "code",
   "execution_count": 4,
   "id": "7cd721e1",
   "metadata": {},
   "outputs": [],
   "source": [
    "arr_slice[:]=1"
   ]
  },
  {
   "cell_type": "code",
   "execution_count": 5,
   "id": "291e00d4",
   "metadata": {},
   "outputs": [
    {
     "data": {
      "text/plain": [
       "array([1, 2, 3, 4, 1, 1, 1, 1, 9, 0])"
      ]
     },
     "execution_count": 5,
     "metadata": {},
     "output_type": "execute_result"
    }
   ],
   "source": [
    "arr"
   ]
  },
  {
   "cell_type": "markdown",
   "id": "be670e87",
   "metadata": {},
   "source": [
    "# Some Import for numpy array object:\n",
    "\n",
    "1. ndim: This gives the number of dimensions of the array.\n",
    "\n",
    "2. shape: This gives the size of each dimension of the array:\n",
    "\n",
    "3. size: This gives the number of elements:\n",
    "\n",
    "4. dtype: This gives the datatype of the elements in the array:\n",
    "\n"
   ]
  },
  {
   "cell_type": "code",
   "execution_count": 6,
   "id": "66a07e83",
   "metadata": {},
   "outputs": [
    {
     "data": {
      "text/plain": [
       "1"
      ]
     },
     "execution_count": 6,
     "metadata": {},
     "output_type": "execute_result"
    }
   ],
   "source": [
    "arr.ndim"
   ]
  },
  {
   "cell_type": "code",
   "execution_count": 8,
   "id": "4b835384",
   "metadata": {},
   "outputs": [
    {
     "data": {
      "text/plain": [
       "(10,)"
      ]
     },
     "execution_count": 8,
     "metadata": {},
     "output_type": "execute_result"
    }
   ],
   "source": [
    "arr.shape"
   ]
  },
  {
   "cell_type": "code",
   "execution_count": 9,
   "id": "27846a97",
   "metadata": {},
   "outputs": [
    {
     "data": {
      "text/plain": [
       "10"
      ]
     },
     "execution_count": 9,
     "metadata": {},
     "output_type": "execute_result"
    }
   ],
   "source": [
    "arr.size"
   ]
  },
  {
   "cell_type": "code",
   "execution_count": 10,
   "id": "94d9804b",
   "metadata": {},
   "outputs": [
    {
     "data": {
      "text/plain": [
       "dtype('int32')"
      ]
     },
     "execution_count": 10,
     "metadata": {},
     "output_type": "execute_result"
    }
   ],
   "source": [
    "arr.dtype"
   ]
  },
  {
   "cell_type": "code",
   "execution_count": 11,
   "id": "27bfabd6",
   "metadata": {},
   "outputs": [
    {
     "data": {
      "text/plain": [
       "<function ndarray.transpose>"
      ]
     },
     "execution_count": 11,
     "metadata": {},
     "output_type": "execute_result"
    }
   ],
   "source": [
    "arr.transpose"
   ]
  },
  {
   "cell_type": "code",
   "execution_count": 12,
   "id": "a3065420",
   "metadata": {},
   "outputs": [
    {
     "data": {
      "text/plain": [
       "array([1, 2, 3, 4, 1, 1, 1, 1, 9, 0])"
      ]
     },
     "execution_count": 12,
     "metadata": {},
     "output_type": "execute_result"
    }
   ],
   "source": [
    "arr"
   ]
  },
  {
   "cell_type": "markdown",
   "id": "6286d0d9",
   "metadata": {},
   "source": [
    "# So far we have learnt many thing but now it's time to get your hand dirty with some real stuff. So let's get started:\n",
    "Wine dataset."
   ]
  },
  {
   "cell_type": "code",
   "execution_count": 1,
   "id": "bc1d5ad5",
   "metadata": {},
   "outputs": [],
   "source": [
    "import csv \n",
    "with open(\"winequality-red.csv\", 'r') as f:\n",
    "    wines = list(csv.reader(f, delimiter=\";\"))\n",
    "import numpy as np\n",
    "wine_arr=np.array(wines[1:],dtype=float)"
   ]
  },
  {
   "cell_type": "code",
   "execution_count": 53,
   "id": "ad850e5a",
   "metadata": {},
   "outputs": [
    {
     "data": {
      "text/plain": [
       "[['7.8',\n",
       "  '0.88',\n",
       "  '0',\n",
       "  '2.6',\n",
       "  '0.098',\n",
       "  '25',\n",
       "  '67',\n",
       "  '0.9968',\n",
       "  '3.2',\n",
       "  '0.68',\n",
       "  '9.8',\n",
       "  '5']]"
      ]
     },
     "execution_count": 53,
     "metadata": {},
     "output_type": "execute_result"
    }
   ],
   "source": [
    "wines[1:][1:2]"
   ]
  },
  {
   "cell_type": "code",
   "execution_count": 54,
   "id": "fc466c7a",
   "metadata": {},
   "outputs": [
    {
     "data": {
      "text/plain": [
       "(1599, 12)"
      ]
     },
     "execution_count": 54,
     "metadata": {},
     "output_type": "execute_result"
    }
   ],
   "source": [
    "wine_arr.shape"
   ]
  },
  {
   "cell_type": "code",
   "execution_count": 55,
   "id": "6c57720d",
   "metadata": {},
   "outputs": [
    {
     "data": {
      "text/plain": [
       "2"
      ]
     },
     "execution_count": 55,
     "metadata": {},
     "output_type": "execute_result"
    }
   ],
   "source": [
    "wine_arr.ndim"
   ]
  },
  {
   "cell_type": "code",
   "execution_count": 56,
   "id": "1d800763",
   "metadata": {},
   "outputs": [
    {
     "data": {
      "text/plain": [
       "dtype('float64')"
      ]
     },
     "execution_count": 56,
     "metadata": {},
     "output_type": "execute_result"
    }
   ],
   "source": [
    "wine_arr.dtype"
   ]
  },
  {
   "cell_type": "code",
   "execution_count": 57,
   "id": "847557df",
   "metadata": {},
   "outputs": [
    {
     "data": {
      "text/plain": [
       "array([[ 7.4  ,  0.7  ,  0.   , ...,  0.56 ,  9.4  ,  5.   ],\n",
       "       [ 7.8  ,  0.88 ,  0.   , ...,  0.68 ,  9.8  ,  5.   ],\n",
       "       [ 7.8  ,  0.76 ,  0.04 , ...,  0.65 ,  9.8  ,  5.   ],\n",
       "       ...,\n",
       "       [ 6.3  ,  0.51 ,  0.13 , ...,  0.75 , 11.   ,  6.   ],\n",
       "       [ 5.9  ,  0.645,  0.12 , ...,  0.71 , 10.2  ,  5.   ],\n",
       "       [ 6.   ,  0.31 ,  0.47 , ...,  0.66 , 11.   ,  6.   ]])"
      ]
     },
     "execution_count": 57,
     "metadata": {},
     "output_type": "execute_result"
    }
   ],
   "source": [
    "wine_arr"
   ]
  },
  {
   "cell_type": "markdown",
   "id": "79c308a9",
   "metadata": {},
   "source": [
    "# As we know in array like a list indexing starts with 0. It means your first row index would be 0 in numpy array too."
   ]
  },
  {
   "cell_type": "code",
   "execution_count": 65,
   "id": "ecc6388d",
   "metadata": {},
   "outputs": [
    {
     "data": {
      "text/plain": [
       "7.4"
      ]
     },
     "execution_count": 65,
     "metadata": {},
     "output_type": "execute_result"
    }
   ],
   "source": [
    "wine_arr[0,0] # first element of your array(0,0)"
   ]
  },
  {
   "cell_type": "code",
   "execution_count": 58,
   "id": "60a97398",
   "metadata": {},
   "outputs": [
    {
     "data": {
      "text/plain": [
       "7"
      ]
     },
     "execution_count": 58,
     "metadata": {},
     "output_type": "execute_result"
    }
   ],
   "source": [
    "wine_arr[1,0].astype(int)"
   ]
  },
  {
   "cell_type": "code",
   "execution_count": 67,
   "id": "72ea2a06",
   "metadata": {
    "scrolled": true
   },
   "outputs": [
    {
     "data": {
      "text/plain": [
       "array([7, 7, 7, ..., 6, 5, 6])"
      ]
     },
     "execution_count": 67,
     "metadata": {},
     "output_type": "execute_result"
    }
   ],
   "source": [
    "wine_arr[:,0].astype(int)"
   ]
  },
  {
   "cell_type": "code",
   "execution_count": 61,
   "id": "6690f168",
   "metadata": {},
   "outputs": [],
   "source": [
    "#another way of reading csv or txt file in numpy\n",
    "wines1 = np.genfromtxt(\"winequality-red.csv\", delimiter=\";\", skip_header=1)"
   ]
  },
  {
   "cell_type": "code",
   "execution_count": 63,
   "id": "6c211c9d",
   "metadata": {},
   "outputs": [
    {
     "data": {
      "text/plain": [
       "array([[ 7.4  ,  0.7  ,  0.   , ...,  0.56 ,  9.4  ,  5.   ],\n",
       "       [ 7.8  ,  0.88 ,  0.   , ...,  0.68 ,  9.8  ,  5.   ],\n",
       "       [ 7.8  ,  0.76 ,  0.04 , ...,  0.65 ,  9.8  ,  5.   ],\n",
       "       ...,\n",
       "       [ 6.3  ,  0.51 ,  0.13 , ...,  0.75 , 11.   ,  6.   ],\n",
       "       [ 5.9  ,  0.645,  0.12 , ...,  0.71 , 10.2  ,  5.   ],\n",
       "       [ 6.   ,  0.31 ,  0.47 , ...,  0.66 , 11.   ,  6.   ]])"
      ]
     },
     "execution_count": 63,
     "metadata": {},
     "output_type": "execute_result"
    }
   ],
   "source": [
    "wines1"
   ]
  },
  {
   "cell_type": "markdown",
   "id": "4f5f3e83",
   "metadata": {},
   "source": [
    "\n",
    "# NumPy Array Methods"
   ]
  },
  {
   "cell_type": "code",
   "execution_count": 9,
   "id": "227f927e",
   "metadata": {},
   "outputs": [
    {
     "data": {
      "text/plain": [
       "843.985"
      ]
     },
     "execution_count": 9,
     "metadata": {},
     "output_type": "execute_result"
    }
   ],
   "source": [
    "#sum of values at column level\n",
    "wine_arr[:,1].sum()"
   ]
  },
  {
   "cell_type": "code",
   "execution_count": 14,
   "id": "8d00be96",
   "metadata": {},
   "outputs": [
    {
     "data": {
      "text/plain": [
       "99.69900000000001"
      ]
     },
     "execution_count": 14,
     "metadata": {},
     "output_type": "execute_result"
    }
   ],
   "source": [
    "#sum of values at row level\n",
    "wine_arr[2].sum()"
   ]
  },
  {
   "cell_type": "code",
   "execution_count": 15,
   "id": "00274697",
   "metadata": {},
   "outputs": [
    {
     "data": {
      "text/plain": [
       "array([13303.1    ,   843.985  ,   433.29   ,  4059.55   ,   139.859  ,\n",
       "       25384.     , 74302.     ,  1593.79794,  5294.47   ,  1052.38   ,\n",
       "       16666.35   ,  9012.     ])"
      ]
     },
     "execution_count": 15,
     "metadata": {},
     "output_type": "execute_result"
    }
   ],
   "source": [
    "# sum of values at column level(all columns)\n",
    "wine_arr.sum(axis=0)"
   ]
  },
  {
   "cell_type": "code",
   "execution_count": 12,
   "id": "ae8a6b66",
   "metadata": {},
   "outputs": [
    {
     "data": {
      "text/plain": [
       "array([ 74.5438 , 123.0548 ,  99.699  , ..., 100.48174, 105.21547,\n",
       "        92.49249])"
      ]
     },
     "execution_count": 12,
     "metadata": {},
     "output_type": "execute_result"
    }
   ],
   "source": [
    "#Sum of values at row level.(all rows)\n",
    "wine_arr.sum(axis=1)"
   ]
  },
  {
   "cell_type": "code",
   "execution_count": 5,
   "id": "d37ad725",
   "metadata": {},
   "outputs": [
    {
     "data": {
      "text/plain": [
       "array([13303.1    ,   843.985  ,   433.29   ,  4059.55   ,   139.859  ,\n",
       "       25384.     , 74302.     ,  1593.79794,  5294.47   ,  1052.38   ,\n",
       "       16666.35   ,  9012.     ])"
      ]
     },
     "execution_count": 5,
     "metadata": {},
     "output_type": "execute_result"
    }
   ],
   "source": [
    "# sum of values at column level\n",
    "wine_arr.sum(axis=0)"
   ]
  },
  {
   "cell_type": "markdown",
   "id": "a8661c45",
   "metadata": {},
   "source": [
    "There are lot more methods which can be used to fulfill different objectives.\n",
    "few are below:\n",
    "1. numpy.ndarray.mean — finds the mean of an array.\n",
    "2. numpy.ndarray.std — finds the standard deviation of an array.\n",
    "3. numpy.ndarray.min — finds the minimum value in an array.\n",
    "4. numpy.ndarray.max — finds the maximum value in an array.\n",
    "and list goes on...."
   ]
  },
  {
   "cell_type": "code",
   "execution_count": 16,
   "id": "3f7c91ec",
   "metadata": {},
   "outputs": [
    {
     "data": {
      "text/plain": [
       "array([ 8.31963727,  0.52782051,  0.27097561,  2.5388055 ,  0.08746654,\n",
       "       15.87492183, 46.46779237,  0.99674668,  3.3111132 ,  0.65814884,\n",
       "       10.42298311,  5.63602251])"
      ]
     },
     "execution_count": 16,
     "metadata": {},
     "output_type": "execute_result"
    }
   ],
   "source": [
    "wine_arr.mean(axis=0)"
   ]
  },
  {
   "cell_type": "code",
   "execution_count": 17,
   "id": "b8ba2f8e",
   "metadata": {},
   "outputs": [
    {
     "data": {
      "text/plain": [
       "8.308250000000001"
      ]
     },
     "execution_count": 17,
     "metadata": {},
     "output_type": "execute_result"
    }
   ],
   "source": [
    "wine_arr[2].mean()"
   ]
  },
  {
   "cell_type": "code",
   "execution_count": 18,
   "id": "caf59a23",
   "metadata": {},
   "outputs": [
    {
     "data": {
      "text/plain": [
       "67.0"
      ]
     },
     "execution_count": 18,
     "metadata": {},
     "output_type": "execute_result"
    }
   ],
   "source": [
    "wine_arr[1].max()"
   ]
  },
  {
   "cell_type": "code",
   "execution_count": 20,
   "id": "aab219b4",
   "metadata": {},
   "outputs": [
    {
     "data": {
      "text/plain": [
       "0.0"
      ]
     },
     "execution_count": 20,
     "metadata": {},
     "output_type": "execute_result"
    }
   ],
   "source": [
    "wine_arr[1].min()"
   ]
  },
  {
   "cell_type": "code",
   "execution_count": 22,
   "id": "919f9316",
   "metadata": {},
   "outputs": [],
   "source": [
    "wine_arr_copy=wine_arr[1].copy(order='C')"
   ]
  },
  {
   "cell_type": "code",
   "execution_count": 23,
   "id": "df2d6f69",
   "metadata": {},
   "outputs": [
    {
     "data": {
      "text/plain": [
       "array([ 7.8   ,  0.88  ,  0.    ,  2.6   ,  0.098 , 25.    , 67.    ,\n",
       "        0.9968,  3.2   ,  0.68  ,  9.8   ,  5.    ])"
      ]
     },
     "execution_count": 23,
     "metadata": {},
     "output_type": "execute_result"
    }
   ],
   "source": [
    "wine_arr_copy"
   ]
  },
  {
   "cell_type": "code",
   "execution_count": 32,
   "id": "c8be3063",
   "metadata": {},
   "outputs": [
    {
     "data": {
      "text/plain": [
       "(1, 3, 5, 7, 9, 11)"
      ]
     },
     "execution_count": 32,
     "metadata": {},
     "output_type": "execute_result"
    }
   ],
   "source": [
    "number=()\n",
    "y=list(number)\n",
    "for x in range(15):\n",
    "    y.append(x)\n",
    "number=tuple(y)\n",
    "number[1:12:2]\n",
    "    "
   ]
  },
  {
   "cell_type": "code",
   "execution_count": 35,
   "id": "4139d7b9",
   "metadata": {},
   "outputs": [],
   "source": [
    "Customer1={\"CutomerNo\":1,\"name\":\"Chandra\",\"DOB\":\"03-08-1990\",\"PurchaseAmount\":2500}\n",
    "Customer1[\"PurchaseAmount\"]=25000"
   ]
  },
  {
   "cell_type": "code",
   "execution_count": 36,
   "id": "97b5ebb3",
   "metadata": {
    "scrolled": true
   },
   "outputs": [
    {
     "data": {
      "text/plain": [
       "{'CutomerNo': 1,\n",
       " 'name': 'Chandra',\n",
       " 'DOB': '03-08-1990',\n",
       " 'PurchaseAmount': 25000}"
      ]
     },
     "execution_count": 36,
     "metadata": {},
     "output_type": "execute_result"
    }
   ],
   "source": [
    "Customer1"
   ]
  },
  {
   "cell_type": "code",
   "execution_count": 47,
   "id": "16e6af4c",
   "metadata": {},
   "outputs": [],
   "source": [
    "L1=[]\n",
    "L2=[]\n",
    "for i in Customer1:\n",
    "    L2.append(i)\n",
    "    L1.append(Customer1[i])"
   ]
  },
  {
   "cell_type": "code",
   "execution_count": 46,
   "id": "8532ddbe",
   "metadata": {},
   "outputs": [
    {
     "data": {
      "text/plain": [
       "[1, 'Chandra', '03-08-1990', 25000]"
      ]
     },
     "execution_count": 46,
     "metadata": {},
     "output_type": "execute_result"
    }
   ],
   "source": [
    "L1"
   ]
  },
  {
   "cell_type": "code",
   "execution_count": 48,
   "id": "0acee36b",
   "metadata": {
    "scrolled": true
   },
   "outputs": [
    {
     "data": {
      "text/plain": [
       "['CutomerNo', 'name', 'DOB', 'PurchaseAmount']"
      ]
     },
     "execution_count": 48,
     "metadata": {},
     "output_type": "execute_result"
    }
   ],
   "source": [
    "L2"
   ]
  },
  {
   "cell_type": "code",
   "execution_count": 51,
   "id": "2a4eaa64",
   "metadata": {
    "scrolled": true
   },
   "outputs": [
    {
     "data": {
      "text/plain": [
       "dict_items([('CutomerNo', 1), ('name', 'Chandra'), ('DOB', '03-08-1990'), ('PurchaseAmount', 25000)])"
      ]
     },
     "execution_count": 51,
     "metadata": {},
     "output_type": "execute_result"
    }
   ],
   "source": [
    "Customer1.items()"
   ]
  },
  {
   "cell_type": "code",
   "execution_count": 52,
   "id": "9d805893",
   "metadata": {},
   "outputs": [
    {
     "data": {
      "text/plain": [
       "dict_values([1, 'Chandra', '03-08-1990', 25000])"
      ]
     },
     "execution_count": 52,
     "metadata": {},
     "output_type": "execute_result"
    }
   ],
   "source": [
    "Customer1.values()"
   ]
  },
  {
   "cell_type": "code",
   "execution_count": 53,
   "id": "993dcd07",
   "metadata": {},
   "outputs": [
    {
     "data": {
      "text/plain": [
       "dict_keys(['CutomerNo', 'name', 'DOB', 'PurchaseAmount'])"
      ]
     },
     "execution_count": 53,
     "metadata": {},
     "output_type": "execute_result"
    }
   ],
   "source": [
    "Customer1.keys()"
   ]
  },
  {
   "cell_type": "code",
   "execution_count": 54,
   "id": "185cf6b7",
   "metadata": {},
   "outputs": [
    {
     "name": "stdout",
     "output_type": "stream",
     "text": [
      "CutomerNo 1\n",
      "name Chandra\n",
      "DOB 03-08-1990\n",
      "PurchaseAmount 25000\n"
     ]
    }
   ],
   "source": [
    "for x,y in Customer1.items():\n",
    "    print(x,y)"
   ]
  },
  {
   "cell_type": "markdown",
   "id": "46f35535",
   "metadata": {},
   "source": [
    "# NumPy Array Comparisons\n",
    "comparison operations like <, >, >=, <=, and ==. "
   ]
  },
  {
   "cell_type": "code",
   "execution_count": 57,
   "id": "3679b577",
   "metadata": {
    "scrolled": true
   },
   "outputs": [
    {
     "data": {
      "text/plain": [
       "array([[ 7.4  ,  0.7  ,  0.   , ...,  0.56 ,  9.4  ,  5.   ],\n",
       "       [ 7.8  ,  0.88 ,  0.   , ...,  0.68 ,  9.8  ,  5.   ],\n",
       "       [ 7.8  ,  0.76 ,  0.04 , ...,  0.65 ,  9.8  ,  5.   ],\n",
       "       ...,\n",
       "       [ 6.3  ,  0.51 ,  0.13 , ...,  0.75 , 11.   ,  6.   ],\n",
       "       [ 5.9  ,  0.645,  0.12 , ...,  0.71 , 10.2  ,  5.   ],\n",
       "       [ 6.   ,  0.31 ,  0.47 , ...,  0.66 , 11.   ,  6.   ]])"
      ]
     },
     "execution_count": 57,
     "metadata": {},
     "output_type": "execute_result"
    }
   ],
   "source": [
    "wine_arr"
   ]
  },
  {
   "cell_type": "code",
   "execution_count": 66,
   "id": "0993268f",
   "metadata": {},
   "outputs": [
    {
     "data": {
      "text/plain": [
       "array([False,  True])"
      ]
     },
     "execution_count": 66,
     "metadata": {},
     "output_type": "execute_result"
    }
   ],
   "source": [
    "wine_arr[:2,1]>0.7"
   ]
  },
  {
   "cell_type": "code",
   "execution_count": 68,
   "id": "8ea85630",
   "metadata": {},
   "outputs": [],
   "source": [
    "high_quality_and_alcohol = (wine_arr[:,10] > 10) & (wine_arr[:,11] > 7)"
   ]
  },
  {
   "cell_type": "code",
   "execution_count": 72,
   "id": "21c18cd2",
   "metadata": {},
   "outputs": [
    {
     "name": "stdout",
     "output_type": "stream",
     "text": [
      "[[False False False ... False False False]]\n"
     ]
    }
   ],
   "source": [
    "print(high_quality_and_alcohol[True])"
   ]
  },
  {
   "cell_type": "code",
   "execution_count": 74,
   "id": "547faba9",
   "metadata": {},
   "outputs": [
    {
     "data": {
      "text/plain": [
       "(1599, 12)"
      ]
     },
     "execution_count": 74,
     "metadata": {},
     "output_type": "execute_result"
    }
   ],
   "source": [
    "wine_arr.shape"
   ]
  },
  {
   "cell_type": "code",
   "execution_count": 75,
   "id": "0e76bd76",
   "metadata": {
    "scrolled": true
   },
   "outputs": [
    {
     "data": {
      "text/plain": [
       "array([[7.40000e+00, 7.00000e-01, 0.00000e+00, ..., 6.60000e+00,\n",
       "        5.00000e-01, 1.00000e-02],\n",
       "       [1.50000e+00, 6.00000e-02, 1.70000e+01, ..., 3.30000e+00,\n",
       "        9.60000e-02, 2.60000e+01],\n",
       "       [6.10000e+01, 1.00025e+00, 3.60000e+00, ..., 4.20000e+01,\n",
       "        9.96300e-01, 3.10000e+00],\n",
       "       ...,\n",
       "       [2.30000e+00, 7.60000e-02, 2.30000e+01, ..., 1.70000e+00,\n",
       "        7.50000e-02, 6.00000e+00],\n",
       "       [2.50000e+01, 9.95810e-01, 3.09000e+00, ..., 5.30000e+01,\n",
       "        9.95800e-01, 3.41000e+00],\n",
       "       [6.70000e-01, 9.70000e+00, 5.00000e+00, ..., 6.60000e-01,\n",
       "        1.10000e+01, 6.00000e+00]])"
      ]
     },
     "execution_count": 75,
     "metadata": {},
     "output_type": "execute_result"
    }
   ],
   "source": [
    "wine_arr.reshape(12,1599)"
   ]
  },
  {
   "cell_type": "code",
   "execution_count": 76,
   "id": "917e7896",
   "metadata": {},
   "outputs": [
    {
     "data": {
      "text/plain": [
       "(1599, 12)"
      ]
     },
     "execution_count": 76,
     "metadata": {},
     "output_type": "execute_result"
    }
   ],
   "source": [
    "wine_arr.shape"
   ]
  },
  {
   "cell_type": "code",
   "execution_count": 77,
   "id": "b4bff3fa",
   "metadata": {
    "scrolled": true
   },
   "outputs": [
    {
     "data": {
      "text/plain": [
       "array([[7.40000e+00, 7.00000e-01, 0.00000e+00, ..., 6.60000e+00,\n",
       "        5.00000e-01, 1.00000e-02],\n",
       "       [1.50000e+00, 6.00000e-02, 1.70000e+01, ..., 3.30000e+00,\n",
       "        9.60000e-02, 2.60000e+01],\n",
       "       [6.10000e+01, 1.00025e+00, 3.60000e+00, ..., 4.20000e+01,\n",
       "        9.96300e-01, 3.10000e+00],\n",
       "       ...,\n",
       "       [2.30000e+00, 7.60000e-02, 2.30000e+01, ..., 1.70000e+00,\n",
       "        7.50000e-02, 6.00000e+00],\n",
       "       [2.50000e+01, 9.95810e-01, 3.09000e+00, ..., 5.30000e+01,\n",
       "        9.95800e-01, 3.41000e+00],\n",
       "       [6.70000e-01, 9.70000e+00, 5.00000e+00, ..., 6.60000e-01,\n",
       "        1.10000e+01, 6.00000e+00]])"
      ]
     },
     "execution_count": 77,
     "metadata": {},
     "output_type": "execute_result"
    }
   ],
   "source": [
    "wine_arr.reshape(12,1599)"
   ]
  },
  {
   "cell_type": "code",
   "execution_count": 83,
   "id": "c5174311",
   "metadata": {},
   "outputs": [
    {
     "data": {
      "text/plain": [
       "0.24"
      ]
     },
     "execution_count": 83,
     "metadata": {},
     "output_type": "execute_result"
    }
   ],
   "source": [
    "wine_ra=wine_arr.ravel()\n",
    "wine_ra[1250]"
   ]
  },
  {
   "cell_type": "code",
   "execution_count": 80,
   "id": "428967b9",
   "metadata": {},
   "outputs": [
    {
     "data": {
      "text/plain": [
       "(1599, 12)"
      ]
     },
     "execution_count": 80,
     "metadata": {},
     "output_type": "execute_result"
    }
   ],
   "source": [
    "wine_arr.shape"
   ]
  },
  {
   "cell_type": "markdown",
   "id": "2a2f2918",
   "metadata": {},
   "source": [
    "# Combining NumPy Arrays\n",
    "\n",
    "lets talk about how to combine two arrays."
   ]
  },
  {
   "cell_type": "code",
   "execution_count": 86,
   "id": "0acc580e",
   "metadata": {
    "scrolled": true
   },
   "outputs": [
    {
     "data": {
      "text/plain": [
       "array([[ 7.  ,  0.27,  0.36, ...,  0.45,  8.8 ,  6.  ],\n",
       "       [ 6.3 ,  0.3 ,  0.34, ...,  0.49,  9.5 ,  6.  ],\n",
       "       [ 8.1 ,  0.28,  0.4 , ...,  0.44, 10.1 ,  6.  ],\n",
       "       ...,\n",
       "       [ 6.5 ,  0.24,  0.19, ...,  0.46,  9.4 ,  6.  ],\n",
       "       [ 5.5 ,  0.29,  0.3 , ...,  0.38, 12.8 ,  7.  ],\n",
       "       [ 6.  ,  0.21,  0.38, ...,  0.32, 11.8 ,  6.  ]])"
      ]
     },
     "execution_count": 86,
     "metadata": {},
     "output_type": "execute_result"
    }
   ],
   "source": [
    "wine_white=np.genfromtxt(\"winequality-white.csv\",delimiter=\";\",skip_header=1)\n",
    "wine_white"
   ]
  },
  {
   "cell_type": "code",
   "execution_count": 87,
   "id": "e5e90eba",
   "metadata": {},
   "outputs": [
    {
     "data": {
      "text/plain": [
       "(4898, 12)"
      ]
     },
     "execution_count": 87,
     "metadata": {},
     "output_type": "execute_result"
    }
   ],
   "source": [
    "wine_white.shape"
   ]
  },
  {
   "cell_type": "code",
   "execution_count": 95,
   "id": "967b83ed",
   "metadata": {},
   "outputs": [
    {
     "data": {
      "text/plain": [
       "(1599, 12)"
      ]
     },
     "execution_count": 95,
     "metadata": {},
     "output_type": "execute_result"
    }
   ],
   "source": [
    "wine_arr.shape"
   ]
  },
  {
   "cell_type": "code",
   "execution_count": 92,
   "id": "fc58857a",
   "metadata": {},
   "outputs": [],
   "source": [
    "all_wine=np.vstack((wine_arr,wine_white))"
   ]
  },
  {
   "cell_type": "markdown",
   "id": "ef588985",
   "metadata": {},
   "source": [
    "Note:numpy.vstack to vertically stack multiple arrays. Think of it like the second arrays’s items being added as new rows to the first array. "
   ]
  },
  {
   "cell_type": "code",
   "execution_count": 93,
   "id": "8edbe804",
   "metadata": {},
   "outputs": [
    {
     "data": {
      "text/plain": [
       "(6497, 12)"
      ]
     },
     "execution_count": 93,
     "metadata": {},
     "output_type": "execute_result"
    }
   ],
   "source": [
    "all_wine.shape"
   ]
  },
  {
   "cell_type": "code",
   "execution_count": 96,
   "id": "34f622f6",
   "metadata": {},
   "outputs": [
    {
     "ename": "ValueError",
     "evalue": "all the input array dimensions for the concatenation axis must match exactly, but along dimension 0, the array at index 0 has size 1599 and the array at index 1 has size 4898",
     "output_type": "error",
     "traceback": [
      "\u001b[1;31m---------------------------------------------------------------------------\u001b[0m",
      "\u001b[1;31mValueError\u001b[0m                                Traceback (most recent call last)",
      "\u001b[1;32m<ipython-input-96-39a461b1928d>\u001b[0m in \u001b[0;36m<module>\u001b[1;34m\u001b[0m\n\u001b[1;32m----> 1\u001b[1;33m \u001b[0mall_wine\u001b[0m\u001b[1;33m=\u001b[0m\u001b[0mnp\u001b[0m\u001b[1;33m.\u001b[0m\u001b[0mhstack\u001b[0m\u001b[1;33m(\u001b[0m\u001b[1;33m(\u001b[0m\u001b[0mwine_arr\u001b[0m\u001b[1;33m,\u001b[0m\u001b[0mwine_white\u001b[0m\u001b[1;33m)\u001b[0m\u001b[1;33m)\u001b[0m\u001b[1;33m\u001b[0m\u001b[1;33m\u001b[0m\u001b[0m\n\u001b[0m",
      "\u001b[1;32m<__array_function__ internals>\u001b[0m in \u001b[0;36mhstack\u001b[1;34m(*args, **kwargs)\u001b[0m\n",
      "\u001b[1;32m~\\Anaconda3\\lib\\site-packages\\numpy\\core\\shape_base.py\u001b[0m in \u001b[0;36mhstack\u001b[1;34m(tup)\u001b[0m\n\u001b[0;32m    344\u001b[0m         \u001b[1;32mreturn\u001b[0m \u001b[0m_nx\u001b[0m\u001b[1;33m.\u001b[0m\u001b[0mconcatenate\u001b[0m\u001b[1;33m(\u001b[0m\u001b[0marrs\u001b[0m\u001b[1;33m,\u001b[0m \u001b[1;36m0\u001b[0m\u001b[1;33m)\u001b[0m\u001b[1;33m\u001b[0m\u001b[1;33m\u001b[0m\u001b[0m\n\u001b[0;32m    345\u001b[0m     \u001b[1;32melse\u001b[0m\u001b[1;33m:\u001b[0m\u001b[1;33m\u001b[0m\u001b[1;33m\u001b[0m\u001b[0m\n\u001b[1;32m--> 346\u001b[1;33m         \u001b[1;32mreturn\u001b[0m \u001b[0m_nx\u001b[0m\u001b[1;33m.\u001b[0m\u001b[0mconcatenate\u001b[0m\u001b[1;33m(\u001b[0m\u001b[0marrs\u001b[0m\u001b[1;33m,\u001b[0m \u001b[1;36m1\u001b[0m\u001b[1;33m)\u001b[0m\u001b[1;33m\u001b[0m\u001b[1;33m\u001b[0m\u001b[0m\n\u001b[0m\u001b[0;32m    347\u001b[0m \u001b[1;33m\u001b[0m\u001b[0m\n\u001b[0;32m    348\u001b[0m \u001b[1;33m\u001b[0m\u001b[0m\n",
      "\u001b[1;32m<__array_function__ internals>\u001b[0m in \u001b[0;36mconcatenate\u001b[1;34m(*args, **kwargs)\u001b[0m\n",
      "\u001b[1;31mValueError\u001b[0m: all the input array dimensions for the concatenation axis must match exactly, but along dimension 0, the array at index 0 has size 1599 and the array at index 1 has size 4898"
     ]
    }
   ],
   "source": [
    "all_wine=np.hstack((wine_arr,wine_white))"
   ]
  },
  {
   "cell_type": "markdown",
   "id": "2bbc06e5",
   "metadata": {},
   "source": [
    "If we want to combine arrays horizontally, where the number of rows stay constant, but the columns are joined, \n",
    "then we can use the numpy.hstack function. The arrays we combine need to have the same number of rows for this to work."
   ]
  },
  {
   "cell_type": "raw",
   "id": "56669912",
   "metadata": {},
   "source": [
    "we can use numpy.concatenate as a general purpose version of hstack and vstack. \n",
    "If we want to concatenate two arrays, we pass them into concatenate, \n",
    "then specify the axis keyword argument that we want to concatenate along. \n",
    "Concatenating along the first axis is similar to vstack, and concatenating along the second axis is similar to hstack"
   ]
  },
  {
   "cell_type": "code",
   "execution_count": 97,
   "id": "d856b840",
   "metadata": {},
   "outputs": [],
   "source": [
    "all_wines=np.concatenate((wine_arr,wine_white),axis=0)   # same as vstack"
   ]
  },
  {
   "cell_type": "code",
   "execution_count": 98,
   "id": "28b26d43",
   "metadata": {},
   "outputs": [
    {
     "data": {
      "text/plain": [
       "(6497, 12)"
      ]
     },
     "execution_count": 98,
     "metadata": {},
     "output_type": "execute_result"
    }
   ],
   "source": [
    "all_wines.shape"
   ]
  },
  {
   "cell_type": "code",
   "execution_count": 99,
   "id": "e003e8e8",
   "metadata": {},
   "outputs": [
    {
     "ename": "ValueError",
     "evalue": "all the input array dimensions for the concatenation axis must match exactly, but along dimension 0, the array at index 0 has size 1599 and the array at index 1 has size 4898",
     "output_type": "error",
     "traceback": [
      "\u001b[1;31m---------------------------------------------------------------------------\u001b[0m",
      "\u001b[1;31mValueError\u001b[0m                                Traceback (most recent call last)",
      "\u001b[1;32m<ipython-input-99-66f0e12b4e6f>\u001b[0m in \u001b[0;36m<module>\u001b[1;34m\u001b[0m\n\u001b[1;32m----> 1\u001b[1;33m \u001b[0mall_wines\u001b[0m\u001b[1;33m=\u001b[0m\u001b[0mnp\u001b[0m\u001b[1;33m.\u001b[0m\u001b[0mconcatenate\u001b[0m\u001b[1;33m(\u001b[0m\u001b[1;33m(\u001b[0m\u001b[0mwine_arr\u001b[0m\u001b[1;33m,\u001b[0m\u001b[0mwine_white\u001b[0m\u001b[1;33m)\u001b[0m\u001b[1;33m,\u001b[0m\u001b[0maxis\u001b[0m\u001b[1;33m=\u001b[0m\u001b[1;36m1\u001b[0m\u001b[1;33m)\u001b[0m\u001b[1;33m\u001b[0m\u001b[1;33m\u001b[0m\u001b[0m\n\u001b[0m",
      "\u001b[1;32m<__array_function__ internals>\u001b[0m in \u001b[0;36mconcatenate\u001b[1;34m(*args, **kwargs)\u001b[0m\n",
      "\u001b[1;31mValueError\u001b[0m: all the input array dimensions for the concatenation axis must match exactly, but along dimension 0, the array at index 0 has size 1599 and the array at index 1 has size 4898"
     ]
    }
   ],
   "source": [
    "all_wines=np.concatenate((wine_arr,wine_white),axis=1)"
   ]
  },
  {
   "cell_type": "markdown",
   "id": "1fa71c22",
   "metadata": {},
   "source": [
    "Some More Excercises:"
   ]
  },
  {
   "cell_type": "code",
   "execution_count": null,
   "id": "70e023af",
   "metadata": {},
   "outputs": [],
   "source": []
  }
 ],
 "metadata": {
  "kernelspec": {
   "display_name": "Python 3",
   "language": "python",
   "name": "python3"
  },
  "language_info": {
   "codemirror_mode": {
    "name": "ipython",
    "version": 3
   },
   "file_extension": ".py",
   "mimetype": "text/x-python",
   "name": "python",
   "nbconvert_exporter": "python",
   "pygments_lexer": "ipython3",
   "version": "3.8.8"
  }
 },
 "nbformat": 4,
 "nbformat_minor": 5
}
